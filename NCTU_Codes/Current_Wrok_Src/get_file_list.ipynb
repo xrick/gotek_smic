{
 "cells": [
  {
   "cell_type": "code",
   "execution_count": 40,
   "metadata": {},
   "outputs": [],
   "source": [
    "def getFilesInFloder(folderPath):\n",
    "    onlyfiles = [f for f in listdir(folderPath) if isfile(join(folderPath, f))]\n",
    "    return onlyfiles"
   ]
  },
  {
   "cell_type": "code",
   "execution_count": 41,
   "metadata": {},
   "outputs": [],
   "source": [
    "# print(\"Noise File List (20 files)\")\n",
    "# noisefilespath1 = \"./data/forKriz/Noise/\"\n",
    "# noisefilelist1 = getFilesInFloder(noisefilespath1)\n",
    "# print(len(noisefilelist1))\n",
    "# print(noisefilelist1)\n",
    "# with open(\"./data/forKriz/noisefiles.txt\",\"w\") as fin:\n",
    "#     for file in noisefilelist1:\n",
    "#         fin.write(file)\n",
    "#         fin.write(\"\\n\")"
   ]
  },
  {
   "cell_type": "code",
   "execution_count": null,
   "metadata": {},
   "outputs": [],
   "source": []
  },
  {
   "cell_type": "code",
   "execution_count": null,
   "metadata": {},
   "outputs": [],
   "source": []
  },
  {
   "cell_type": "code",
   "execution_count": null,
   "metadata": {},
   "outputs": [],
   "source": []
  },
  {
   "cell_type": "code",
   "execution_count": 67,
   "metadata": {},
   "outputs": [],
   "source": [
    "import os\n",
    "import sys\n",
    "import numpy as np\n",
    "from os import listdir\n",
    "from os.path import isfile, join\n",
    "import scipy.io as spio\n",
    "import librosa\n",
    "import scipy.io.wavfile as sciwav"
   ]
  },
  {
   "cell_type": "code",
   "execution_count": null,
   "metadata": {},
   "outputs": [],
   "source": []
  },
  {
   "cell_type": "code",
   "execution_count": null,
   "metadata": {},
   "outputs": [],
   "source": []
  },
  {
   "cell_type": "code",
   "execution_count": 44,
   "metadata": {},
   "outputs": [],
   "source": [
    "# sr, stereo_data = librosa.load(test_file)\n",
    "# nparts = 100\n",
    "# part_length = len(stereo_data) // nparts \n",
    "\n",
    "# stereo_parts = numpy.split(stereo_data[:part_length*nparts], nparts)\n",
    "\n",
    "# new_data = numpy.vstack([numpy.zeros((1, 2), dtype=stereo_data.dtype)] +\n",
    "#                         stereo_parts)\n",
    "\n",
    "# sciwav.write('testfile.txt', sr, new_data)"
   ]
  },
  {
   "cell_type": "markdown",
   "metadata": {},
   "source": [
    "# Convert MP3 to WAV"
   ]
  },
  {
   "cell_type": "markdown",
   "metadata": {},
   "source": [
    "## linux command line like following\n",
    "<b>convert to wav: &nbsp;\n",
    "ffmpeg -i foo.mp3 -vn -acodec pcm_s16le -ac 1 -ar 44100 -f wav foo.wav<br /> \n",
    "<b>or\n",
    "<br />mpg123 -w foo.wav foo.mp3"
   ]
  },
  {
   "cell_type": "code",
   "execution_count": 39,
   "metadata": {},
   "outputs": [
    {
     "name": "stdout",
     "output_type": "stream",
     "text": [
      "ffmpeg -i 1 -vn -acodec pcm_s16le -ac 1 -ar 2 -f wav 3\n"
     ]
    }
   ],
   "source": [
    "ffmpeg_mp3_to_wav_cmd = \"ffmpeg -i {mp3} -vn -acodec pcm_s16le -ac 1 -ar {sr} -f wav {wav}\"\n",
    "mpg123_mp3_to_wav_cmd = \"mpg123 -w {wav} {mp3}\""
   ]
  },
  {
   "cell_type": "code",
   "execution_count": 55,
   "metadata": {},
   "outputs": [
    {
     "name": "stdout",
     "output_type": "stream",
     "text": [
      "['插座敲擊.mp3', '拍手2.mp3', '板擦拍敲桌子.mp3', '拍桌子 1.mp3', '拍身體1.mp3', '麥克筆敲擊1.mp3', '拖拉辦公椅.mp3', '敲玻璃.mp3', '腳步聲.mp3', '敲桌子 1.mp3', '窗簾2.mp3', '指敲桌子 1.mp3', '電燈開關.mp3', '銅摩擦聲.mp3', '揉塑膠袋.mp3', '電話按鍵.mp3', '關門聲.mp3', '磁鐵敲擊.mp3', '椅子聲.mp3', '插座開關.mp3']\n"
     ]
    }
   ],
   "source": [
    "noise_mp3_list = getFilesInFloder(\"./data/forKriz/Noise/\")\n",
    "clean_mp3_list = getFilesInFloder(\"./data/forKriz/Clean/\")\n",
    "\n",
    "print(noise_mp3_list)"
   ]
  },
  {
   "cell_type": "code",
   "execution_count": 57,
   "metadata": {},
   "outputs": [],
   "source": [
    "# for nf in clean_mp3_list:\n",
    "#     print(\"processing {}.....\".format(nf))\n",
    "#     command = \"mpg123 -w {wav} {mp3}\".format(wav=\"./data/forKriz/Clean_mp3/\"+nf+\".wav\", \\\n",
    "#                                              mp3=\"./data/forKriz/Clean/\"+nf)\n",
    "#     print(command)\n",
    "#     os.system(command)"
   ]
  },
  {
   "cell_type": "code",
   "execution_count": 58,
   "metadata": {},
   "outputs": [],
   "source": [
    "# for nf in noise_mp3_list:\n",
    "#     print(\"processing {}.....\".format(nf))\n",
    "#     command = \"mpg123 -w {wav} {mp3}\".format(wav=\"./data/forKriz/Noisetest_file = \"./data/noise/Ambient noise/環境音NOISE1.mp3\"_mp3/\"+nf+\".wav\", \\\n",
    "#                                              mp3=\"./data/forKriz/Noise/\"+nf)\n",
    "#     print(command)\n",
    "#     os.system(command)"
   ]
  },
  {
   "cell_type": "markdown",
   "metadata": {},
   "source": [
    "## Comvert mav to dat"
   ]
  },
  {
   "cell_type": "code",
   "execution_count": 96,
   "metadata": {},
   "outputs": [],
   "source": [
    "def MAV2DAT(filename):\n",
    "    audio_array, sr  = librosa.load(filename)\n",
    "    audio_len = len(audio_array)\n",
    "    nparts = 100\n",
    "    part_length = len(audio_array) // nparts \n",
    "    print(\"shape of audio array is {}\".format(audio_array.shape))\n",
    "    \n",
    "    with open(\"./converted_dat/testdat.dat\",\"w\") as fw:\n",
    "        for i in range(audio_len):\n",
    "            fw.write(str(audio_array[i]))\n",
    "            fw.write(\"\\n\")\n",
    "#             start = 1600 * i\n",
    "#             end = 1600 * (i+1)\n",
    "#             fw.write(str(audio_array[start:end]))\n",
    "      \n",
    "        \n"
   ]
  },
  {
   "cell_type": "code",
   "execution_count": 97,
   "metadata": {},
   "outputs": [
    {
     "name": "stdout",
     "output_type": "stream",
     "text": [
      "shape of audio array is (1352320,)\n"
     ]
    }
   ],
   "source": [
    "test_file = \"./data/forKriz/Clean/ABJones_1_lyrics.wav\"\n",
    "MAV2DAT(test_file)"
   ]
  },
  {
   "cell_type": "code",
   "execution_count": null,
   "metadata": {},
   "outputs": [],
   "source": []
  }
 ],
 "metadata": {
  "kernelspec": {
   "display_name": "Python 3",
   "language": "python",
   "name": "python3"
  },
  "language_info": {
   "codemirror_mode": {
    "name": "ipython",
    "version": 3
   },
   "file_extension": ".py",
   "mimetype": "text/x-python",
   "name": "python",
   "nbconvert_exporter": "python",
   "pygments_lexer": "ipython3",
   "version": "3.7.6"
  }
 },
 "nbformat": 4,
 "nbformat_minor": 2
}
