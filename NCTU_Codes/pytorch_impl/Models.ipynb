{
 "cells": [
  {
   "cell_type": "code",
   "execution_count": 54,
   "metadata": {},
   "outputs": [],
   "source": [
    "import torch\n",
    "from torch import nn\n",
    "import torch.optim as optim\n",
    "import scipy.io as spio"
   ]
  },
  {
   "cell_type": "markdown",
   "metadata": {},
   "source": [
    "## Define DNN Model"
   ]
  },
  {
   "cell_type": "code",
   "execution_count": null,
   "metadata": {},
   "outputs": [],
   "source": [
    "class DNN(nn.Module, config=None):\n",
    "    \n",
    "    def __init__(self):\n",
    "        super().__init__()\n",
    "        self.learning_rate=0.005\n",
    "        self.batch_size=128\n",
    "        self.n_band = 40\n",
    "        self.n_hidden1 = 512\n",
    "        self.n_hidden2 = 32\n",
    "        self.n_classes = 2\n",
    "        self.EPOCHES=18000\n",
    "        self.input_layer = nn.Linear(n_band,n_hidden1)\n",
    "        self.hidden_layer = nn.Linear(n_hidden1,n_hidden2)\n",
    "        self.output_layer = nn.Linear(n_hidden2,n_classes)\n",
    "        self.activation_fun = nn.ReLU(inplace=False)\n",
    "        self.criterion = nn.CrossEntropyLoss(reduction='mean') \n",
    "        \n",
    "    def forward(self,x):\n",
    "        x = self.input_layer(x)\n",
    "        x = self.activation_fun(x)\n",
    "        x = self.hidden_layer(x)\n",
    "        x = self.activation_fun(x)\n",
    "        x = self.output_layer(x)\n",
    "        return x\n",
    "        \n",
    "    "
   ]
  },
  {
   "cell_type": "markdown",
   "metadata": {},
   "source": [
    "## change 1D to 2D"
   ]
  },
  {
   "cell_type": "code",
   "execution_count": null,
   "metadata": {},
   "outputs": [],
   "source": [
    "def datachange(input):\n",
    "    out = []\n",
    "    for i in range(len(input)):\n",
    "        if input[i] == 0:\n",
    "            out.append([1, 0])\n",
    "        else:\n",
    "            out.append([0, 1])\n",
    "    return out"
   ]
  },
  {
   "cell_type": "code",
   "execution_count": 59,
   "metadata": {},
   "outputs": [],
   "source": [
    "def Train():\n",
    "    # load mat file\n",
    "    x, y = load_data()\n",
    "    print(\"type of x is {}, type of y is {}\".format(type(x), type(y)))\n",
    "    \n",
    "    "
   ]
  },
  {
   "cell_type": "code",
   "execution_count": 60,
   "metadata": {},
   "outputs": [],
   "source": [
    "def load_data():\n",
    "    train_all = spio.loadmat('../train_data/8+2band(25ms)/train_1106a_sharp_12.mat')\n",
    "    x_train = train_all['x_data']\n",
    "\n",
    "    train_label = spio.loadmat('../train_label/8+2band(25ms)/label_1106a_sharp_12.mat')\n",
    "    y_train = train_label['y_data']\n",
    "    x_train_tensors = torch.from_numpy(x_train)\n",
    "    y_label_tensors = torch.from_numpy(y_train[0])\n",
    "    return x_train_tensors, y_label_tensors"
   ]
  },
  {
   "cell_type": "code",
   "execution_count": 61,
   "metadata": {},
   "outputs": [
    {
     "name": "stdout",
     "output_type": "stream",
     "text": [
      "type of x is <class 'torch.Tensor'>, type of y is <class 'torch.Tensor'>\n"
     ]
    }
   ],
   "source": [
    "if __name__ == \"__main__\":\n",
    "    Train()"
   ]
  },
  {
   "cell_type": "markdown",
   "metadata": {},
   "source": [
    "## Reference Codes"
   ]
  },
  {
   "cell_type": "code",
   "execution_count": null,
   "metadata": {},
   "outputs": [],
   "source": [
    "\"\"\"\n",
    "def trainProcessEntry():\n",
    "\n",
    "    train_all = spio.loadmat('train_data/8+2band(25ms)/train_1106a_sharp_12.mat')\n",
    "    x_train = train_all['x_data']\n",
    "    train_label = spio.loadmat('train_label/8+2band(25ms)/label_1106a_sharp_12.mat')\n",
    "    y_train = train_label['y_data']\n",
    "    y_train = y_train[0]\n",
    "\n",
    "    y_train = datachange(y_train)\n",
    "    # Parameters\n",
    "    learning_rate = 0.01\n",
    "    batch_size = 128\n",
    "    n_band = 40\n",
    "    n_hidden1 = 512\n",
    "    n_hidden2 = 32\n",
    "    n_classes = 2\n",
    "    EPOCHES = 16001\n",
    "\n",
    "    # initial the tf Graph input\n",
    "    x = tf.placeholder(tf.float32, [None, n_band])\n",
    "    #initial the tf Graph output\n",
    "    y = tf.placeholder(tf.float32, [None, n_classes])\n",
    "\n",
    "    # initial the weights\n",
    "    weights = {\n",
    "        'hidden1': tf.Variable(tf.random_normal([n_band, n_hidden1], dtype=tf.float32, stddev=0.1)),\n",
    "        'hidden2': tf.Variable(tf.random_normal([n_hidden1, n_hidden2], dtype=tf.float32, stddev=0.1)),\n",
    "        'out': tf.Variable(tf.random_normal([n_hidden2, n_classes], dtype=tf.float32, stddev=0.1))\n",
    "    }\n",
    "    biases = {\n",
    "        'hidden1': tf.Variable(tf.zeros([n_hidden1], dtype=tf.float32)),\n",
    "        'hidden2': tf.Variable(tf.zeros([n_hidden2], dtype=tf.float32)),\n",
    "        'out': tf.Variable(tf.zeros([n_classes], dtype=tf.float32))\n",
    "    }\n",
    "\n",
    "    # define training computation procedure\n",
    "    x1 = tf.nn.relu(tf.add(tf.matmul(x, weights['hidden1']),biases['hidden1']))\n",
    "    x2 = tf.nn.relu(tf.add(tf.matmul(x1, weights['hidden2']),biases['hidden2']))\n",
    "    pred = tf.add(tf.matmul(x2,weights['out']),biases['out'])\n",
    "    cost = tf.reduce_mean(tf.nn.softmax_cross_entropy_with_logits_v2(logits=pred,labels=y))\n",
    "    train_step = tf.train.GradientDescentOptimizer(learning_rate).minimize(cost)\n",
    "    correct_prediction = tf.equal(tf.argmax(pred, 1), tf.argmax(y, 1))\n",
    "    accuracy = tf.reduce_mean(tf.cast(correct_prediction, tf.float32))\n",
    "\n",
    "    #initial used data structures\n",
    "    error_train = []\n",
    "    error_test = []\n",
    "    weight1 = []\n",
    "    weight2 = []\n",
    "    weight3 = []\n",
    "    bias1 = []\n",
    "    bias2 = []\n",
    "    bias3 = []\n",
    "    init = tf.global_variables_initializer()\n",
    "    saver = tf.train.Saver()\n",
    "    with tf.Session() as sess:\n",
    "        sess.run(init)\n",
    "\n",
    "\n",
    "\n",
    "        for epoch in range(EPOCHES):\n",
    "            for step in range(100):\n",
    "                x_n, y_n = next_batch(batch_size, x_train, y_train)\n",
    "                sess.run(train_step, feed_dict={x: x_n, y: y_n})\n",
    "                acc = sess.run(accuracy, feed_dict={x: x_train, y: y_train})\n",
    "                print(\"epoch\", epoch)\n",
    "                print(\"train : \", acc)\n",
    "                error_train.append(acc)\n",
    "\n",
    "        weight1 = weights['hidden1'].eval(sess)\n",
    "        weight2 = weights['hidden2'].eval(sess)\n",
    "        weight3 = weights['out'].eval(sess)\n",
    "        bias1 = biases['hidden1'].eval(sess)\n",
    "        bias2 = biases['hidden2'].eval(sess)\n",
    "        bias3 = biases['out'].eval(sess)\n",
    "        saver.save(sess, \"vad_512_model\")\n",
    "        print(\"Training Finished........\")\n",
    "        print(\"The lenth of wight1 is {}\".format(len(weight1)))\n",
    "        print(\"The lenth of wight2 is {}\".format(len(weight2)))\n",
    "        print(\"The lenth of wight1 is {}\".format(len(weight3)))\n",
    "\n",
    "        print(\"Writing out parameters to w_20200106_h1_512_ep20000\")\n",
    "        spio.savemat('weight/8+2band(25ms)/w_20200106_h1_512_ep20000.mat',\n",
    "                     {'w1': weight1, 'w2': weight2, 'w3': weight3, 'b1': bias1, 'b2': bias2, 'b3': bias3})\n",
    "\n",
    "    plt.plot(range(len(error_train)), error_train, 'b', label='Training accuracy')\n",
    "    plt.title('accuracy')\n",
    "    plt.xlabel('epoch', fontsize=16)\n",
    "    plt.ylabel('accuracy', fontsize=16)\n",
    "    plt.legend()\n",
    "    plt.figure()\n",
    "    plt.show()\n",
    "    \n",
    "   ####################################################################\n",
    "   \n",
    "   model = nn.Sequential(nn.Linear(784, 128),\n",
    "                      nn.ReLU(),\n",
    "                      nn.Linear(128, 64),\n",
    "                      nn.ReLU(),\n",
    "                      nn.Linear(64, 10),\n",
    "                      nn.LogSoftmax(dim=1))\n",
    "# Define the loss\n",
    "criterion = nn.NLLLoss()\n",
    "# Optimizers require the parameters to optimize and a learning rate\n",
    "optimizer = optim.SGD(model.parameters(), lr=0.003)\n",
    "epochs = 5\n",
    "for e in range(epochs):\n",
    "    running_loss = 0\n",
    "    for images, labels in trainloader:\n",
    "        # Flatten MNIST images into a 784 long vector\n",
    "        images = images.view(images.shape[0], -1)\n",
    "    \n",
    "        # Training pass\n",
    "        optimizer.zero_grad()\n",
    "        \n",
    "        output = model(images)\n",
    "        loss = criterion(output, labels)\n",
    "        loss.backward()\n",
    "        optimizer.step()\n",
    "        \n",
    "        running_loss += loss.item()\n",
    "    else:\n",
    "        print(f\"Training loss: {running_loss/len(trainloader)}\")\n",
    "    \n",
    "\"\"\""
   ]
  },
  {
   "cell_type": "code",
   "execution_count": null,
   "metadata": {},
   "outputs": [],
   "source": []
  }
 ],
 "metadata": {
  "kernelspec": {
   "display_name": "Python 3",
   "language": "python",
   "name": "python3"
  },
  "language_info": {
   "codemirror_mode": {
    "name": "ipython",
    "version": 3
   },
   "file_extension": ".py",
   "mimetype": "text/x-python",
   "name": "python",
   "nbconvert_exporter": "python",
   "pygments_lexer": "ipython3",
   "version": "3.7.6"
  }
 },
 "nbformat": 4,
 "nbformat_minor": 2
}
