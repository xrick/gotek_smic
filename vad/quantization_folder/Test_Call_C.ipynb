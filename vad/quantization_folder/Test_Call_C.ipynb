{
 "cells": [
  {
   "cell_type": "code",
   "execution_count": 1,
   "metadata": {},
   "outputs": [],
   "source": [
    "import scipy.io.wavfile as wavio\n",
    "import pathlib\n",
    "import ctypes\n",
    "from numpy.ctypeslib import ndpointer\n",
    "import numpy as np"
   ]
  },
  {
   "cell_type": "code",
   "execution_count": 2,
   "metadata": {},
   "outputs": [],
   "source": [
    "# test_wav = \"./Audio_KzWAV_1.wav\"\n",
    "# sr, sig = wavio.read(test_wav)\n",
    "# print(len(sig))"
   ]
  },
  {
   "cell_type": "code",
   "execution_count": 3,
   "metadata": {},
   "outputs": [],
   "source": [
    "lib_path = \"./libfft.so\"\n",
    "lib = ctypes.cdll.LoadLibrary(\"./libfft.so\")\n",
    "fun = lib.get_footprint\n",
    "fun.restype = None\n",
    "fun.argtypes = [ndpointer(ctypes.c_int32, flags=\"C_CONTIGUOUS\"),\n",
    "                ctypes.c_size_t,\n",
    "                ndpointer(ctypes.c_float, flags=\"C_CONTIGUOUS\")\n",
    "                ]"
   ]
  },
  {
   "cell_type": "code",
   "execution_count": 8,
   "metadata": {
    "scrolled": false
   },
   "outputs": [
    {
     "name": "stdout",
     "output_type": "stream",
     "text": [
      "10\n",
      "15.185382\n",
      "13.249984\n",
      "13.238096\n",
      "12.247096\n",
      "11.919717\n",
      "11.597075\n",
      "11.441957\n",
      "11.606107\n",
      "11.841763\n",
      "11.516234\n"
     ]
    },
    {
     "name": "stderr",
     "output_type": "stream",
     "text": [
      "/home/user/.conda/envs/pytorchenv151/lib/python3.7/site-packages/ipykernel_launcher.py:2: WavFileWarning: Reached EOF prematurely; finished at 320044 bytes, expected 320052 bytes from header.\n",
      "  \n"
     ]
    }
   ],
   "source": [
    "test_wav = \"./Audio_KzWAV_1.wav\"\n",
    "sr, sig = wavio.read(test_wav)\n",
    "part_sig = np.array(sig[5000:6024], dtype=np.int32)\n",
    "outdata = np.empty((10),dtype=np.float32)\n",
    "# for k in part_sig:\n",
    "#     print(k)\n",
    "# angles = np.array([32768, 19344, 10221,  5188,  2604, 1303, 652, 326, 163, 81, 41, 20, 10, 5, 3, 1],dtype=np.int16)\n",
    "# fft_array = c_fft.lib.fft_func(part_sig,16)\n",
    "fun(part_sig, 10, outdata)\n",
    "print(len(outdata))\n",
    "for ii in outdata:\n",
    "    print(ii)"
   ]
  },
  {
   "cell_type": "code",
   "execution_count": null,
   "metadata": {},
   "outputs": [],
   "source": []
  }
 ],
 "metadata": {
  "kernelspec": {
   "display_name": "Python 3",
   "language": "python",
   "name": "python3"
  },
  "language_info": {
   "codemirror_mode": {
    "name": "ipython",
    "version": 3
   },
   "file_extension": ".py",
   "mimetype": "text/x-python",
   "name": "python",
   "nbconvert_exporter": "python",
   "pygments_lexer": "ipython3",
   "version": "3.7.7"
  }
 },
 "nbformat": 4,
 "nbformat_minor": 4
}
