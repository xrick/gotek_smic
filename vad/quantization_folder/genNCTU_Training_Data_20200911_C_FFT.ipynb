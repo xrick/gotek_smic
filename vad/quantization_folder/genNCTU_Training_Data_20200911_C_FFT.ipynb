{
 "cells": [
  {
   "cell_type": "code",
   "execution_count": 3,
   "metadata": {},
   "outputs": [],
   "source": [
    "import sys\n",
    "import soundfile as sf\n",
    "import librosa\n",
    "import os\n",
    "from os import path\n",
    "from os import listdir\n",
    "from os.path import isfile, isdir, join\n",
    "import numpy as np\n",
    "import scipy.io as spio\n",
    "import scipy.io.wavfile as sciwav\n",
    "from tqdm import tqdm\n",
    "import json\n",
    "from utils import get_recursive_files\n",
    "import pathlib\n",
    "import ctypes\n",
    "from numpy.ctypeslib import ndpointer"
   ]
  },
  {
   "cell_type": "code",
   "execution_count": 56,
   "metadata": {},
   "outputs": [],
   "source": [
    "lib_path = \"./libfft.so\"\n",
    "lib = ctypes.cdll.LoadLibrary(\"./libfft.so\")\n",
    "fun = lib.get_footprint\n",
    "fun.restype = None\n",
    "fun.argtypes = [ndpointer(ctypes.c_int32, flags=\"C_CONTIGUOUS\"),\n",
    "                ctypes.c_size_t,\n",
    "                ndpointer(ctypes.c_float, flags=\"C_CONTIGUOUS\")]"
   ]
  },
  {
   "cell_type": "code",
   "execution_count": 5,
   "metadata": {},
   "outputs": [],
   "source": [
    "def getFilesInFloder(folderPath):\n",
    "    onlyfiles = [f for f in listdir(folderPath) if isfile(join(folderPath, f))]\n",
    "    return onlyfiles\n",
    "\n",
    "def getDirsInFolder(baseDirPath):\n",
    "    onlySubDirs = [d for d in listdir(baseDirPath) if isdir(join(baseDirPath, d))]\n",
    "    return onlySubDirs"
   ]
  },
  {
   "cell_type": "code",
   "execution_count": 126,
   "metadata": {},
   "outputs": [],
   "source": [
    "def read_and_convert_wav_to_16K_SR(wav_file):\n",
    "    try:\n",
    "        std_sr = 16000\n",
    "        sr, sig = sciwav.read(wav_file)\n",
    "        if sig.shape[0] < sig.size:\n",
    "            sig = sig[0]\n",
    "            print(\"\\n{} is channel 2\".format(wav_file))\n",
    "        return sig.astype(np.int32)\n",
    "    except:\n",
    "        print(\"Error occured in read and convert wav to ndarray in file {}\".format(wav_file))"
   ]
  },
  {
   "cell_type": "code",
   "execution_count": 7,
   "metadata": {},
   "outputs": [],
   "source": [
    "# def read_and_convert_wav_to_16K_SR(wav_file):\n",
    "#     sig, sr = librosa.load(wav_file, mono=True, sr=16000)\n",
    "#     return sig"
   ]
  },
  {
   "cell_type": "code",
   "execution_count": 8,
   "metadata": {},
   "outputs": [],
   "source": [
    "class NumpyEncoder(json.JSONEncoder):\n",
    "    \"\"\" Special json encoder for numpy types \"\"\"\n",
    "    def default(self, obj):\n",
    "        if isinstance(obj, (np.int_, np.intc, np.intp, np.int8,\n",
    "            np.int16, np.int32, np.int64, np.uint8,\n",
    "            np.uint16, np.uint32, np.uint64)):\n",
    "            return int(obj)\n",
    "        elif isinstance(obj, (np.float_, np.float16, np.float32, \n",
    "            np.float64)):\n",
    "            return float(obj)\n",
    "        elif isinstance(obj,(np.ndarray,)): #### This is the fix\n",
    "            return obj.tolist()\n",
    "        return json.JSONEncoder.default(self, obj)"
   ]
  },
  {
   "cell_type": "code",
   "execution_count": 9,
   "metadata": {},
   "outputs": [],
   "source": [
    "middleFreq = [16, 20, 26, 36, 48, 60, 80, 101, 256, 353]\n",
    "inband = 4\n",
    "bandnum_ = 10\n",
    "y_length_=513\n",
    "def genICFilterMatrix(bandnum, y_length, mid_freq_matrix):\n",
    "    ret_icfilter = np.zeros((bandnum, y_length),dtype=float)\n",
    "    for i in range(bandnum):\n",
    "        if i == 8:\n",
    "            for j in range(y_length):\n",
    "                ret_icfilter[i][j]=10**((-360*abs(np.log10(15.625*(j)+1)-np.log10(15.625*(mid_freq_matrix[i]-1))))/20)\n",
    "        elif i == 9:\n",
    "            for j in range(y_length):\n",
    "                ret_icfilter[i][j]=10**((-360*abs(np.log10(15.625*(j)+1)-np.log10(15.625*(mid_freq_matrix[i]-1))))/20)\n",
    "        else:\n",
    "            for j in range(y_length):\n",
    "                ret_icfilter[i][j]=10**((-20*12*abs(np.log10(15.625*(j)+1)-np.log10(15.625*(mid_freq_matrix[i]-1))))/20)\n",
    "    \n",
    "    return ret_icfilter"
   ]
  },
  {
   "cell_type": "code",
   "execution_count": 7,
   "metadata": {},
   "outputs": [],
   "source": [
    "def gen_reduced_icfb_from_FB(ic_filter, cut_portion):\n",
    "    save_path = \"./icfb_output/reduced_icfb_20200806.mat\"\n",
    "    if not os.path.exists(\"./icfb_output\"):\n",
    "        os.mkdir(\"./icfb_output\")\n",
    "    new_array = np.zeros((10,513))\n",
    "    len_row = ic_filter.shape[0]\n",
    "    len_col = ic_filter.shape[1]\n",
    "    for i in range(len_row):\n",
    "        for j in range(len_col):\n",
    "            if ic_filter[i][j] < cut_portion:\n",
    "                new_array[i][j] = 0.0\n",
    "            else:\n",
    "                new_array[i][j] = ic_filter[i][j]\n",
    "    new_dict = {\"icfb\":new_array}\n",
    "    spio.savemat(save_path, new_dict, oned_as='col')\n",
    "    return new_array"
   ]
  },
  {
   "cell_type": "code",
   "execution_count": null,
   "metadata": {},
   "outputs": [],
   "source": []
  },
  {
   "cell_type": "code",
   "execution_count": 8,
   "metadata": {},
   "outputs": [],
   "source": [
    "# _icfb = genICFilterMatrix(bandnum_, y_length_, middleFreq)\n",
    "# icfb_dict = {\"icfb\":_icfb}\n",
    "# spio.savemat(\"./MainSrc/Drawing/melfb_output/icfb2.mat\",icfb_dict,oned_as='col')"
   ]
  },
  {
   "cell_type": "code",
   "execution_count": 12,
   "metadata": {},
   "outputs": [],
   "source": [
    "# melfb = spio.loadmat(\"./MainSrc/Drawing/melfb_output/fb_a_prime.mat\")[\"melfb\"]\n",
    "lbl_len=513\n",
    "sample_num = 40\n",
    "# def gen_1x40_dimension_mat_array(s1,s2,s3,s4):\n",
    "#     s_fft_1 = np.fft.fft(s1,n=1024,axis=0) \n",
    "#     s_fft_2 = np.fft.fft(s2,n=1024,axis=0) \n",
    "#     s_fft_3 = np.fft.fft(s3,n=1024,axis=0) \n",
    "#     s_fft_4 = np.fft.fft(s4,n=1024,axis=0) \n",
    "\n",
    "#     s_fft_1_513 = np.split(s_fft_1,[0,513],axis=0)[1]\n",
    "#     s_fft_2_513 = np.split(s_fft_2,[0,513],axis=0)[1]\n",
    "#     s_fft_3_513 = np.split(s_fft_3,[0,513],axis=0)[1]\n",
    "#     s_fft_4_513 = np.split(s_fft_4,[0,513],axis=0)[1]\n",
    "    \n",
    "#     # there is one error element in every array in position 9 of each array\n",
    "#     x1 = np.log(np.matmul(melfb,(np.abs(s_fft_1_513)**2)) + 0.00000001)\n",
    "#     x2 = np.log(np.matmul(melfb,(np.abs(s_fft_2_513)**2)) + 0.00000001)\n",
    "#     x3 = np.log(np.matmul(melfb,(np.abs(s_fft_3_513)**2)) + 0.00000001)\n",
    "#     x4 = np.log(np.matmul(melfb,(np.abs(s_fft_4_513)**2)) + 0.00000001)\n",
    "    \n",
    "#     x= np.array([x1,x2,x3,x4],dtype=\"double\").reshape(1,sample_num)\n",
    "#     x_40 = x[0:40]\n",
    "    \n",
    "#     max_ele = np.amax(x_40,axis=1)\n",
    "#     min_ele = np.amin(x_40,axis=1)\n",
    "#     sum_of_x = np.sum(x_40)\n",
    "    \n",
    "#     x_normalize = (x_40-min_ele)/(max_ele-min_ele+0.0001)\n",
    "#     return x_normalize"
   ]
  },
  {
   "cell_type": "code",
   "execution_count": 44,
   "metadata": {},
   "outputs": [
    {
     "name": "stdout",
     "output_type": "stream",
     "text": [
      "(6,)\n",
      "[1 2 3 4 5 6 0 0 0 0 0 0 0 0 0 0 0 0 0 0 0 0 0 0 0 0 0 0 0 0 0 0 0 0 0 0 0\n",
      " 0 0 0 0 0 0 0 0 0 0 0 0 0 0 0 0 0 0 0 0 0 0 0 0 0 0 0 0 0 0 0 0 0 0 0 0 0\n",
      " 0 0 0 0 0 0 0 0 0 0 0 0 0 0 0 0 0 0 0 0 0 0 0 0 0 0 0 0 0 0 0 0 0 0 0 0 0\n",
      " 0 0 0 0 0 0 0 0 0 0 0 0 0 0 0 0 0 0 0 0 0 0 0 0 0 0 0 0 0 0 0 0 0 0 0 0 0\n",
      " 0 0 0 0 0 0 0 0 0 0 0 0 0 0 0 0 0 0 0 0 0 0 0 0 0 0 0 0 0 0 0 0 0 0 0 0 0\n",
      " 0 0 0 0 0 0 0 0 0 0 0 0 0 0 0 0 0 0 0 0 0 0 0 0 0 0 0 0 0 0 0 0 0 0 0 0 0\n",
      " 0 0 0 0 0 0 0 0 0 0 0 0 0 0 0 0 0 0 0 0 0 0 0 0 0 0 0 0 0 0 0 0 0 0 0 0 0\n",
      " 0 0 0 0 0 0 0 0 0 0 0 0 0 0 0 0 0 0 0 0 0 0 0 0 0 0 0 0 0 0 0 0 0 0 0 0 0\n",
      " 0 0 0 0 0 0 0 0 0 0 0 0 0 0 0 0 0 0 0 0 0 0 0 0 0 0 0 0 0 0 0 0 0 0 0 0 0\n",
      " 0 0 0 0 0 0 0 0 0 0 0 0 0 0 0 0 0 0 0 0 0 0 0 0 0 0 0 0 0 0 0 0 0 0 0 0 0\n",
      " 0 0 0 0 0 0 0 0 0 0 0 0 0 0 0 0 0 0 0 0 0 0 0 0 0 0 0 0 0 0 0 0 0 0 0 0 0\n",
      " 0 0 0 0 0 0 0 0 0 0 0 0 0 0 0 0 0 0 0 0 0 0 0 0 0 0 0 0 0 0 0 0 0 0 0 0 0\n",
      " 0 0 0 0 0 0 0 0 0 0 0 0 0 0 0 0 0 0 0 0 0 0 0 0 0 0 0 0 0 0 0 0 0 0 0 0 0\n",
      " 0 0 0 0 0 0 0 0 0 0 0 0 0 0 0 0 0 0 0 0 0 0 0 0 0 0 0 0 0 0 0 0 0 0 0 0 0\n",
      " 0 0 0 0 0 0 0 0 0 0 0 0 0 0 0 0 0 0 0 0 0 0 0 0 0 0 0 0 0 0 0 0 0 0 0 0 0\n",
      " 0 0 0 0 0 0 0 0 0 0 0 0 0 0 0 0 0 0 0 0 0 0 0 0 0 0 0 0 0 0 0 0 0 0 0 0 0\n",
      " 0 0 0 0 0 0 0 0 0 0 0 0 0 0 0 0 0 0 0 0 0 0 0 0 0 0 0 0 0 0 0 0 0 0 0 0 0\n",
      " 0]\n"
     ]
    }
   ],
   "source": [
    "tmp_len= 1024-400\n",
    "padding_zeros_2 = np.array(np.zeros(tmp_len,dtype=np.int))\n",
    "ori_ary = np.array([1,2,3,4,5,6])\n",
    "print(ori_ary.shape)\n",
    "# tmp_ary = np.array(10,dtype=np.int)\n",
    "# tmp = np.random.rand(np.random.randint(1, 100))\n",
    "ori_ary.resize(len(ori_ary) + tmp_len) # <- ret is not referred to by anything else,\n",
    "                                    #    so this works\n",
    "ori_ary[-tmp_len:] = padding_zeros_2\n",
    "print(ori_ary)"
   ]
  },
  {
   "cell_type": "code",
   "execution_count": 47,
   "metadata": {},
   "outputs": [],
   "source": [
    "def padding_ndarray(ori_ary, padding_ary, size):\n",
    "    ret_ary = np.resize(ori_ary,new_shape=len(ori_ary) + size)\n",
    "    ret_ary[-size:] = padding_ary\n",
    "    return ret_ary"
   ]
  },
  {
   "cell_type": "code",
   "execution_count": 68,
   "metadata": {},
   "outputs": [],
   "source": [
    "def test_padding_ndarray():\n",
    "    rand1 = np.random.randint(100,size=400)\n",
    "    print(type(rand1))\n",
    "    print(rand1.shape)\n",
    "    zeros = np.array(np.zeros(1024-400,dtype=np.int32))\n",
    "    ary3 = padding_ndarray(rand1, zeros, 1024-400)\n",
    "    print(ary3)"
   ]
  },
  {
   "cell_type": "code",
   "execution_count": 69,
   "metadata": {},
   "outputs": [
    {
     "name": "stdout",
     "output_type": "stream",
     "text": [
      "<class 'numpy.ndarray'>\n",
      "(400,)\n",
      "[76 95 70 ...  0  0  0]\n"
     ]
    }
   ],
   "source": [
    "test_padding_ndarray()"
   ]
  },
  {
   "cell_type": "code",
   "execution_count": 125,
   "metadata": {},
   "outputs": [],
   "source": [
    "pad_len = 1024-400\n",
    "padding_zeros = np.array(np.zeros(pad_len,dtype=np.int))\n",
    "bandnum=10\n",
    "# print(padding_zeros)\n",
    "def gen_1x40_dimension_mat_array_cfft(s1,s2,s3,s4):\n",
    "    s1_prime = padding_ndarray(s1,padding_zeros,pad_len)\n",
    "    s2_prime = padding_ndarray(s2,padding_zeros,pad_len)\n",
    "    s3_prime = padding_ndarray(s3,padding_zeros,pad_len)\n",
    "    s4_prime = padding_ndarray(s4,padding_zeros,pad_len)\n",
    "    out1 = np.empty((10),dtype=np.float32)\n",
    "    out2 = np.empty((10),dtype=np.float32)\n",
    "    out3 = np.empty((10),dtype=np.float32)\n",
    "    out4 = np.empty((10),dtype=np.float32)\n",
    "    fun(s1_prime,bandnum,out1)\n",
    "    fun(s2_prime,bandnum,out2)\n",
    "    fun(s3_prime,bandnum,out3)\n",
    "    fun(s4_prime,bandnum,out4)\n",
    "    x= np.array([out1,out2,out3,out4],dtype=\"double\").reshape(1,sample_num)\n",
    "    x_40 = x[0:40]\n",
    "    \n",
    "    max_ele = np.amax(x_40,axis=1)\n",
    "    min_ele = np.amin(x_40,axis=1)\n",
    "    sum_of_x = np.sum(x_40)\n",
    "\n",
    "    x_normalize = (x_40-min_ele)/(max_ele-min_ele+0.000001)\n",
    "    return x_normalize"
   ]
  },
  {
   "cell_type": "code",
   "execution_count": 88,
   "metadata": {},
   "outputs": [],
   "source": [
    "def test_gen_1x40_dimension_mat_array_cfft():\n",
    "    rand1 = np.random.randint(100,size=400,dtype=np.int32)\n",
    "    rand2 = np.random.randint(100,size=400,dtype=np.int32)\n",
    "    rand3 = np.random.randint(100,size=400,dtype=np.int32)\n",
    "    rand4 = np.random.randint(100,size=400,dtype=np.int32)\n",
    "    ary4 = gen_1x40_dimension_mat_array_cfft(rand1,rand2,rand3,rand4)\n",
    "    print(ary4)"
   ]
  },
  {
   "cell_type": "code",
   "execution_count": 90,
   "metadata": {},
   "outputs": [],
   "source": [
    "# test_gen_1x40_dimension_mat_array_cfft()"
   ]
  },
  {
   "cell_type": "code",
   "execution_count": 119,
   "metadata": {},
   "outputs": [],
   "source": [
    "def perform_speech_feature_extraction_2(files):\n",
    "    #ret_array = np.empty([s_len,40],dtype=float)\n",
    "    all_footprints = np.array([])\n",
    "    all_labels = np.array([])\n",
    "    startPoint = 1600\n",
    "    stepQuantity = 400\n",
    "    local_less_norm_count = 0\n",
    "    local_greater_norm_count = 0\n",
    "    for file in tqdm(files):\n",
    "        test_wav_array = read_and_convert_wav_to_16K_SR(file[0])\n",
    "        s_len = int(400*(np.floor(len(test_wav_array)/400)))+1\n",
    "        lblAry = np.array([file[1]])\n",
    "        lblValue = int(np.array([file[1]]))\n",
    "        for i in range(startPoint,s_len,stepQuantity):\n",
    "            idx1 = i-1600\n",
    "            idx2 = i-1200\n",
    "            idx3 = i-800\n",
    "            idx4 = i-400\n",
    "            if lblValue == 1:\n",
    "                norm_value = np.log(np.linalg.norm(test_wav_array[idx1:i])/file_norm + 0.0001)\n",
    "                if norm_value > -3:\n",
    "                    local_greater_norm_count += 1\n",
    "                    s1 = test_wav_array[idx1:idx2] #0-399\n",
    "                    s2 = test_wav_array[idx2:idx3] #400-799run_test_main,number\n",
    "                    s3 = test_wav_array[idx3:idx4] #800-1199\n",
    "                    s4 = test_wav_array[idx4:i]    #1200-1599\n",
    "                    tmp_x_40 = gen_1x40_dimension_mat_array(s1,s2,s3,s4)\n",
    "                    all_footprints = np.vstack((all_footprints, tmp_x_40[0])) if all_footprints.size else tmp_x_40[0]\n",
    "                    all_labels = np.vstack((all_labels, lblAry)) if all_labels.size else lblAry\n",
    "                else:\n",
    "                    local_less_norm_count += 1\n",
    "            else:\n",
    "                local_greater_norm_count += 1\n",
    "                s1 = test_wav_array[idx1:idx2] #0-399\n",
    "                s2 = test_wav_array[idx2:idx3] #400-799run_test_main,number\n",
    "                s3 = test_wav_array[idx3:idx4] #800-1199\n",
    "                s4 = test_wav_array[idx4:i]    #1200-1599\n",
    "                tmp_x_40 = gen_1x40_dimension_mat_array(s1,s2,s3,s4)\n",
    "                all_footprints = np.vstack((all_footprints, tmp_x_40[0])) if all_footprints.size else tmp_x_40[0]\n",
    "                all_labels = np.vstack((all_labels, lblAry)) if all_labels.size else lblAry\n",
    "    return all_footprints, all_labels, local_greater_norm_count, local_less_norm_count"
   ]
  },
  {
   "cell_type": "code",
   "execution_count": 118,
   "metadata": {},
   "outputs": [],
   "source": [
    "def perform_speech_feature_extraction(files):\n",
    "    #ret_array = np.empty([s_len,40],dtype=float)\n",
    "    tmpdatalist = []\n",
    "    tmplbllist = []\n",
    "    startPoint = 1600\n",
    "    stepQuantity = 400\n",
    "    local_less_norm_count = 0\n",
    "    local_greater_norm_count = 0\n",
    "    for file in tqdm(files):\n",
    "        print(\"current processing file {}\".format(file))\n",
    "        test_wav_array = read_and_convert_wav_to_16K_SR(file[0])\n",
    "        file_norm = np.linalg.norm(test_wav_array)\n",
    "        s_len = int(400*(np.floor(len(test_wav_array)/400))) + 1\n",
    "        lblValue = int(np.array([file[1]]))\n",
    "        for i in range(startPoint,s_len,stepQuantity):\n",
    "            idx1 = i-1600\n",
    "            idx2 = i-1200\n",
    "            idx3 = i-800\n",
    "            idx4 = i-400\n",
    "            if lblValue == 1:\n",
    "                norm_value = np.log(np.linalg.norm(test_wav_array[idx1:i])/file_norm + 0.0001)\n",
    "                if norm_value > -3:\n",
    "                    local_greater_norm_count += 1\n",
    "                    s1 = test_wav_array[idx1:idx2] #0-399\n",
    "                    s2 = test_wav_array[idx2:idx3] #400-799 run_test_main,number\n",
    "                    s3 = test_wav_array[idx3:idx4] #800-1199\n",
    "                    s4 = test_wav_array[idx4:i]    #1200-1599\n",
    "                    tmp_x_40 = gen_1x40_dimension_mat_array_cfft(s1,s2,s3,s4)\n",
    "                    tmpdatalist.append(tmp_x_40[0])\n",
    "                    tmplbllist.append(lblValue * 1.0)\n",
    "                else:\n",
    "                    local_less_norm_count += 1\n",
    "            else:\n",
    "                local_greater_norm_count += 1\n",
    "                s1 = test_wav_array[idx1:idx2] #0-399\n",
    "                s2 = test_wav_array[idx2:idx3] #400-799 run_test_main,number\n",
    "                s3 = test_wav_array[idx3:idx4] #800-1199\n",
    "                s4 = test_wav_array[idx4:i]    #1200-1599\n",
    "                tmp_x_40 = gen_1x40_dimension_mat_array_cfft(s1,s2,s3,s4)\n",
    "                tmpdatalist.append(tmp_x_40[0])\n",
    "                tmplbllist.append(lblValue * 1.0)\n",
    "    return tmpdatalist, tmplbllist, local_greater_norm_count, local_less_norm_count"
   ]
  },
  {
   "cell_type": "code",
   "execution_count": 120,
   "metadata": {},
   "outputs": [],
   "source": [
    "def getFileList_Test():\n",
    "    tmpTestDir = \"../../Speech_DataSets/tmp/\"\n",
    "    tmpfiles = get_recursive_files(tmpTestDir)\n",
    "    file_lst = []\n",
    "    for t_f in tmpfiles:\n",
    "        if t_f.endswith(\".wav\"):\n",
    "            file_lst.append([t_f,0])\n",
    "    ext_data, ext_lbl = perform_speech_feature_extraction(tmpfiles,0)\n",
    "    ext_data_2, ext_lbl_2 = perform_speech_feature_extraction_2(file_lst)\n",
    "    print(\"extraction 1 data shape is {}\".format(len(ext_data)))\n",
    "    print(\"extraction 2 data shape is {}\".format(ext_data_2.shape))"
   ]
  },
  {
   "cell_type": "code",
   "execution_count": 121,
   "metadata": {},
   "outputs": [],
   "source": [
    "# getFileList_Test()"
   ]
  },
  {
   "cell_type": "code",
   "execution_count": 122,
   "metadata": {},
   "outputs": [],
   "source": [
    "def getFileList(file_src_dir=None):\n",
    "#     noiseSrcDir = \"../../Speech_DataSets/wavDataset20200807/noise\"\n",
    "#     speechSrcDir = \"../../Speech_DataSets/wavDataset20200807/speech/\"\n",
    "    noiseSrcDir = \"../../../../../Speech_DataSets/wavDataset20200807/noise\"\n",
    "    speechSrcDir = \"../../../../../Speech_DataSets/wavDataset20200807/speech/\"\n",
    "    noise_files = get_recursive_files(noiseSrcDir)\n",
    "    speech_files = get_recursive_files(speechSrcDir)\n",
    "    file_set = []\n",
    "    for n_f in noise_files:\n",
    "        if n_f.endswith(\".wav\"):\n",
    "            file_set.append([n_f,0])\n",
    "    for s_f in speech_files:\n",
    "        if s_f.endswith(\".wav\"):\n",
    "            file_set.append([s_f,1])\n",
    "    file_ary = np.array(file_set)\n",
    "    np.random.shuffle(file_ary)\n",
    "    return file_ary"
   ]
  },
  {
   "cell_type": "code",
   "execution_count": null,
   "metadata": {},
   "outputs": [],
   "source": []
  },
  {
   "cell_type": "code",
   "execution_count": 129,
   "metadata": {},
   "outputs": [],
   "source": [
    "def run_main():\n",
    "    file_lists = getFileList()\n",
    "    datalist, lbllist, pass_count, loss_count = perform_speech_feature_extraction(file_lists)\n",
    "#     print(len(datalist))\n",
    "#     print(len(lbllist))\n",
    "    print(\"datalist length is {}\".format(len(datalist)))\n",
    "    print(\"pass count is {}\".format(pass_count))\n",
    "    print(\"loss count is {}\".format(loss_count))\n",
    "    training_mat_dict = {\"x_data\":datalist}\n",
    "    training_lbl_mat_dict = {\"y_data\":lbllist}\n",
    "    \n",
    "    spio.savemat(\"./trainData_cfft/trainData_fbe_wdataset20200807_20200915.mat\",training_mat_dict,oned_as='column')\n",
    "    spio.savemat(\"./trainData_cfft/trainLabel_fbe_wdataset20200807_20200915.mat\",training_lbl_mat_dict,oned_as='row')\n",
    "    print(\"NCTU training mat files saved. |^_^| \")"
   ]
  },
  {
   "cell_type": "code",
   "execution_count": 130,
   "metadata": {
    "scrolled": false
   },
   "outputs": [
    {
     "name": "stderr",
     "output_type": "stream",
     "text": [
      "\r",
      "  0%|          | 0/388 [00:00<?, ?it/s]"
     ]
    },
    {
     "name": "stdout",
     "output_type": "stream",
     "text": [
      "current processing file ['../../../../../Speech_DataSets/wavDataset20200807/noise/NNoise_mod0716/M1_⌐τ«α2.dat.wav'\n",
      " '0']\n"
     ]
    },
    {
     "name": "stderr",
     "output_type": "stream",
     "text": [
      "\r",
      "  0%|          | 1/388 [00:00<01:53,  3.41it/s]"
     ]
    },
    {
     "name": "stdout",
     "output_type": "stream",
     "text": [
      "current processing file ['../../../../../Speech_DataSets/wavDataset20200807/noise/NNoise_mod0716/M1_└úºJñOñj├÷¬∙.dat.wav'\n",
      " '0']\n"
     ]
    },
    {
     "name": "stderr",
     "output_type": "stream",
     "text": [
      "\r",
      "  1%|          | 2/388 [00:00<01:52,  3.43it/s]"
     ]
    },
    {
     "name": "stdout",
     "output_type": "stream",
     "text": [
      "current processing file ['../../../../../Speech_DataSets/wavDataset20200807/noise/NNoise_mod0716/├÷¬∙┴n.wav'\n",
      " '0']\n",
      "current processing file ['../../../../../Speech_DataSets/wavDataset20200807/noise/NNoise_mod0716/s¬∙╣a.dat.wav'\n",
      " '0']\n"
     ]
    },
    {
     "name": "stderr",
     "output_type": "stream",
     "text": [
      "\r",
      "  1%|          | 4/388 [00:00<01:36,  3.99it/s]"
     ]
    },
    {
     "name": "stdout",
     "output_type": "stream",
     "text": [
      "current processing file ['../../../../../Speech_DataSets/wavDataset20200807/speech/MIR-1K/amy_15_lyrics.wav'\n",
      " '1']\n"
     ]
    },
    {
     "name": "stderr",
     "output_type": "stream",
     "text": [
      "\r",
      "  1%|▏         | 5/388 [00:01<01:50,  3.46it/s]"
     ]
    },
    {
     "name": "stdout",
     "output_type": "stream",
     "text": [
      "current processing file ['../../../../../Speech_DataSets/wavDataset20200807/speech/MIR-1K/ariel_5_lyrics.wav'\n",
      " '1']\n"
     ]
    },
    {
     "name": "stderr",
     "output_type": "stream",
     "text": [
      "\r",
      "  2%|▏         | 6/388 [00:01<02:01,  3.14it/s]"
     ]
    },
    {
     "name": "stdout",
     "output_type": "stream",
     "text": [
      "current processing file ['../../../../../Speech_DataSets/wavDataset20200807/speech/Chinese_20180730/CL.wav'\n",
      " '1']\n"
     ]
    },
    {
     "name": "stderr",
     "output_type": "stream",
     "text": [
      "\r",
      "  2%|▏         | 7/388 [00:01<02:00,  3.15it/s]"
     ]
    },
    {
     "name": "stdout",
     "output_type": "stream",
     "text": [
      "current processing file ['../../../../../Speech_DataSets/wavDataset20200807/noise/NNoise_mod0716/¬O└┐⌐τ║V«αñl.wav'\n",
      " '0']\n"
     ]
    },
    {
     "name": "stderr",
     "output_type": "stream",
     "text": [
      "\r",
      "  2%|▏         | 8/388 [00:02<02:02,  3.10it/s]"
     ]
    },
    {
     "name": "stdout",
     "output_type": "stream",
     "text": [
      "current processing file ['../../../../../Speech_DataSets/wavDataset20200807/noise/NNoise_mod0716/ñWñ╔.dat.wav'\n",
      " '0']\n"
     ]
    },
    {
     "name": "stderr",
     "output_type": "stream",
     "text": [
      "\r",
      "  2%|▏         | 9/388 [00:02<01:57,  3.21it/s]"
     ]
    },
    {
     "name": "stdout",
     "output_type": "stream",
     "text": [
      "current processing file ['../../../../../Speech_DataSets/wavDataset20200807/noise/NNoise_mod0716/╝»ª½¿«_├Σ╢íroom.dat.wav'\n",
      " '0']\n"
     ]
    },
    {
     "name": "stderr",
     "output_type": "stream",
     "text": [
      "\r",
      "  3%|▎         | 10/388 [00:02<01:54,  3.30it/s]"
     ]
    },
    {
     "name": "stdout",
     "output_type": "stream",
     "text": [
      "current processing file ['../../../../../Speech_DataSets/wavDataset20200807/noise/NNoise_mod0716/⌐∞┤╚ñl_├Σ╢íroom.dat.wav'\n",
      " '0']\n"
     ]
    },
    {
     "name": "stderr",
     "output_type": "stream",
     "text": [
      "\r",
      "  3%|▎         | 11/388 [00:03<01:52,  3.36it/s]"
     ]
    },
    {
     "name": "stdout",
     "output_type": "stream",
     "text": [
      "current processing file ['../../../../../Speech_DataSets/wavDataset20200807/speech/MIR-1K/geniusturtle_3_lyrics.wav'\n",
      " '1']\n"
     ]
    },
    {
     "name": "stderr",
     "output_type": "stream",
     "text": [
      "\r",
      "  3%|▎         | 12/388 [00:03<02:00,  3.12it/s]"
     ]
    },
    {
     "name": "stdout",
     "output_type": "stream",
     "text": [
      "current processing file ['../../../../../Speech_DataSets/wavDataset20200807/noise/NNoise_mod0716/╝»ª½¿«.dat.wav'\n",
      " '0']\n"
     ]
    },
    {
     "name": "stderr",
     "output_type": "stream",
     "text": [
      "  4%|▎         | 14/388 [00:03<01:34,  3.94it/s]"
     ]
    },
    {
     "name": "stdout",
     "output_type": "stream",
     "text": [
      "current processing file ['../../../../../Speech_DataSets/wavDataset20200807/noise/NNoise_mod0716/½ⁿ║V«αñl 1.wav'\n",
      " '0']\n",
      "current processing file ['../../../../../Speech_DataSets/wavDataset20200807/speech/MIR-1K/amy_14_lyrics.wav'\n",
      " '1']\n"
     ]
    },
    {
     "name": "stderr",
     "output_type": "stream",
     "text": [
      "  4%|▍         | 16/388 [00:04<01:36,  3.87it/s]"
     ]
    },
    {
     "name": "stdout",
     "output_type": "stream",
     "text": [
      "current processing file ['../../../../../Speech_DataSets/wavDataset20200807/noise/NNoise_mod0716/╜≡«α╕}.wav'\n",
      " '0']\n",
      "current processing file ['../../../../../Speech_DataSets/wavDataset20200807/speech/MIR-1K/stool_5_lyric.wav'\n",
      " '1']\n"
     ]
    },
    {
     "name": "stderr",
     "output_type": "stream",
     "text": [
      "\r",
      "  4%|▍         | 17/388 [00:04<01:50,  3.35it/s]"
     ]
    },
    {
     "name": "stdout",
     "output_type": "stream",
     "text": [
      "current processing file ['../../../../../Speech_DataSets/wavDataset20200807/noise/NNoise_mod0716/⌐τÑ╒¬O┴n¡╡(│z⌐·¬O).wav'\n",
      " '0']\n"
     ]
    },
    {
     "name": "stderr",
     "output_type": "stream",
     "text": [
      "  5%|▍         | 19/388 [00:05<01:36,  3.81it/s]"
     ]
    },
    {
     "name": "stdout",
     "output_type": "stream",
     "text": [
      "current processing file ['../../../../../Speech_DataSets/wavDataset20200807/noise/NNoise_mod0716/╡í├«2.wav'\n",
      " '0']\n",
      "current processing file ['../../../../../Speech_DataSets/wavDataset20200807/noise/NNoise_mod0716/─┴┴n.dat.wav'\n",
      " '0']\n"
     ]
    },
    {
     "name": "stderr",
     "output_type": "stream",
     "text": [
      "\r",
      "  5%|▌         | 20/388 [00:05<01:39,  3.71it/s]"
     ]
    },
    {
     "name": "stdout",
     "output_type": "stream",
     "text": [
      "current processing file ['../../../../../Speech_DataSets/wavDataset20200807/noise/NNoise_mod0716/2F_VIP_╢}│⌡.dat.wav'\n",
      " '0']\n"
     ]
    },
    {
     "name": "stderr",
     "output_type": "stream",
     "text": [
      "\r",
      "  5%|▌         | 21/388 [00:05<01:40,  3.63it/s]"
     ]
    },
    {
     "name": "stdout",
     "output_type": "stream",
     "text": [
      "current processing file ['../../../../../Speech_DataSets/wavDataset20200807/noise/NNoise_mod0716/2F_VIP_ñWñ╔.dat.wav'\n",
      " '0']\n"
     ]
    },
    {
     "name": "stderr",
     "output_type": "stream",
     "text": [
      "\r",
      "  6%|▌         | 22/388 [00:06<01:42,  3.58it/s]"
     ]
    },
    {
     "name": "stdout",
     "output_type": "stream",
     "text": [
      "current processing file ['../../../../../Speech_DataSets/wavDataset20200807/noise/NNoise_mod0716/M1_║Ñ▒j.dat.wav'\n",
      " '0']\n"
     ]
    },
    {
     "name": "stderr",
     "output_type": "stream",
     "text": [
      "\r",
      "  6%|▌         | 23/388 [00:06<01:43,  3.53it/s]"
     ]
    },
    {
     "name": "stdout",
     "output_type": "stream",
     "text": [
      "current processing file ['../../../../../Speech_DataSets/wavDataset20200807/noise/NNoise_mod0716/ñWñ╔_├Σ╢íroom.dat.wav'\n",
      " '0']\n"
     ]
    },
    {
     "name": "stderr",
     "output_type": "stream",
     "text": [
      "\r",
      "  6%|▌         | 24/388 [00:06<01:43,  3.51it/s]"
     ]
    },
    {
     "name": "stdout",
     "output_type": "stream",
     "text": [
      "current processing file ['../../../../../Speech_DataSets/wavDataset20200807/speech/MIR-1K/fdps_3_lyrics.wav'\n",
      " '1']\n"
     ]
    },
    {
     "name": "stderr",
     "output_type": "stream",
     "text": [
      "\r",
      "  6%|▋         | 25/388 [00:07<01:46,  3.42it/s]"
     ]
    },
    {
     "name": "stdout",
     "output_type": "stream",
     "text": [
      "current processing file ['../../../../../Speech_DataSets/wavDataset20200807/noise/NNoise_mod0716/M1_ñΓ╛≈║V«αñl .dat.wav'\n",
      " '0']\n"
     ]
    },
    {
     "name": "stderr",
     "output_type": "stream",
     "text": [
      "\r",
      "  7%|▋         | 26/388 [00:07<01:44,  3.45it/s]"
     ]
    },
    {
     "name": "stdout",
     "output_type": "stream",
     "text": [
      "current processing file ['../../../../../Speech_DataSets/wavDataset20200807/noise/NNoise_mod0716/A1_HolmesºñÑ╓┤╚.dat.wav'\n",
      " '0']\n"
     ]
    },
    {
     "name": "stderr",
     "output_type": "stream",
     "text": [
      "\r",
      "  7%|▋         | 27/388 [00:07<01:43,  3.47it/s]"
     ]
    },
    {
     "name": "stdout",
     "output_type": "stream",
     "text": [
      "current processing file ['../../../../../Speech_DataSets/wavDataset20200807/noise/NNoise_mod0716/WaterFlow.dat.wav'\n",
      " '0']\n"
     ]
    },
    {
     "name": "stderr",
     "output_type": "stream",
     "text": [
      "\r",
      "  7%|▋         | 28/388 [00:07<01:43,  3.48it/s]"
     ]
    },
    {
     "name": "stdout",
     "output_type": "stream",
     "text": [
      "current processing file ['../../../../../Speech_DataSets/wavDataset20200807/noise/NNoise_mod0716/┤╚ñl┴n.wav'\n",
      " '0']\n"
     ]
    },
    {
     "name": "stderr",
     "output_type": "stream",
     "text": [
      "\r",
      "  7%|▋         | 29/388 [00:08<01:43,  3.47it/s]"
     ]
    },
    {
     "name": "stdout",
     "output_type": "stream",
     "text": [
      "current processing file ['../../../../../Speech_DataSets/wavDataset20200807/noise/NNoise_mod0716/╡╖║≈_├Σ╢íroom.dat.wav'\n",
      " '0']\n"
     ]
    },
    {
     "name": "stderr",
     "output_type": "stream",
     "text": [
      "\r",
      "  8%|▊         | 30/388 [00:08<01:43,  3.47it/s]"
     ]
    },
    {
     "name": "stdout",
     "output_type": "stream",
     "text": [
      "current processing file ['../../../../../Speech_DataSets/wavDataset20200807/noise/NNoise_mod0716/1016º╓ñΓ½ⁿ║V└úºJñO¬O.dat.wav'\n",
      " '0']\n"
     ]
    },
    {
     "name": "stderr",
     "output_type": "stream",
     "text": [
      "\r",
      "  8%|▊         | 31/388 [00:08<01:42,  3.47it/s]"
     ]
    },
    {
     "name": "stdout",
     "output_type": "stream",
     "text": [
      "current processing file ['../../../../../Speech_DataSets/wavDataset20200807/noise/NNoise_mod0716/M1_FLY.dat.wav'\n",
      " '0']\n"
     ]
    },
    {
     "name": "stderr",
     "output_type": "stream",
     "text": [
      "\r",
      "  8%|▊         | 32/388 [00:09<01:42,  3.49it/s]"
     ]
    },
    {
     "name": "stdout",
     "output_type": "stream",
     "text": [
      "current processing file ['../../../../../Speech_DataSets/wavDataset20200807/noise/NNoise_mod0716/sñ⌠┤╣.dat.wav'\n",
      " '0']\n"
     ]
    },
    {
     "name": "stderr",
     "output_type": "stream",
     "text": [
      "\r",
      "  9%|▊         | 33/388 [00:09<01:41,  3.50it/s]"
     ]
    },
    {
     "name": "stdout",
     "output_type": "stream",
     "text": [
      "current processing file ['../../../../../Speech_DataSets/wavDataset20200807/noise/NNoise_mod0716/║╧┼K║V└╗.wav'\n",
      " '0']\n"
     ]
    },
    {
     "name": "stderr",
     "output_type": "stream",
     "text": [
      "\r",
      "  9%|▉         | 34/388 [00:09<01:35,  3.71it/s]"
     ]
    },
    {
     "name": "stdout",
     "output_type": "stream",
     "text": [
      "current processing file ['../../../../../Speech_DataSets/wavDataset20200807/speech/MIR-1K/annar_5_lyrics.wav'\n",
      " '1']\n"
     ]
    },
    {
     "name": "stderr",
     "output_type": "stream",
     "text": [
      "\r",
      "  9%|▉         | 35/388 [00:10<01:52,  3.15it/s]"
     ]
    },
    {
     "name": "stdout",
     "output_type": "stream",
     "text": [
      "current processing file ['../../../../../Speech_DataSets/wavDataset20200807/speech/MIR-1K/stool_3_lyric.wav'\n",
      " '1']\n"
     ]
    },
    {
     "name": "stderr",
     "output_type": "stream",
     "text": [
      "\r",
      "  9%|▉         | 36/388 [00:10<02:02,  2.88it/s]"
     ]
    },
    {
     "name": "stdout",
     "output_type": "stream",
     "text": [
      "current processing file ['../../../../../Speech_DataSets/wavDataset20200807/noise/NNoise_mod0716/⌐τñΓ2.wav'\n",
      " '0']\n"
     ]
    },
    {
     "name": "stderr",
     "output_type": "stream",
     "text": [
      " 10%|▉         | 38/388 [00:10<01:39,  3.53it/s]"
     ]
    },
    {
     "name": "stdout",
     "output_type": "stream",
     "text": [
      "current processing file ['../../../../../Speech_DataSets/wavDataset20200807/noise/Evir/└⌠╣╥¡╡NOISE1.wav'\n",
      " '0']\n",
      "current processing file ['../../../../../Speech_DataSets/wavDataset20200807/speech/MIR-1K/stool_2_lyric.wav'\n",
      " '1']\n"
     ]
    },
    {
     "name": "stderr",
     "output_type": "stream",
     "text": [
      "\r",
      " 10%|█         | 39/388 [00:11<01:44,  3.34it/s]"
     ]
    },
    {
     "name": "stdout",
     "output_type": "stream",
     "text": [
      "current processing file ['../../../../../Speech_DataSets/wavDataset20200807/noise/NNoise_mod0716/¬».dat.wav'\n",
      " '0']\n"
     ]
    },
    {
     "name": "stderr",
     "output_type": "stream",
     "text": [
      " 11%|█         | 41/388 [00:11<01:30,  3.84it/s]"
     ]
    },
    {
     "name": "stdout",
     "output_type": "stream",
     "text": [
      "current processing file ['../../../../../Speech_DataSets/wavDataset20200807/noise/NNoise_mod0716/Start_War_re.wav'\n",
      " '0']\n",
      "current processing file ['../../../../../Speech_DataSets/wavDataset20200807/noise/NNoise_mod0716/│┴ºJ╡º║V└╗2.wav'\n",
      " '0']\n"
     ]
    },
    {
     "name": "stderr",
     "output_type": "stream",
     "text": [
      "\r",
      " 11%|█         | 42/388 [00:11<01:25,  4.04it/s]"
     ]
    },
    {
     "name": "stdout",
     "output_type": "stream",
     "text": [
      "current processing file ['../../../../../Speech_DataSets/wavDataset20200807/noise/NNoise_mod0716/BigRoom_ñWñ╔_6713_MEMSmic.dat.wav'\n",
      " '0']\n"
     ]
    },
    {
     "name": "stderr",
     "output_type": "stream",
     "text": [
      "\r",
      " 11%|█         | 43/388 [00:12<01:28,  3.88it/s]"
     ]
    },
    {
     "name": "stdout",
     "output_type": "stream",
     "text": [
      "current processing file ['../../../../../Speech_DataSets/wavDataset20200807/noise/NNoise_mod0716/⌐∞⌐╘┤╚ñl.wav'\n",
      " '0']\n"
     ]
    },
    {
     "name": "stderr",
     "output_type": "stream",
     "text": [
      "\r",
      " 11%|█▏        | 44/388 [00:12<01:33,  3.67it/s]"
     ]
    },
    {
     "name": "stdout",
     "output_type": "stream",
     "text": [
      "current processing file ['../../../../../Speech_DataSets/wavDataset20200807/noise/NNoise_mod0716/ñΓ½ⁿºC└W║V«αñl .dat.wav'\n",
      " '0']\n"
     ]
    },
    {
     "name": "stderr",
     "output_type": "stream",
     "text": [
      "\r",
      " 12%|█▏        | 45/388 [00:12<01:34,  3.62it/s]"
     ]
    },
    {
     "name": "stdout",
     "output_type": "stream",
     "text": [
      "current processing file ['../../../../../Speech_DataSets/wavDataset20200807/noise/NNoise_mod0716/M1_Impromptu.dat.wav'\n",
      " '0']\n"
     ]
    },
    {
     "name": "stderr",
     "output_type": "stream",
     "text": [
      "\r",
      " 12%|█▏        | 46/388 [00:13<01:35,  3.58it/s]"
     ]
    },
    {
     "name": "stdout",
     "output_type": "stream",
     "text": [
      "current processing file ['../../../../../Speech_DataSets/wavDataset20200807/noise/NNoise_mod0716/chick.dat.wav'\n",
      " '0']\n"
     ]
    },
    {
     "name": "stderr",
     "output_type": "stream",
     "text": [
      "\r",
      " 12%|█▏        | 47/388 [00:13<01:35,  3.57it/s]"
     ]
    },
    {
     "name": "stdout",
     "output_type": "stream",
     "text": [
      "current processing file ['../../../../../Speech_DataSets/wavDataset20200807/noise/NNoise_mod0716/║V│s╡▓╛╣.wav'\n",
      " '0']\n"
     ]
    },
    {
     "name": "stderr",
     "output_type": "stream",
     "text": [
      " 13%|█▎        | 49/388 [00:13<01:21,  4.14it/s]"
     ]
    },
    {
     "name": "stdout",
     "output_type": "stream",
     "text": [
      "current processing file ['../../../../../Speech_DataSets/wavDataset20200807/noise/NNoise_mod0716/╝╖░╩╡í├«.wav'\n",
      " '0']\n",
      "current processing file ['../../../../../Speech_DataSets/wavDataset20200807/speech/TW/Ireen_20181108.wav'\n",
      " '1']\n"
     ]
    },
    {
     "name": "stderr",
     "output_type": "stream",
     "text": [
      "\r",
      " 13%|█▎        | 50/388 [00:14<01:39,  3.40it/s]"
     ]
    },
    {
     "name": "stdout",
     "output_type": "stream",
     "text": [
      "current processing file ['../../../../../Speech_DataSets/wavDataset20200807/noise/NNoise_mod0716/╡L┼T_ñWñ╔.dat.wav'\n",
      " '0']\n"
     ]
    },
    {
     "name": "stderr",
     "output_type": "stream",
     "text": [
      "\r",
      " 13%|█▎        | 51/388 [00:14<01:38,  3.43it/s]"
     ]
    },
    {
     "name": "stdout",
     "output_type": "stream",
     "text": [
      "current processing file ['../../../../../Speech_DataSets/wavDataset20200807/speech/MIR-1K/heycat_2_lyrics.wav'\n",
      " '1']\n"
     ]
    },
    {
     "name": "stderr",
     "output_type": "stream",
     "text": [
      " 14%|█▎        | 53/388 [00:15<01:33,  3.57it/s]"
     ]
    },
    {
     "name": "stdout",
     "output_type": "stream",
     "text": [
      "current processing file ['../../../../../Speech_DataSets/wavDataset20200807/noise/NNoise_mod0716/║C╢]╛c.wav'\n",
      " '0']\n",
      "current processing file ['../../../../../Speech_DataSets/wavDataset20200807/noise/NNoise_mod0716/╗╔╝»└┐┴n.wav'\n",
      " '0']\n"
     ]
    },
    {
     "name": "stderr",
     "output_type": "stream",
     "text": [
      "\r",
      " 14%|█▍        | 54/388 [00:15<01:33,  3.58it/s]"
     ]
    },
    {
     "name": "stdout",
     "output_type": "stream",
     "text": [
      "current processing file ['../../../../../Speech_DataSets/wavDataset20200807/speech/MIR-1K/amy_9_lyrics.wav'\n",
      " '1']\n"
     ]
    },
    {
     "name": "stderr",
     "output_type": "stream",
     "text": [
      "\r",
      " 14%|█▍        | 55/388 [00:15<01:42,  3.26it/s]"
     ]
    },
    {
     "name": "stdout",
     "output_type": "stream",
     "text": [
      "current processing file ['../../../../../Speech_DataSets/wavDataset20200807/noise/NNoise_mod0716/⌐τñΓ1.dat.wav'\n",
      " '0']\n"
     ]
    },
    {
     "name": "stderr",
     "output_type": "stream",
     "text": [
      "\r",
      " 14%|█▍        | 56/388 [00:16<01:39,  3.32it/s]"
     ]
    },
    {
     "name": "stdout",
     "output_type": "stream",
     "text": [
      "current processing file ['../../../../../Speech_DataSets/wavDataset20200807/noise/Evir/MeetingRoom1_└⌠╣╥¡╡11min_NH318+E2110_20180726.wav'\n",
      " '0']\n"
     ]
    },
    {
     "name": "stderr",
     "output_type": "stream",
     "text": [
      "\r",
      " 15%|█▍        | 57/388 [00:33<29:54,  5.42s/it]"
     ]
    },
    {
     "name": "stdout",
     "output_type": "stream",
     "text": [
      "current processing file ['../../../../../Speech_DataSets/wavDataset20200807/speech/WeiFangVocal_20180220/Bo_ori.wav'\n",
      " '1']\n"
     ]
    },
    {
     "name": "stderr",
     "output_type": "stream",
     "text": [
      "\r",
      " 15%|█▍        | 58/388 [00:33<21:24,  3.89s/it]"
     ]
    },
    {
     "name": "stdout",
     "output_type": "stream",
     "text": [
      "current processing file ['../../../../../Speech_DataSets/wavDataset20200807/noise/NNoise_mod0716/1016║V¼┴╝■.dat.wav'\n",
      " '0']\n"
     ]
    },
    {
     "name": "stderr",
     "output_type": "stream",
     "text": [
      "\r",
      " 15%|█▌        | 59/388 [00:34<15:24,  2.81s/it]"
     ]
    },
    {
     "name": "stdout",
     "output_type": "stream",
     "text": [
      "current processing file ['../../../../../Speech_DataSets/wavDataset20200807/noise/NNoise_mod0716/║╡.dat.wav'\n",
      " '0']\n"
     ]
    },
    {
     "name": "stderr",
     "output_type": "stream",
     "text": [
      "\r",
      " 15%|█▌        | 60/388 [00:34<11:13,  2.05s/it]"
     ]
    },
    {
     "name": "stdout",
     "output_type": "stream",
     "text": [
      "current processing file ['../../../../../Speech_DataSets/wavDataset20200807/noise/NNoise_mod0716/ñTÑ■¡╡.dat.wav'\n",
      " '0']\n"
     ]
    },
    {
     "name": "stderr",
     "output_type": "stream",
     "text": [
      "\r",
      " 16%|█▌        | 61/388 [00:34<08:17,  1.52s/it]"
     ]
    },
    {
     "name": "stdout",
     "output_type": "stream",
     "text": [
      "current processing file ['../../../../../Speech_DataSets/wavDataset20200807/noise/NNoise_mod0716/Start_War.wav'\n",
      " '0']\n"
     ]
    },
    {
     "name": "stderr",
     "output_type": "stream",
     "text": [
      "\r",
      " 16%|█▌        | 62/388 [00:34<06:15,  1.15s/it]"
     ]
    },
    {
     "name": "stdout",
     "output_type": "stream",
     "text": [
      "current processing file ['../../../../../Speech_DataSets/wavDataset20200807/noise/NNoise_mod0716/╖╬»∙.dat.wav'\n",
      " '0']\n"
     ]
    },
    {
     "name": "stderr",
     "output_type": "stream",
     "text": [
      "\r",
      " 16%|█▌        | 63/388 [00:35<04:49,  1.12it/s]"
     ]
    },
    {
     "name": "stdout",
     "output_type": "stream",
     "text": [
      "current processing file ['../../../../../Speech_DataSets/wavDataset20200807/noise/NNoise_mod0716/╢}├÷¬∙.wav'\n",
      " '0']\n"
     ]
    },
    {
     "name": "stderr",
     "output_type": "stream",
     "text": [
      "\r",
      " 16%|█▋        | 64/388 [00:35<03:42,  1.45it/s]"
     ]
    },
    {
     "name": "stdout",
     "output_type": "stream",
     "text": [
      "current processing file ['../../../../../Speech_DataSets/wavDataset20200807/speech/MIR-1K/amy_2_lyrics.wav'\n",
      " '1']\n"
     ]
    },
    {
     "name": "stderr",
     "output_type": "stream",
     "text": [
      "\r",
      " 17%|█▋        | 65/388 [00:35<03:08,  1.71it/s]"
     ]
    },
    {
     "name": "stdout",
     "output_type": "stream",
     "text": [
      "current processing file ['../../../../../Speech_DataSets/wavDataset20200807/speech/MIR-1K/geniusturtle_1_lyrics.wav'\n",
      " '1']\n"
     ]
    },
    {
     "name": "stderr",
     "output_type": "stream",
     "text": [
      "\r",
      " 17%|█▋        | 66/388 [00:36<02:47,  1.92it/s]"
     ]
    },
    {
     "name": "stdout",
     "output_type": "stream",
     "text": [
      "current processing file ['../../../../../Speech_DataSets/wavDataset20200807/noise/NNoise_mod0716/ñ╧º╓ñΓ½ⁿ║V└úºJñO.dat.wav'\n",
      " '0']\n"
     ]
    },
    {
     "name": "stderr",
     "output_type": "stream",
     "text": [
      " 18%|█▊        | 68/388 [00:36<02:00,  2.67it/s]/home/user/.conda/envs/pytorchenv151/lib/python3.7/site-packages/ipykernel_launcher.py:4: WavFileWarning: Reached EOF prematurely; finished at 320044 bytes, expected 320052 bytes from header.\n",
      "  after removing the cwd from sys.path.\n"
     ]
    },
    {
     "name": "stdout",
     "output_type": "stream",
     "text": [
      "current processing file ['../../../../../Speech_DataSets/wavDataset20200807/noise/NNoise_mod0716/⌐±Ñ╒¬O╡º.wav'\n",
      " '0']\n",
      "current processing file ['../../../../../Speech_DataSets/wavDataset20200807/noise/Evir/Audio_AntiEchoRoom_Silence_KzWAV_0.wav'\n",
      " '0']\n"
     ]
    },
    {
     "name": "stderr",
     "output_type": "stream",
     "text": [
      "\r",
      " 18%|█▊        | 69/388 [00:36<01:50,  2.88it/s]"
     ]
    },
    {
     "name": "stdout",
     "output_type": "stream",
     "text": [
      "current processing file ['../../../../../Speech_DataSets/wavDataset20200807/noise/NNoise_mod0716/ñΓ╛≈║V«αñl .dat.wav'\n",
      " '0']\n"
     ]
    },
    {
     "name": "stderr",
     "output_type": "stream",
     "text": [
      "\r",
      " 18%|█▊        | 70/388 [00:37<01:44,  3.04it/s]"
     ]
    },
    {
     "name": "stdout",
     "output_type": "stream",
     "text": [
      "current processing file ['../../../../../Speech_DataSets/wavDataset20200807/noise/NNoise_mod0716/┤í«y║V└╗.wav'\n",
      " '0']\n"
     ]
    },
    {
     "name": "stderr",
     "output_type": "stream",
     "text": [
      "\r",
      " 18%|█▊        | 71/388 [00:37<01:34,  3.34it/s]"
     ]
    },
    {
     "name": "stdout",
     "output_type": "stream",
     "text": [
      "current processing file ['../../../../../Speech_DataSets/wavDataset20200807/noise/NNoise_mod0716/Dog.wav'\n",
      " '0']\n",
      "current processing file ['../../../../../Speech_DataSets/wavDataset20200807/noise/NNoise_mod0716/┐▀└Y╞N_├Σ╢íroom.dat.wav'\n",
      " '0']\n"
     ]
    },
    {
     "name": "stderr",
     "output_type": "stream",
     "text": [
      "\r",
      " 19%|█▉        | 73/388 [00:37<01:23,  3.79it/s]"
     ]
    },
    {
     "name": "stdout",
     "output_type": "stream",
     "text": [
      "current processing file ['../../../../../Speech_DataSets/wavDataset20200807/noise/NNoise_mod0716/Flipped.dat.wav'\n",
      " '0']\n"
     ]
    },
    {
     "name": "stderr",
     "output_type": "stream",
     "text": [
      "\r",
      " 19%|█▉        | 74/388 [00:38<01:24,  3.70it/s]"
     ]
    },
    {
     "name": "stdout",
     "output_type": "stream",
     "text": [
      "current processing file ['../../../../../Speech_DataSets/wavDataset20200807/noise/NNoise_mod0716/└┐ªτ¬A.wav'\n",
      " '0']\n"
     ]
    },
    {
     "name": "stderr",
     "output_type": "stream",
     "text": [
      "\r",
      " 19%|█▉        | 75/388 [00:38<01:19,  3.93it/s]"
     ]
    },
    {
     "name": "stdout",
     "output_type": "stream",
     "text": [
      "current processing file ['../../../../../Speech_DataSets/wavDataset20200807/noise/NNoise_mod0716/╣C└╕«╔╢í.dat.wav'\n",
      " '0']\n"
     ]
    },
    {
     "name": "stderr",
     "output_type": "stream",
     "text": [
      " 20%|█▉        | 77/388 [00:38<01:08,  4.56it/s]"
     ]
    },
    {
     "name": "stdout",
     "output_type": "stream",
     "text": [
      "current processing file ['../../../../../Speech_DataSets/wavDataset20200807/noise/NNoise_mod0716/Nokia_Classic_re.wav'\n",
      " '0']\n",
      "current processing file ['../../../../../Speech_DataSets/wavDataset20200807/noise/NNoise_mod0716/╣q┐O╢}├÷.wav'\n",
      " '0']\n"
     ]
    },
    {
     "name": "stderr",
     "output_type": "stream",
     "text": [
      "\r",
      " 20%|██        | 78/388 [00:38<01:17,  4.02it/s]"
     ]
    },
    {
     "name": "stdout",
     "output_type": "stream",
     "text": [
      "current processing file ['../../../../../Speech_DataSets/wavDataset20200807/noise/NNoise_mod0716/╞j.dat.wav'\n",
      " '0']\n"
     ]
    },
    {
     "name": "stderr",
     "output_type": "stream",
     "text": [
      "\r",
      " 20%|██        | 79/388 [00:39<01:20,  3.83it/s]"
     ]
    },
    {
     "name": "stdout",
     "output_type": "stream",
     "text": [
      "current processing file ['../../../../../Speech_DataSets/wavDataset20200807/speech/MIR-1K/leon_7_lyrics.wav'\n",
      " '1']\n"
     ]
    },
    {
     "name": "stderr",
     "output_type": "stream",
     "text": [
      "\r",
      " 21%|██        | 80/388 [00:39<01:34,  3.27it/s]"
     ]
    },
    {
     "name": "stdout",
     "output_type": "stream",
     "text": [
      "current processing file ['../../../../../Speech_DataSets/wavDataset20200807/speech/MIR-1K/yifen_1_lyrics.wav'\n",
      " '1']\n"
     ]
    },
    {
     "name": "stderr",
     "output_type": "stream",
     "text": [
      "\r",
      " 21%|██        | 81/388 [00:40<01:45,  2.90it/s]"
     ]
    },
    {
     "name": "stdout",
     "output_type": "stream",
     "text": [
      "current processing file ['../../../../../Speech_DataSets/wavDataset20200807/noise/NNoise_mod0716/Forest Day.dat.wav'\n",
      " '0']\n"
     ]
    },
    {
     "name": "stderr",
     "output_type": "stream",
     "text": [
      "\r",
      " 21%|██        | 82/388 [00:40<01:40,  3.05it/s]"
     ]
    },
    {
     "name": "stdout",
     "output_type": "stream",
     "text": [
      "current processing file ['../../../../../Speech_DataSets/wavDataset20200807/noise/NNoise_mod0716/M1_╝u╕⌡┴n.dat.wav'\n",
      " '0']\n"
     ]
    },
    {
     "name": "stderr",
     "output_type": "stream",
     "text": [
      "\r",
      " 21%|██▏       | 83/388 [00:40<01:35,  3.18it/s]"
     ]
    },
    {
     "name": "stdout",
     "output_type": "stream",
     "text": [
      "current processing file ['../../../../../Speech_DataSets/wavDataset20200807/noise/NNoise_mod0716/┤|╢∞╜ª│U.wav'\n",
      " '0']\n"
     ]
    },
    {
     "name": "stderr",
     "output_type": "stream",
     "text": [
      "\r",
      " 22%|██▏       | 84/388 [00:40<01:27,  3.46it/s]"
     ]
    },
    {
     "name": "stdout",
     "output_type": "stream",
     "text": [
      "current processing file ['../../../../../Speech_DataSets/wavDataset20200807/speech/WeiFangVocal_20180220/Max.wav'\n",
      " '1']\n"
     ]
    },
    {
     "name": "stderr",
     "output_type": "stream",
     "text": [
      "\r",
      " 22%|██▏       | 85/388 [00:41<01:39,  3.05it/s]"
     ]
    },
    {
     "name": "stdout",
     "output_type": "stream",
     "text": [
      "current processing file ['../../../../../Speech_DataSets/wavDataset20200807/speech/MIR-1K/Kenshin_1_lyrics.wav'\n",
      " '1']\n"
     ]
    },
    {
     "name": "stderr",
     "output_type": "stream",
     "text": [
      "\r",
      " 22%|██▏       | 86/388 [00:41<01:37,  3.09it/s]"
     ]
    },
    {
     "name": "stdout",
     "output_type": "stream",
     "text": [
      "current processing file ['../../../../../Speech_DataSets/wavDataset20200807/noise/NNoise_mod0716/─a║├░t╝╓.dat.wav'\n",
      " '0']\n"
     ]
    },
    {
     "name": "stderr",
     "output_type": "stream",
     "text": [
      "\r",
      " 22%|██▏       | 87/388 [00:41<01:33,  3.21it/s]"
     ]
    },
    {
     "name": "stdout",
     "output_type": "stream",
     "text": [
      "current processing file ['../../../../../Speech_DataSets/wavDataset20200807/speech/MIR-1K/Kenshin_4_lyrics.wav'\n",
      " '1']\n"
     ]
    },
    {
     "name": "stderr",
     "output_type": "stream",
     "text": [
      " 23%|██▎       | 89/388 [00:42<01:18,  3.79it/s]"
     ]
    },
    {
     "name": "stdout",
     "output_type": "stream",
     "text": [
      "current processing file ['../../../../../Speech_DataSets/wavDataset20200807/speech/Chinese_20180730/Traditional_Chinese_YT.wav'\n",
      " '1']\n",
      "current processing file ['../../../../../Speech_DataSets/wavDataset20200807/noise/NNoise_mod0716/Tune Clean.dat.wav'\n",
      " '0']\n"
     ]
    },
    {
     "name": "stderr",
     "output_type": "stream",
     "text": [
      "\r",
      " 23%|██▎       | 90/388 [00:42<01:20,  3.70it/s]"
     ]
    },
    {
     "name": "stdout",
     "output_type": "stream",
     "text": [
      "current processing file ['../../../../../Speech_DataSets/wavDataset20200807/noise/NNoise_mod0716/├÷¬∙.dat.wav'\n",
      " '0']\n"
     ]
    },
    {
     "name": "stderr",
     "output_type": "stream",
     "text": [
      "\r",
      " 23%|██▎       | 91/388 [00:42<01:21,  3.65it/s]"
     ]
    },
    {
     "name": "stdout",
     "output_type": "stream",
     "text": [
      "current processing file ['../../../../../Speech_DataSets/wavDataset20200807/noise/NNoise_mod0716/cow.dat.wav'\n",
      " '0']\n"
     ]
    },
    {
     "name": "stderr",
     "output_type": "stream",
     "text": [
      "\r",
      " 24%|██▎       | 92/388 [00:43<01:22,  3.61it/s]"
     ]
    },
    {
     "name": "stdout",
     "output_type": "stream",
     "text": [
      "current processing file ['../../../../../Speech_DataSets/wavDataset20200807/noise/NNoise_mod0716/▓µ╛c.wav'\n",
      " '0']\n"
     ]
    },
    {
     "name": "stderr",
     "output_type": "stream",
     "text": [
      "\r",
      " 24%|██▍       | 93/388 [00:43<01:15,  3.88it/s]"
     ]
    },
    {
     "name": "stdout",
     "output_type": "stream",
     "text": [
      "current processing file ['../../../../../Speech_DataSets/wavDataset20200807/noise/NNoise_mod0716/ª╤¬Ω.dat.wav'\n",
      " '0']\n"
     ]
    },
    {
     "name": "stderr",
     "output_type": "stream",
     "text": [
      "\r",
      " 24%|██▍       | 94/388 [00:43<01:17,  3.77it/s]"
     ]
    },
    {
     "name": "stdout",
     "output_type": "stream",
     "text": [
      "current processing file ['../../../../../Speech_DataSets/wavDataset20200807/noise/NNoise_mod0716/M1_║V╖|─│«αby10ñΓ½ⁿ.dat.wav'\n",
      " '0']\n"
     ]
    },
    {
     "name": "stderr",
     "output_type": "stream",
     "text": [
      "\r",
      " 24%|██▍       | 95/388 [00:44<01:19,  3.68it/s]"
     ]
    },
    {
     "name": "stdout",
     "output_type": "stream",
     "text": [
      "current processing file ['../../../../../Speech_DataSets/wavDataset20200807/speech/MIR-1K/leon_4_lyrics.wav'\n",
      " '1']\n"
     ]
    },
    {
     "name": "stderr",
     "output_type": "stream",
     "text": [
      "\r",
      " 25%|██▍       | 96/388 [00:44<01:27,  3.33it/s]"
     ]
    },
    {
     "name": "stdout",
     "output_type": "stream",
     "text": [
      "current processing file ['../../../../../Speech_DataSets/wavDataset20200807/noise/NNoise_mod0716/¼┴╝■.dat.wav'\n",
      " '0']\n"
     ]
    },
    {
     "name": "stderr",
     "output_type": "stream",
     "text": [
      "\r",
      " 25%|██▌       | 97/388 [00:44<01:25,  3.39it/s]"
     ]
    },
    {
     "name": "stdout",
     "output_type": "stream",
     "text": [
      "current processing file ['../../../../../Speech_DataSets/wavDataset20200807/noise/NNoise_mod0716/Harp.dat.wav'\n",
      " '0']\n"
     ]
    },
    {
     "name": "stderr",
     "output_type": "stream",
     "text": [
      " 26%|██▌       | 99/388 [00:45<01:14,  3.86it/s]"
     ]
    },
    {
     "name": "stdout",
     "output_type": "stream",
     "text": [
      "current processing file ['../../../../../Speech_DataSets/wavDataset20200807/noise/NNoise_mod0716/│┴ºJ╡º║V└╗1.wav'\n",
      " '0']\n",
      "current processing file ['../../../../../Speech_DataSets/wavDataset20200807/noise/NNoise_mod0716/╣q╕▄½÷┴Σ.wav'\n",
      " '0']\n"
     ]
    },
    {
     "name": "stderr",
     "output_type": "stream",
     "text": [
      "\r",
      " 26%|██▌       | 100/388 [00:45<01:10,  4.07it/s]"
     ]
    },
    {
     "name": "stdout",
     "output_type": "stream",
     "text": [
      "current processing file ['../../../../../Speech_DataSets/wavDataset20200807/noise/NNoise_mod0716/M1_╞j.dat.wav'\n",
      " '0']\n"
     ]
    },
    {
     "name": "stderr",
     "output_type": "stream",
     "text": [
      "\r",
      " 26%|██▌       | 101/388 [00:45<01:14,  3.87it/s]"
     ]
    },
    {
     "name": "stdout",
     "output_type": "stream",
     "text": [
      "current processing file ['../../../../../Speech_DataSets/wavDataset20200807/noise/NNoise_mod0716/ñp┬√.dat.wav'\n",
      " '0']\n"
     ]
    },
    {
     "name": "stderr",
     "output_type": "stream",
     "text": [
      "\r",
      " 26%|██▋       | 102/388 [00:45<01:16,  3.73it/s]"
     ]
    },
    {
     "name": "stdout",
     "output_type": "stream",
     "text": [
      "current processing file ['../../../../../Speech_DataSets/wavDataset20200807/speech/MIR-1K/titon_5_lyrics.wav'\n",
      " '1']\n"
     ]
    },
    {
     "name": "stderr",
     "output_type": "stream",
     "text": [
      "\r",
      " 27%|██▋       | 103/388 [00:46<01:27,  3.27it/s]"
     ]
    },
    {
     "name": "stdout",
     "output_type": "stream",
     "text": [
      "current processing file ['../../../../../Speech_DataSets/wavDataset20200807/speech/MIR-1K/stool_1_lyric.wav'\n",
      " '1']\n"
     ]
    },
    {
     "name": "stderr",
     "output_type": "stream",
     "text": [
      "\r",
      " 27%|██▋       | 104/388 [00:46<01:29,  3.17it/s]"
     ]
    },
    {
     "name": "stdout",
     "output_type": "stream",
     "text": [
      "current processing file ['../../../../../Speech_DataSets/wavDataset20200807/noise/NNoise_mod0716/│┴ºJ¡╖⌐│«y_├Σ╢íroom.dat.wav'\n",
      " '0']\n"
     ]
    },
    {
     "name": "stderr",
     "output_type": "stream",
     "text": [
      "\r",
      " 27%|██▋       | 105/388 [00:46<01:27,  3.25it/s]"
     ]
    },
    {
     "name": "stdout",
     "output_type": "stream",
     "text": [
      "current processing file ['../../../../../Speech_DataSets/wavDataset20200807/speech/MIR-1K/geniusturtle_6_lyrics.wav'\n",
      " '1']\n"
     ]
    },
    {
     "name": "stderr",
     "output_type": "stream",
     "text": [
      "\r",
      " 27%|██▋       | 106/388 [00:47<01:36,  2.92it/s]"
     ]
    },
    {
     "name": "stdout",
     "output_type": "stream",
     "text": [
      "current processing file ['../../../../../Speech_DataSets/wavDataset20200807/noise/NNoise_mod0716/M1_┬Fñl.dat.wav'\n",
      " '0']\n"
     ]
    },
    {
     "name": "stderr",
     "output_type": "stream",
     "text": [
      "\r",
      " 28%|██▊       | 107/388 [00:47<01:30,  3.11it/s]"
     ]
    },
    {
     "name": "stdout",
     "output_type": "stream",
     "text": [
      "current processing file ['../../../../../Speech_DataSets/wavDataset20200807/speech/MIR-1K/amy_3_lyrics.wav'\n",
      " '1']\n"
     ]
    },
    {
     "name": "stderr",
     "output_type": "stream",
     "text": [
      "\r",
      " 28%|██▊       | 108/388 [00:48<01:36,  2.89it/s]"
     ]
    },
    {
     "name": "stdout",
     "output_type": "stream",
     "text": [
      "current processing file ['../../../../../Speech_DataSets/wavDataset20200807/noise/NNoise_mod0716/Sax.dat.wav'\n",
      " '0']\n"
     ]
    },
    {
     "name": "stderr",
     "output_type": "stream",
     "text": [
      "\r",
      " 28%|██▊       | 109/388 [00:48<01:31,  3.05it/s]"
     ]
    },
    {
     "name": "stdout",
     "output_type": "stream",
     "text": [
      "current processing file ['../../../../../Speech_DataSets/wavDataset20200807/noise/NNoise_mod0716/░¿.dat.wav'\n",
      " '0']\n"
     ]
    },
    {
     "name": "stderr",
     "output_type": "stream",
     "text": [
      "\r",
      " 28%|██▊       | 110/388 [00:48<01:27,  3.16it/s]"
     ]
    },
    {
     "name": "stdout",
     "output_type": "stream",
     "text": [
      "current processing file ['../../../../../Speech_DataSets/wavDataset20200807/noise/NNoise_mod0716/M1_holmesñp╢]¿B.dat.wav'\n",
      " '0']\n"
     ]
    },
    {
     "name": "stderr",
     "output_type": "stream",
     "text": [
      "\r",
      " 29%|██▊       | 111/388 [00:48<01:24,  3.26it/s]"
     ]
    },
    {
     "name": "stdout",
     "output_type": "stream",
     "text": [
      "current processing file ['../../../../../Speech_DataSets/wavDataset20200807/noise/NNoise_mod0716/Demo_listing.wav'\n",
      " '0']\n"
     ]
    },
    {
     "name": "stderr",
     "output_type": "stream",
     "text": [
      " 29%|██▉       | 113/388 [00:50<02:07,  2.15it/s]"
     ]
    },
    {
     "name": "stdout",
     "output_type": "stream",
     "text": [
      "current processing file ['../../../../../Speech_DataSets/wavDataset20200807/noise/NNoise_mod0716/⌐τ«αñl 2.wav'\n",
      " '0']\n",
      "current processing file ['../../../../../Speech_DataSets/wavDataset20200807/noise/NNoise_mod0716/⌐τ«α1.dat.wav'\n",
      " '0']\n"
     ]
    },
    {
     "name": "stderr",
     "output_type": "stream",
     "text": [
      "\r",
      " 29%|██▉       | 114/388 [00:50<01:52,  2.44it/s]"
     ]
    },
    {
     "name": "stdout",
     "output_type": "stream",
     "text": [
      "current processing file ['../../../../../Speech_DataSets/wavDataset20200807/noise/NNoise_mod0716/╖|─│½╟ñU½B┴n.dat.wav'\n",
      " '0']\n"
     ]
    },
    {
     "name": "stderr",
     "output_type": "stream",
     "text": [
      "\r",
      " 30%|██▉       | 115/388 [00:50<01:41,  2.69it/s]"
     ]
    },
    {
     "name": "stdout",
     "output_type": "stream",
     "text": [
      "current processing file ['../../../../../Speech_DataSets/wavDataset20200807/speech/MIR-1K/annar_2_lyrics.wav'\n",
      " '1']\n"
     ]
    },
    {
     "name": "stderr",
     "output_type": "stream",
     "text": [
      "\r",
      " 30%|██▉       | 116/388 [00:51<01:48,  2.50it/s]"
     ]
    },
    {
     "name": "stdout",
     "output_type": "stream",
     "text": [
      "current processing file ['../../../../../Speech_DataSets/wavDataset20200807/noise/NNoise_mod0716/¬∙╣a.dat.wav'\n",
      " '0']\n"
     ]
    },
    {
     "name": "stderr",
     "output_type": "stream",
     "text": [
      "\r",
      " 30%|███       | 117/388 [00:51<01:38,  2.74it/s]"
     ]
    },
    {
     "name": "stdout",
     "output_type": "stream",
     "text": [
      "current processing file ['../../../../../Speech_DataSets/wavDataset20200807/noise/NNoise_mod0716/║╧┼KÑ╒¬O.wav'\n",
      " '0']\n"
     ]
    },
    {
     "name": "stderr",
     "output_type": "stream",
     "text": [
      "\r",
      " 30%|███       | 118/388 [00:51<01:26,  3.12it/s]"
     ]
    },
    {
     "name": "stdout",
     "output_type": "stream",
     "text": [
      "current processing file ['../../../../../Speech_DataSets/wavDataset20200807/noise/NNoise_mod0716/pigeon.dat.wav'\n",
      " '0']\n"
     ]
    },
    {
     "name": "stderr",
     "output_type": "stream",
     "text": [
      "\r",
      " 31%|███       | 119/388 [00:52<01:23,  3.23it/s]"
     ]
    },
    {
     "name": "stdout",
     "output_type": "stream",
     "text": [
      "current processing file ['../../../../../Speech_DataSets/wavDataset20200807/noise/NNoise_mod0716/M1_ñWñ╔_6713_MEMSmic .dat.wav'\n",
      " '0']\n"
     ]
    },
    {
     "name": "stderr",
     "output_type": "stream",
     "text": [
      "\r",
      " 31%|███       | 120/388 [00:52<01:21,  3.31it/s]"
     ]
    },
    {
     "name": "stdout",
     "output_type": "stream",
     "text": [
      "current processing file ['../../../../../Speech_DataSets/wavDataset20200807/speech/MIR-1K/Kenshin_3_lyrics.wav'\n",
      " '1']\n"
     ]
    },
    {
     "name": "stderr",
     "output_type": "stream",
     "text": [
      "\r",
      " 31%|███       | 121/388 [00:52<01:25,  3.14it/s]"
     ]
    },
    {
     "name": "stdout",
     "output_type": "stream",
     "text": [
      "current processing file ['../../../../../Speech_DataSets/wavDataset20200807/noise/NNoise_mod0716/M1_║╡.dat.wav'\n",
      " '0']\n"
     ]
    },
    {
     "name": "stderr",
     "output_type": "stream",
     "text": [
      "\r",
      " 31%|███▏      | 122/388 [00:53<01:22,  3.24it/s]"
     ]
    },
    {
     "name": "stdout",
     "output_type": "stream",
     "text": [
      "current processing file ['../../../../../Speech_DataSets/wavDataset20200807/speech/MIR-1K/khair_4_lyrics.wav'\n",
      " '1']\n"
     ]
    },
    {
     "name": "stderr",
     "output_type": "stream",
     "text": [
      "\r",
      " 32%|███▏      | 123/388 [00:53<01:24,  3.14it/s]"
     ]
    },
    {
     "name": "stdout",
     "output_type": "stream",
     "text": [
      "current processing file ['../../../../../Speech_DataSets/wavDataset20200807/speech/MIR-1K/bobon_3_lyrics.wav'\n",
      " '1']\n"
     ]
    },
    {
     "name": "stderr",
     "output_type": "stream",
     "text": [
      "\r",
      " 32%|███▏      | 124/388 [00:53<01:34,  2.79it/s]"
     ]
    },
    {
     "name": "stdout",
     "output_type": "stream",
     "text": [
      "current processing file ['../../../../../Speech_DataSets/wavDataset20200807/noise/NNoise_mod0716/╡╖║≈.dat.wav'\n",
      " '0']\n"
     ]
    },
    {
     "name": "stderr",
     "output_type": "stream",
     "text": [
      "\r",
      " 32%|███▏      | 125/388 [00:54<01:28,  2.98it/s]"
     ]
    },
    {
     "name": "stdout",
     "output_type": "stream",
     "text": [
      "current processing file ['../../../../../Speech_DataSets/wavDataset20200807/noise/NNoise_mod0716/Start_TheWalkingDead_re.wav'\n",
      " '0']\n"
     ]
    },
    {
     "name": "stderr",
     "output_type": "stream",
     "text": [
      "\r",
      " 32%|███▏      | 126/388 [00:54<01:18,  3.35it/s]"
     ]
    },
    {
     "name": "stdout",
     "output_type": "stream",
     "text": [
      "current processing file ['../../../../../Speech_DataSets/wavDataset20200807/speech/MIR-1K/davidson_4_lyrics.wav'\n",
      " '1']\n"
     ]
    },
    {
     "name": "stderr",
     "output_type": "stream",
     "text": [
      "\r",
      " 33%|███▎      | 127/388 [00:54<01:27,  2.99it/s]"
     ]
    },
    {
     "name": "stdout",
     "output_type": "stream",
     "text": [
      "current processing file ['../../../../../Speech_DataSets/wavDataset20200807/noise/NNoise_mod0716/EMT_╡L┴n ¬¼║A.dat.wav'\n",
      " '0']\n"
     ]
    },
    {
     "name": "stderr",
     "output_type": "stream",
     "text": [
      "\r",
      " 33%|███▎      | 128/388 [00:55<01:22,  3.13it/s]"
     ]
    },
    {
     "name": "stdout",
     "output_type": "stream",
     "text": [
      "current processing file ['../../../../../Speech_DataSets/wavDataset20200807/noise/NNoise_mod0716/⌐τñ∞¬O╣j╢í.dat.wav'\n",
      " '0']\n"
     ]
    },
    {
     "name": "stderr",
     "output_type": "stream",
     "text": [
      "\r",
      " 33%|███▎      | 129/388 [00:55<01:19,  3.24it/s]"
     ]
    },
    {
     "name": "stdout",
     "output_type": "stream",
     "text": [
      "current processing file ['../../../../../Speech_DataSets/wavDataset20200807/speech/MIR-1K/khair_2_lyrics.wav'\n",
      " '1']\n"
     ]
    },
    {
     "name": "stderr",
     "output_type": "stream",
     "text": [
      "\r",
      " 34%|███▎      | 130/388 [00:55<01:22,  3.13it/s]"
     ]
    },
    {
     "name": "stdout",
     "output_type": "stream",
     "text": [
      "current processing file ['../../../../../Speech_DataSets/wavDataset20200807/noise/NNoise_mod0716/│╗«p.dat.wav'\n",
      " '0']\n"
     ]
    },
    {
     "name": "stderr",
     "output_type": "stream",
     "text": [
      "\r",
      " 34%|███▍      | 131/388 [00:55<01:19,  3.24it/s]"
     ]
    },
    {
     "name": "stdout",
     "output_type": "stream",
     "text": [
      "current processing file ['../../../../../Speech_DataSets/wavDataset20200807/noise/NNoise_mod0716/»▀╜─.dat.wav'\n",
      " '0']\n"
     ]
    },
    {
     "name": "stderr",
     "output_type": "stream",
     "text": [
      "\r",
      " 34%|███▍      | 132/388 [00:56<01:17,  3.30it/s]"
     ]
    },
    {
     "name": "stdout",
     "output_type": "stream",
     "text": [
      "current processing file ['../../../../../Speech_DataSets/wavDataset20200807/noise/NNoise_mod0716/sñ∞╡^.dat.wav'\n",
      " '0']\n"
     ]
    },
    {
     "name": "stderr",
     "output_type": "stream",
     "text": [
      "\r",
      " 34%|███▍      | 133/388 [00:56<01:15,  3.36it/s]"
     ]
    },
    {
     "name": "stdout",
     "output_type": "stream",
     "text": [
      "current processing file ['../../../../../Speech_DataSets/wavDataset20200807/noise/NNoise_mod0716/M1_┬√.dat.wav'\n",
      " '0']\n"
     ]
    },
    {
     "name": "stderr",
     "output_type": "stream",
     "text": [
      "\r",
      " 35%|███▍      | 134/388 [00:56<01:14,  3.40it/s]"
     ]
    },
    {
     "name": "stdout",
     "output_type": "stream",
     "text": [
      "current processing file ['../../../../../Speech_DataSets/wavDataset20200807/noise/NNoise_mod0716/M1_╛≈╛╣ñH.dat.wav'\n",
      " '0']\n"
     ]
    },
    {
     "name": "stderr",
     "output_type": "stream",
     "text": [
      "\r",
      " 35%|███▍      | 135/388 [00:57<01:14,  3.41it/s]"
     ]
    },
    {
     "name": "stdout",
     "output_type": "stream",
     "text": [
      "current processing file ['../../../../../Speech_DataSets/wavDataset20200807/noise/NNoise_mod0716/┐∞ñ╜┤╚re.dat.wav'\n",
      " '0']\n"
     ]
    },
    {
     "name": "stderr",
     "output_type": "stream",
     "text": [
      "\r",
      " 35%|███▌      | 136/388 [00:57<01:13,  3.43it/s]"
     ]
    },
    {
     "name": "stdout",
     "output_type": "stream",
     "text": [
      "current processing file ['../../../../../Speech_DataSets/wavDataset20200807/noise/NNoise_mod0716/ñ∞╡^_├Σ╢íroom.dat.wav'\n",
      " '0']\n"
     ]
    },
    {
     "name": "stderr",
     "output_type": "stream",
     "text": [
      "\r",
      " 35%|███▌      | 137/388 [00:57<01:13,  3.42it/s]"
     ]
    },
    {
     "name": "stdout",
     "output_type": "stream",
     "text": [
      "current processing file ['../../../../../Speech_DataSets/wavDataset20200807/noise/NNoise_mod0716/M1_⌐τñΓ1.dat.wav'\n",
      " '0']\n"
     ]
    },
    {
     "name": "stderr",
     "output_type": "stream",
     "text": [
      "\r",
      " 36%|███▌      | 138/388 [00:57<01:12,  3.43it/s]"
     ]
    },
    {
     "name": "stdout",
     "output_type": "stream",
     "text": [
      "current processing file ['../../../../../Speech_DataSets/wavDataset20200807/speech/MIR-1K/heycat_1_lyrics.wav'\n",
      " '1']\n"
     ]
    },
    {
     "name": "stderr",
     "output_type": "stream",
     "text": [
      "\r",
      " 36%|███▌      | 139/388 [00:58<01:22,  3.00it/s]"
     ]
    },
    {
     "name": "stdout",
     "output_type": "stream",
     "text": [
      "current processing file ['../../../../../Speech_DataSets/wavDataset20200807/noise/NNoise_mod0716/⌐τ¿¡┼Θ1.wav'\n",
      " '0']\n"
     ]
    },
    {
     "name": "stderr",
     "output_type": "stream",
     "text": [
      "\r",
      " 36%|███▌      | 140/388 [00:58<01:14,  3.33it/s]"
     ]
    },
    {
     "name": "stdout",
     "output_type": "stream",
     "text": [
      "current processing file ['../../../../../Speech_DataSets/wavDataset20200807/speech/MIR-1K/bobon_5_lyrics.wav'\n",
      " '1']\n"
     ]
    },
    {
     "name": "stderr",
     "output_type": "stream",
     "text": [
      " 37%|███▋      | 142/388 [00:59<01:08,  3.61it/s]"
     ]
    },
    {
     "name": "stdout",
     "output_type": "stream",
     "text": [
      "current processing file ['../../../../../Speech_DataSets/wavDataset20200807/noise/NNoise_mod0716/⌐τñΓ1.wav'\n",
      " '0']\n",
      "current processing file ['../../../../../Speech_DataSets/wavDataset20200807/speech/MIR-1K/geniusturtle_7_lyrics.wav'\n",
      " '1']\n"
     ]
    },
    {
     "name": "stderr",
     "output_type": "stream",
     "text": [
      "\r",
      " 37%|███▋      | 143/388 [00:59<01:14,  3.28it/s]"
     ]
    },
    {
     "name": "stdout",
     "output_type": "stream",
     "text": [
      "current processing file ['../../../../../Speech_DataSets/wavDataset20200807/speech/MIR-1K/annar_4_lyrics.wav'\n",
      " '1']\n"
     ]
    },
    {
     "name": "stderr",
     "output_type": "stream",
     "text": [
      "\r",
      " 37%|███▋      | 144/388 [01:00<01:26,  2.82it/s]"
     ]
    },
    {
     "name": "stdout",
     "output_type": "stream",
     "text": [
      "current processing file ['../../../../../Speech_DataSets/wavDataset20200807/noise/NNoise_mod0716/A1_ñQ½ⁿ├÷╕`║V«αñl .dat.wav'\n",
      " '0']\n"
     ]
    },
    {
     "name": "stderr",
     "output_type": "stream",
     "text": [
      "\r",
      " 37%|███▋      | 145/388 [01:00<01:21,  3.00it/s]"
     ]
    },
    {
     "name": "stdout",
     "output_type": "stream",
     "text": [
      "current processing file ['../../../../../Speech_DataSets/wavDataset20200807/noise/NNoise_mod0716/EMT_╢}│⌡.dat.wav'\n",
      " '0']\n"
     ]
    },
    {
     "name": "stderr",
     "output_type": "stream",
     "text": [
      "\r",
      " 38%|███▊      | 146/388 [01:00<01:17,  3.14it/s]"
     ]
    },
    {
     "name": "stdout",
     "output_type": "stream",
     "text": [
      "current processing file ['../../../../../Speech_DataSets/wavDataset20200807/noise/NNoise_mod0716/Mic noise SCK.dat.wav'\n",
      " '0']\n"
     ]
    },
    {
     "name": "stderr",
     "output_type": "stream",
     "text": [
      "\r",
      " 38%|███▊      | 147/388 [01:00<01:14,  3.25it/s]"
     ]
    },
    {
     "name": "stdout",
     "output_type": "stream",
     "text": [
      "current processing file ['../../../../../Speech_DataSets/wavDataset20200807/speech/MIR-1K/leon_3_lyrics.wav'\n",
      " '1']\n"
     ]
    },
    {
     "name": "stderr",
     "output_type": "stream",
     "text": [
      "\r",
      " 38%|███▊      | 148/388 [01:01<01:21,  2.96it/s]"
     ]
    },
    {
     "name": "stdout",
     "output_type": "stream",
     "text": [
      "current processing file ['../../../../../Speech_DataSets/wavDataset20200807/speech/MIR-1K/ariel_3_lyrics.wav'\n",
      " '1']\n"
     ]
    },
    {
     "name": "stderr",
     "output_type": "stream",
     "text": [
      "\r",
      " 38%|███▊      | 149/388 [01:01<01:28,  2.71it/s]"
     ]
    },
    {
     "name": "stdout",
     "output_type": "stream",
     "text": [
      "current processing file ['../../../../../Speech_DataSets/wavDataset20200807/noise/NNoise_mod0716/╖|─│½╟╣q╕▄┼T╣a.wav'\n",
      " '0']\n"
     ]
    },
    {
     "name": "stderr",
     "output_type": "stream",
     "text": [
      " 39%|███▉      | 151/388 [01:02<01:08,  3.45it/s]"
     ]
    },
    {
     "name": "stdout",
     "output_type": "stream",
     "text": [
      "current processing file ['../../../../../Speech_DataSets/wavDataset20200807/noise/NNoise_mod0716/╜├Ñ═»╚.wav'\n",
      " '0']\n",
      "current processing file ['../../../../../Speech_DataSets/wavDataset20200807/noise/NNoise_mod0716/M1_└úºJñO╢}├÷¬∙.dat.wav'\n",
      " '0']\n"
     ]
    },
    {
     "name": "stderr",
     "output_type": "stream",
     "text": [
      "\r",
      " 39%|███▉      | 152/388 [01:02<01:07,  3.47it/s]"
     ]
    },
    {
     "name": "stdout",
     "output_type": "stream",
     "text": [
      "current processing file ['../../../../../Speech_DataSets/wavDataset20200807/noise/NNoise_mod0716/s╝»ª½¿«.dat.wav'\n",
      " '0']\n"
     ]
    },
    {
     "name": "stderr",
     "output_type": "stream",
     "text": [
      "\r",
      " 39%|███▉      | 153/388 [01:02<01:07,  3.49it/s]"
     ]
    },
    {
     "name": "stdout",
     "output_type": "stream",
     "text": [
      "current processing file ['../../../../../Speech_DataSets/wavDataset20200807/speech/MIR-1K/geniusturtle_2_lyrics.wav'\n",
      " '1']\n"
     ]
    },
    {
     "name": "stderr",
     "output_type": "stream",
     "text": [
      "\r",
      " 40%|███▉      | 154/388 [01:03<01:11,  3.25it/s]"
     ]
    },
    {
     "name": "stdout",
     "output_type": "stream",
     "text": [
      "current processing file ['../../../../../Speech_DataSets/wavDataset20200807/noise/NNoise_mod0716/ñΓ⌐τ╖|─│«α.wav'\n",
      " '0']\n"
     ]
    },
    {
     "name": "stderr",
     "output_type": "stream",
     "text": [
      "\r",
      " 40%|███▉      | 155/388 [01:03<01:13,  3.18it/s]"
     ]
    },
    {
     "name": "stdout",
     "output_type": "stream",
     "text": [
      "current processing file ['../../../../../Speech_DataSets/wavDataset20200807/speech/MIR-1K/jmzen_3_lyrics.wav'\n",
      " '1']\n"
     ]
    },
    {
     "name": "stderr",
     "output_type": "stream",
     "text": [
      "\r",
      " 40%|████      | 156/388 [01:03<01:19,  2.92it/s]"
     ]
    },
    {
     "name": "stdout",
     "output_type": "stream",
     "text": [
      "current processing file ['../../../../../Speech_DataSets/wavDataset20200807/speech/MIR-1K/Ani_3_lyrics.wav'\n",
      " '1']\n"
     ]
    },
    {
     "name": "stderr",
     "output_type": "stream",
     "text": [
      "\r",
      " 40%|████      | 157/388 [01:04<01:17,  2.97it/s]"
     ]
    },
    {
     "name": "stdout",
     "output_type": "stream",
     "text": [
      "current processing file ['../../../../../Speech_DataSets/wavDataset20200807/speech/MIR-1K/amy_10_lyrics.wav'\n",
      " '1']\n"
     ]
    },
    {
     "name": "stderr",
     "output_type": "stream",
     "text": [
      "\r",
      " 41%|████      | 158/388 [01:04<01:19,  2.89it/s]"
     ]
    },
    {
     "name": "stdout",
     "output_type": "stream",
     "text": [
      "current processing file ['../../../../../Speech_DataSets/wavDataset20200807/speech/MIR-1K/ariel_1_lyrics.wav'\n",
      " '1']\n"
     ]
    },
    {
     "name": "stderr",
     "output_type": "stream",
     "text": [
      "\r",
      " 41%|████      | 159/388 [01:04<01:20,  2.85it/s]"
     ]
    },
    {
     "name": "stdout",
     "output_type": "stream",
     "text": [
      "current processing file ['../../../../../Speech_DataSets/wavDataset20200807/noise/NNoise_mod0716/┐▀└Y╞N.dat.wav'\n",
      " '0']\n"
     ]
    },
    {
     "name": "stderr",
     "output_type": "stream",
     "text": [
      "\r",
      " 41%|████      | 160/388 [01:05<01:15,  3.01it/s]"
     ]
    },
    {
     "name": "stdout",
     "output_type": "stream",
     "text": [
      "current processing file ['../../../../../Speech_DataSets/wavDataset20200807/speech/WeiFangVocal_20180220/Gavin.wav'\n",
      " '1']\n"
     ]
    },
    {
     "name": "stderr",
     "output_type": "stream",
     "text": [
      "\r",
      " 41%|████▏     | 161/388 [01:05<01:20,  2.83it/s]"
     ]
    },
    {
     "name": "stdout",
     "output_type": "stream",
     "text": [
      "current processing file ['../../../../../Speech_DataSets/wavDataset20200807/speech/MIR-1K/heycat_4_lyrics.wav'\n",
      " '1']\n"
     ]
    },
    {
     "name": "stderr",
     "output_type": "stream",
     "text": [
      "\r",
      " 42%|████▏     | 162/388 [01:06<01:28,  2.54it/s]"
     ]
    },
    {
     "name": "stdout",
     "output_type": "stream",
     "text": [
      "current processing file ['../../../../../Speech_DataSets/wavDataset20200807/noise/NNoise_mod0716/┬Fñl.dat.wav'\n",
      " '0']\n"
     ]
    },
    {
     "name": "stderr",
     "output_type": "stream",
     "text": [
      "\r",
      " 42%|████▏     | 163/388 [01:06<01:21,  2.77it/s]"
     ]
    },
    {
     "name": "stdout",
     "output_type": "stream",
     "text": [
      "current processing file ['../../../../../Speech_DataSets/wavDataset20200807/noise/NNoise_mod0716/Little Wish.dat.wav'\n",
      " '0']\n"
     ]
    },
    {
     "name": "stderr",
     "output_type": "stream",
     "text": [
      "\r",
      " 42%|████▏     | 164/388 [01:06<01:15,  2.96it/s]"
     ]
    },
    {
     "name": "stdout",
     "output_type": "stream",
     "text": [
      "current processing file ['../../../../../Speech_DataSets/wavDataset20200807/speech/MIR-1K/tammy_1_lyrics.wav'\n",
      " '1']\n"
     ]
    },
    {
     "name": "stderr",
     "output_type": "stream",
     "text": [
      "\r",
      " 43%|████▎     | 165/388 [01:07<01:22,  2.71it/s]"
     ]
    },
    {
     "name": "stdout",
     "output_type": "stream",
     "text": [
      "current processing file ['../../../../../Speech_DataSets/wavDataset20200807/noise/NNoise_mod0716/iphone_test_train_part1.dat.wav'\n",
      " '0']\n"
     ]
    },
    {
     "name": "stderr",
     "output_type": "stream",
     "text": [
      "\r",
      " 43%|████▎     | 166/388 [01:07<01:16,  2.91it/s]"
     ]
    },
    {
     "name": "stdout",
     "output_type": "stream",
     "text": [
      "current processing file ['../../../../../Speech_DataSets/wavDataset20200807/speech/MIR-1K/geniusturtle_8_lyrics.wav'\n",
      " '1']\n"
     ]
    },
    {
     "name": "stderr",
     "output_type": "stream",
     "text": [
      "\r",
      " 43%|████▎     | 167/388 [01:07<01:22,  2.67it/s]"
     ]
    },
    {
     "name": "stdout",
     "output_type": "stream",
     "text": [
      "current processing file ['../../../../../Speech_DataSets/wavDataset20200807/noise/NNoise_mod0716/Demo_╢}│⌡_part1.dat.wav'\n",
      " '0']\n"
     ]
    },
    {
     "name": "stderr",
     "output_type": "stream",
     "text": [
      "\r",
      " 43%|████▎     | 168/388 [01:08<01:16,  2.86it/s]"
     ]
    },
    {
     "name": "stdout",
     "output_type": "stream",
     "text": [
      "current processing file ['../../../../../Speech_DataSets/wavDataset20200807/noise/NNoise_mod0716/sñWñ╔.dat.wav'\n",
      " '0']\n"
     ]
    },
    {
     "name": "stderr",
     "output_type": "stream",
     "text": [
      "\r",
      " 44%|████▎     | 169/388 [01:08<01:12,  3.01it/s]"
     ]
    },
    {
     "name": "stdout",
     "output_type": "stream",
     "text": [
      "current processing file ['../../../../../Speech_DataSets/wavDataset20200807/speech/MIR-1K/leon_9_lyrics.wav'\n",
      " '1']\n"
     ]
    },
    {
     "name": "stderr",
     "output_type": "stream",
     "text": [
      "\r",
      " 44%|████▍     | 170/388 [01:08<01:13,  2.96it/s]"
     ]
    },
    {
     "name": "stdout",
     "output_type": "stream",
     "text": [
      "current processing file ['../../../../../Speech_DataSets/wavDataset20200807/noise/NNoise_mod0716/pig.dat.wav'\n",
      " '0']\n"
     ]
    },
    {
     "name": "stderr",
     "output_type": "stream",
     "text": [
      "\r",
      " 44%|████▍     | 171/388 [01:09<01:09,  3.10it/s]"
     ]
    },
    {
     "name": "stdout",
     "output_type": "stream",
     "text": [
      "current processing file ['../../../../../Speech_DataSets/wavDataset20200807/noise/NNoise_mod0716/╢i│⌡1.dat.wav'\n",
      " '0']\n"
     ]
    },
    {
     "name": "stderr",
     "output_type": "stream",
     "text": [
      "\r",
      " 44%|████▍     | 172/388 [01:09<01:07,  3.18it/s]"
     ]
    },
    {
     "name": "stdout",
     "output_type": "stream",
     "text": [
      "current processing file ['../../../../../Speech_DataSets/wavDataset20200807/noise/NNoise_mod0716/║Ñ▒j.dat.wav'\n",
      " '0']\n"
     ]
    },
    {
     "name": "stderr",
     "output_type": "stream",
     "text": [
      "\r",
      " 45%|████▍     | 173/388 [01:09<01:05,  3.27it/s]"
     ]
    },
    {
     "name": "stdout",
     "output_type": "stream",
     "text": [
      "current processing file ['../../../../../Speech_DataSets/wavDataset20200807/noise/NNoise_mod0716/╕}╜±¡½╜±ªa¬O.wav'\n",
      " '0']\n"
     ]
    },
    {
     "name": "stderr",
     "output_type": "stream",
     "text": [
      "\r",
      " 45%|████▍     | 174/388 [01:09<01:05,  3.25it/s]"
     ]
    },
    {
     "name": "stdout",
     "output_type": "stream",
     "text": [
      "current processing file ['../../../../../Speech_DataSets/wavDataset20200807/noise/NNoise_mod0716/ñ╜ºi.dat.wav'\n",
      " '0']\n"
     ]
    },
    {
     "name": "stderr",
     "output_type": "stream",
     "text": [
      "\r",
      " 45%|████▌     | 175/388 [01:10<01:04,  3.32it/s]"
     ]
    },
    {
     "name": "stdout",
     "output_type": "stream",
     "text": [
      "current processing file ['../../../../../Speech_DataSets/wavDataset20200807/noise/NNoise_mod0716/1016ñ╧º╓ñΓ½ⁿ║V└úºJñO.dat.wav'\n",
      " '0']\n"
     ]
    },
    {
     "name": "stderr",
     "output_type": "stream",
     "text": [
      "\r",
      " 45%|████▌     | 176/388 [01:10<01:02,  3.37it/s]"
     ]
    },
    {
     "name": "stdout",
     "output_type": "stream",
     "text": [
      "current processing file ['../../../../../Speech_DataSets/wavDataset20200807/noise/NNoise_mod0716/棨^.dat.wav'\n",
      " '0']\n"
     ]
    },
    {
     "name": "stderr",
     "output_type": "stream",
     "text": [
      "\r",
      " 46%|████▌     | 177/388 [01:10<01:02,  3.40it/s]"
     ]
    },
    {
     "name": "stdout",
     "output_type": "stream",
     "text": [
      "current processing file ['../../../../../Speech_DataSets/wavDataset20200807/speech/MIR-1K/annar_1_lyrics.wav'\n",
      " '1']\n"
     ]
    },
    {
     "name": "stderr",
     "output_type": "stream",
     "text": [
      "\r",
      " 46%|████▌     | 178/388 [01:11<01:10,  2.96it/s]"
     ]
    },
    {
     "name": "stdout",
     "output_type": "stream",
     "text": [
      "current processing file ['../../../../../Speech_DataSets/wavDataset20200807/noise/NNoise_mod0716/A1_╢}│⌡.dat.wav'\n",
      " '0']\n"
     ]
    },
    {
     "name": "stderr",
     "output_type": "stream",
     "text": [
      "\r",
      " 46%|████▌     | 179/388 [01:11<01:07,  3.09it/s]"
     ]
    },
    {
     "name": "stdout",
     "output_type": "stream",
     "text": [
      "current processing file ['../../../../../Speech_DataSets/wavDataset20200807/speech/MIR-1K/leon_6_lyrics.wav'\n",
      " '1']\n"
     ]
    },
    {
     "name": "stderr",
     "output_type": "stream",
     "text": [
      "\r",
      " 46%|████▋     | 180/388 [01:11<01:07,  3.09it/s]"
     ]
    },
    {
     "name": "stdout",
     "output_type": "stream",
     "text": [
      "current processing file ['../../../../../Speech_DataSets/wavDataset20200807/noise/NNoise_mod0716/⌐τñΓ3.wav'\n",
      " '0']\n"
     ]
    },
    {
     "name": "stderr",
     "output_type": "stream",
     "text": [
      "\r",
      " 47%|████▋     | 181/388 [01:12<00:59,  3.48it/s]"
     ]
    },
    {
     "name": "stdout",
     "output_type": "stream",
     "text": [
      "current processing file ['../../../../../Speech_DataSets/wavDataset20200807/noise/NNoise_mod0716/║VÑ┤╖|─│½╟╣q╕▄╡⌐.wav'\n",
      " '0']\n"
     ]
    },
    {
     "name": "stderr",
     "output_type": "stream",
     "text": [
      "\r",
      " 47%|████▋     | 182/388 [01:12<00:57,  3.59it/s]"
     ]
    },
    {
     "name": "stdout",
     "output_type": "stream",
     "text": [
      "current processing file ['../../../../../Speech_DataSets/wavDataset20200807/noise/NNoise_mod0716/lion.dat.wav'\n",
      " '0']\n"
     ]
    },
    {
     "name": "stderr",
     "output_type": "stream",
     "text": [
      "\r",
      " 47%|████▋     | 183/388 [01:12<00:57,  3.56it/s]"
     ]
    },
    {
     "name": "stdout",
     "output_type": "stream",
     "text": [
      "current processing file ['../../../../../Speech_DataSets/wavDataset20200807/noise/NNoise_mod0716/⌐∞┤╚ñl .dat.wav'\n",
      " '0']\n"
     ]
    },
    {
     "name": "stderr",
     "output_type": "stream",
     "text": [
      "\r",
      " 47%|████▋     | 184/388 [01:12<00:57,  3.53it/s]"
     ]
    },
    {
     "name": "stdout",
     "output_type": "stream",
     "text": [
      "current processing file ['../../../../../Speech_DataSets/wavDataset20200807/noise/NNoise_mod0716/bear.dat.wav'\n",
      " '0']\n"
     ]
    },
    {
     "name": "stderr",
     "output_type": "stream",
     "text": [
      "\r",
      " 48%|████▊     | 185/388 [01:13<00:57,  3.52it/s]"
     ]
    },
    {
     "name": "stdout",
     "output_type": "stream",
     "text": [
      "current processing file ['../../../../../Speech_DataSets/wavDataset20200807/noise/NNoise_mod0716/Chicken.wav'\n",
      " '0']\n",
      "current processing file ['../../../../../Speech_DataSets/wavDataset20200807/speech/MIR-1K/yifen_5_lyrics.wav'\n",
      " '1']\n"
     ]
    },
    {
     "name": "stderr",
     "output_type": "stream",
     "text": [
      "\r",
      " 48%|████▊     | 187/388 [01:13<00:56,  3.54it/s]"
     ]
    },
    {
     "name": "stdout",
     "output_type": "stream",
     "text": [
      "current processing file ['../../../../../Speech_DataSets/wavDataset20200807/noise/NNoise_mod0716/Ñ╒¬O╡º║V└╗╖|─│«α.wav'\n",
      " '0']\n"
     ]
    },
    {
     "name": "stderr",
     "output_type": "stream",
     "text": [
      "\r",
      " 48%|████▊     | 188/388 [01:14<00:57,  3.48it/s]"
     ]
    },
    {
     "name": "stdout",
     "output_type": "stream",
     "text": [
      "current processing file ['../../../../../Speech_DataSets/wavDataset20200807/speech/MIR-1K/khair_6_lyrics.wav'\n",
      " '1']\n"
     ]
    },
    {
     "name": "stderr",
     "output_type": "stream",
     "text": [
      "\r",
      " 49%|████▊     | 189/388 [01:14<00:59,  3.33it/s]"
     ]
    },
    {
     "name": "stdout",
     "output_type": "stream",
     "text": [
      "current processing file ['../../../../../Speech_DataSets/wavDataset20200807/noise/NNoise_mod0716/M1_╜▐.dat.wav'\n",
      " '0']\n"
     ]
    },
    {
     "name": "stderr",
     "output_type": "stream",
     "text": [
      "\r",
      " 49%|████▉     | 190/388 [01:14<00:58,  3.38it/s]"
     ]
    },
    {
     "name": "stdout",
     "output_type": "stream",
     "text": [
      "current processing file ['../../../../../Speech_DataSets/wavDataset20200807/noise/NNoise_mod0716/¼∞ñ█ñ∙.dat.wav'\n",
      " '0']\n"
     ]
    },
    {
     "name": "stderr",
     "output_type": "stream",
     "text": [
      "\r",
      " 49%|████▉     | 191/388 [01:14<00:57,  3.42it/s]"
     ]
    },
    {
     "name": "stdout",
     "output_type": "stream",
     "text": [
      "current processing file ['../../../../../Speech_DataSets/wavDataset20200807/noise/NNoise_mod0716/A1_└⌠╣╥¡╡.dat.wav'\n",
      " '0']\n"
     ]
    },
    {
     "name": "stderr",
     "output_type": "stream",
     "text": [
      "\r",
      " 49%|████▉     | 192/388 [01:15<00:57,  3.44it/s]"
     ]
    },
    {
     "name": "stdout",
     "output_type": "stream",
     "text": [
      "current processing file ['../../../../../Speech_DataSets/wavDataset20200807/noise/NNoise_mod0716/M1_┐τ«g.dat.wav'\n",
      " '0']\n"
     ]
    },
    {
     "name": "stderr",
     "output_type": "stream",
     "text": [
      "\r",
      " 50%|████▉     | 193/388 [01:15<00:56,  3.45it/s]"
     ]
    },
    {
     "name": "stdout",
     "output_type": "stream",
     "text": [
      "current processing file ['../../../../../Speech_DataSets/wavDataset20200807/noise/NNoise_mod0716/⌐_⌐╟╖αñl┴n.dat.wav'\n",
      " '0']\n"
     ]
    },
    {
     "name": "stderr",
     "output_type": "stream",
     "text": [
      "\r",
      " 50%|█████     | 194/388 [01:15<00:56,  3.46it/s]"
     ]
    },
    {
     "name": "stdout",
     "output_type": "stream",
     "text": [
      "current processing file ['../../../../../Speech_DataSets/wavDataset20200807/noise/NNoise_mod0716/M1_╢H.dat.wav'\n",
      " '0']\n"
     ]
    },
    {
     "name": "stderr",
     "output_type": "stream",
     "text": [
      " 51%|█████     | 196/388 [01:16<00:45,  4.20it/s]"
     ]
    },
    {
     "name": "stdout",
     "output_type": "stream",
     "text": [
      "current processing file ['../../../../../Speech_DataSets/wavDataset20200807/noise/NNoise_mod0716/Huawei_Classic_re.wav'\n",
      " '0']\n",
      "current processing file ['../../../../../Speech_DataSets/wavDataset20200807/noise/NNoise_mod0716/Ñm┴n.dat.wav'\n",
      " '0']\n"
     ]
    },
    {
     "name": "stderr",
     "output_type": "stream",
     "text": [
      "\r",
      " 51%|█████     | 197/388 [01:16<00:49,  3.86it/s]"
     ]
    },
    {
     "name": "stdout",
     "output_type": "stream",
     "text": [
      "current processing file ['../../../../../Speech_DataSets/wavDataset20200807/speech/WeiFangVocal_20180220/Joshua.wav'\n",
      " '1']\n"
     ]
    },
    {
     "name": "stderr",
     "output_type": "stream",
     "text": [
      "\r",
      " 51%|█████     | 198/388 [01:16<00:57,  3.28it/s]"
     ]
    },
    {
     "name": "stdout",
     "output_type": "stream",
     "text": [
      "current processing file ['../../../../../Speech_DataSets/wavDataset20200807/noise/NNoise_mod0716/M1_╢}│⌡_6713_MEMSmic .dat.wav'\n",
      " '0']\n"
     ]
    },
    {
     "name": "stderr",
     "output_type": "stream",
     "text": [
      "\r",
      " 51%|█████▏    | 199/388 [01:17<00:56,  3.34it/s]"
     ]
    },
    {
     "name": "stdout",
     "output_type": "stream",
     "text": [
      "current processing file ['../../../../../Speech_DataSets/wavDataset20200807/speech/WeiFangVocal_20180220/Wood.wav'\n",
      " '1']\n"
     ]
    },
    {
     "name": "stderr",
     "output_type": "stream",
     "text": [
      "\r",
      " 52%|█████▏    | 200/388 [01:17<00:58,  3.19it/s]"
     ]
    },
    {
     "name": "stdout",
     "output_type": "stream",
     "text": [
      "current processing file ['../../../../../Speech_DataSets/wavDataset20200807/speech/MIR-1K/amy_11_lyrics.wav'\n",
      " '1']\n"
     ]
    },
    {
     "name": "stderr",
     "output_type": "stream",
     "text": [
      "\r",
      " 52%|█████▏    | 201/388 [01:17<01:02,  2.98it/s]"
     ]
    },
    {
     "name": "stdout",
     "output_type": "stream",
     "text": [
      "current processing file ['../../../../../Speech_DataSets/wavDataset20200807/noise/NNoise_mod0716/Flow.dat.wav'\n",
      " '0']\n"
     ]
    },
    {
     "name": "stderr",
     "output_type": "stream",
     "text": [
      "\r",
      " 52%|█████▏    | 202/388 [01:18<00:59,  3.11it/s]"
     ]
    },
    {
     "name": "stdout",
     "output_type": "stream",
     "text": [
      "current processing file ['../../../../../Speech_DataSets/wavDataset20200807/noise/NNoise_mod0716/⌐_⌐╟¬║│D.dat.wav'\n",
      " '0']\n"
     ]
    },
    {
     "name": "stderr",
     "output_type": "stream",
     "text": [
      "\r",
      " 52%|█████▏    | 203/388 [01:18<00:57,  3.21it/s]"
     ]
    },
    {
     "name": "stdout",
     "output_type": "stream",
     "text": [
      "current processing file ['../../../../../Speech_DataSets/wavDataset20200807/speech/MIR-1K/jmzen_4_lyrics.wav'\n",
      " '1']\n"
     ]
    },
    {
     "name": "stderr",
     "output_type": "stream",
     "text": [
      "\r",
      " 53%|█████▎    | 204/388 [01:18<00:59,  3.07it/s]"
     ]
    },
    {
     "name": "stdout",
     "output_type": "stream",
     "text": [
      "current processing file ['../../../../../Speech_DataSets/wavDataset20200807/noise/NNoise_mod0716/ñ⌠┤╣.dat.wav'\n",
      " '0']\n"
     ]
    },
    {
     "name": "stderr",
     "output_type": "stream",
     "text": [
      "\r",
      " 53%|█████▎    | 205/388 [01:19<00:58,  3.13it/s]"
     ]
    },
    {
     "name": "stdout",
     "output_type": "stream",
     "text": [
      "current processing file ['../../../../../Speech_DataSets/wavDataset20200807/noise/NNoise_mod0716/ñTÑ■¡╡_├Σ╢íroom.dat.wav'\n",
      " '0']\n"
     ]
    },
    {
     "name": "stderr",
     "output_type": "stream",
     "text": [
      "\r",
      " 53%|█████▎    | 206/388 [01:19<00:56,  3.22it/s]"
     ]
    },
    {
     "name": "stdout",
     "output_type": "stream",
     "text": [
      "current processing file ['../../../../../Speech_DataSets/wavDataset20200807/noise/NNoise_mod0716/ñ∞╡^.dat.wav'\n",
      " '0']\n"
     ]
    },
    {
     "name": "stderr",
     "output_type": "stream",
     "text": [
      "\r",
      " 53%|█████▎    | 207/388 [01:19<00:54,  3.30it/s]"
     ]
    },
    {
     "name": "stdout",
     "output_type": "stream",
     "text": [
      "current processing file ['../../../../../Speech_DataSets/wavDataset20200807/speech/MIR-1K/geniusturtle_4_lyrics.wav'\n",
      " '1']\n"
     ]
    },
    {
     "name": "stderr",
     "output_type": "stream",
     "text": [
      "\r",
      " 54%|█████▎    | 208/388 [01:20<00:58,  3.08it/s]"
     ]
    },
    {
     "name": "stdout",
     "output_type": "stream",
     "text": [
      "current processing file ['../../../../../Speech_DataSets/wavDataset20200807/speech/MIR-1K/amy_4_lyrics.wav'\n",
      " '1']\n"
     ]
    },
    {
     "name": "stderr",
     "output_type": "stream",
     "text": [
      "\r",
      " 54%|█████▍    | 209/388 [01:20<01:03,  2.81it/s]"
     ]
    },
    {
     "name": "stdout",
     "output_type": "stream",
     "text": [
      "current processing file ['../../../../../Speech_DataSets/wavDataset20200807/speech/MIR-1K/amy_16_lyrics.wav'\n",
      " '1']\n"
     ]
    },
    {
     "name": "stderr",
     "output_type": "stream",
     "text": [
      "\r",
      " 54%|█████▍    | 210/388 [01:20<01:06,  2.69it/s]"
     ]
    },
    {
     "name": "stdout",
     "output_type": "stream",
     "text": [
      "current processing file ['../../../../../Speech_DataSets/wavDataset20200807/noise/NNoise_mod0716/M1_fast multi fingers knock desk.dat.wav'\n",
      " '0']\n"
     ]
    },
    {
     "name": "stderr",
     "output_type": "stream",
     "text": [
      " 55%|█████▍    | 212/388 [01:21<00:50,  3.48it/s]"
     ]
    },
    {
     "name": "stdout",
     "output_type": "stream",
     "text": [
      "current processing file ['../../../../../Speech_DataSets/wavDataset20200807/noise/NNoise_mod0716/║V«αñl 1.wav'\n",
      " '0']\n",
      "current processing file ['../../../../../Speech_DataSets/wavDataset20200807/noise/NNoise_mod0716/ñΓ⌐τ└≡╛└(ñ∞¬O╣j╢í).wav'\n",
      " '0']\n"
     ]
    },
    {
     "name": "stderr",
     "output_type": "stream",
     "text": [
      "\r",
      " 55%|█████▍    | 213/388 [01:21<00:54,  3.23it/s]"
     ]
    },
    {
     "name": "stdout",
     "output_type": "stream",
     "text": [
      "current processing file ['../../../../../Speech_DataSets/wavDataset20200807/speech/MIR-1K/amy_12_lyrics.wav'\n",
      " '1']\n"
     ]
    },
    {
     "name": "stderr",
     "output_type": "stream",
     "text": [
      "\r",
      " 55%|█████▌    | 214/388 [01:22<00:57,  3.01it/s]"
     ]
    },
    {
     "name": "stdout",
     "output_type": "stream",
     "text": [
      "current processing file ['../../../../../Speech_DataSets/wavDataset20200807/speech/MIR-1K/bug_5_lyrics.wav'\n",
      " '1']\n"
     ]
    },
    {
     "name": "stderr",
     "output_type": "stream",
     "text": [
      "\r",
      " 55%|█████▌    | 215/388 [01:22<00:59,  2.92it/s]"
     ]
    },
    {
     "name": "stdout",
     "output_type": "stream",
     "text": [
      "current processing file ['../../../../../Speech_DataSets/wavDataset20200807/noise/NNoise_mod0716/A1_P20_Impromuto.dat.wav'\n",
      " '0']\n"
     ]
    },
    {
     "name": "stderr",
     "output_type": "stream",
     "text": [
      "\r",
      " 56%|█████▌    | 216/388 [01:22<00:56,  3.05it/s]"
     ]
    },
    {
     "name": "stdout",
     "output_type": "stream",
     "text": [
      "current processing file ['../../../../../Speech_DataSets/wavDataset20200807/noise/NNoise_mod0716/║V¼┴╝■.wav'\n",
      " '0']\n"
     ]
    },
    {
     "name": "stderr",
     "output_type": "stream",
     "text": [
      "\r",
      " 56%|█████▌    | 217/388 [01:23<00:56,  3.02it/s]"
     ]
    },
    {
     "name": "stdout",
     "output_type": "stream",
     "text": [
      "current processing file ['../../../../../Speech_DataSets/wavDataset20200807/speech/MIR-1K/bug_4_lyrics.wav'\n",
      " '1']\n"
     ]
    },
    {
     "name": "stderr",
     "output_type": "stream",
     "text": [
      "\r",
      " 56%|█████▌    | 218/388 [01:23<00:54,  3.10it/s]"
     ]
    },
    {
     "name": "stdout",
     "output_type": "stream",
     "text": [
      "current processing file ['../../../../../Speech_DataSets/wavDataset20200807/speech/MIR-1K/bug_3_lyrics.wav'\n",
      " '1']\n"
     ]
    },
    {
     "name": "stderr",
     "output_type": "stream",
     "text": [
      "\r",
      " 56%|█████▋    | 219/388 [01:23<00:58,  2.90it/s]"
     ]
    },
    {
     "name": "stdout",
     "output_type": "stream",
     "text": [
      "current processing file ['../../../../../Speech_DataSets/wavDataset20200807/noise/NNoise_mod0716/Westlake.dat.wav'\n",
      " '0']\n"
     ]
    },
    {
     "name": "stderr",
     "output_type": "stream",
     "text": [
      "\r",
      " 57%|█████▋    | 220/388 [01:24<00:55,  3.05it/s]"
     ]
    },
    {
     "name": "stdout",
     "output_type": "stream",
     "text": [
      "current processing file ['../../../../../Speech_DataSets/wavDataset20200807/noise/NNoise_mod0716/ñΓ⌐τ╡íñß¼┴╝■.wav'\n",
      " '0']\n"
     ]
    },
    {
     "name": "stderr",
     "output_type": "stream",
     "text": [
      " 57%|█████▋    | 222/388 [01:24<00:48,  3.45it/s]"
     ]
    },
    {
     "name": "stdout",
     "output_type": "stream",
     "text": [
      "current processing file ['../../../../../Speech_DataSets/wavDataset20200807/noise/NNoise_mod0716/Elephant.wav'\n",
      " '0']\n",
      "current processing file ['../../../../../Speech_DataSets/wavDataset20200807/noise/NNoise_mod0716/⌐τ¿¡┼Θ2.wav'\n",
      " '0']\n"
     ]
    },
    {
     "name": "stderr",
     "output_type": "stream",
     "text": [
      "\r",
      " 57%|█████▋    | 223/388 [01:24<00:47,  3.46it/s]"
     ]
    },
    {
     "name": "stdout",
     "output_type": "stream",
     "text": [
      "current processing file ['../../../../../Speech_DataSets/wavDataset20200807/noise/NNoise_mod0716/║V╣q╕ú┴Σ╜L.wav'\n",
      " '0']\n"
     ]
    },
    {
     "name": "stderr",
     "output_type": "stream",
     "text": [
      "\r",
      " 58%|█████▊    | 224/388 [01:25<00:47,  3.43it/s]"
     ]
    },
    {
     "name": "stdout",
     "output_type": "stream",
     "text": [
      "current processing file ['../../../../../Speech_DataSets/wavDataset20200807/noise/NNoise_mod0716/Day Liliy.dat.wav'\n",
      " '0']\n"
     ]
    },
    {
     "name": "stderr",
     "output_type": "stream",
     "text": [
      "\r",
      " 58%|█████▊    | 225/388 [01:25<00:47,  3.45it/s]"
     ]
    },
    {
     "name": "stdout",
     "output_type": "stream",
     "text": [
      "current processing file ['../../../../../Speech_DataSets/wavDataset20200807/speech/MIR-1K/Ani_1_lyrics.wav'\n",
      " '1']\n"
     ]
    },
    {
     "name": "stderr",
     "output_type": "stream",
     "text": [
      "\r",
      " 58%|█████▊    | 226/388 [01:25<00:50,  3.22it/s]"
     ]
    },
    {
     "name": "stdout",
     "output_type": "stream",
     "text": [
      "current processing file ['../../../../../Speech_DataSets/wavDataset20200807/noise/NNoise_mod0716/M1_┐ΘñJ.dat.wav'\n",
      " '0']\n"
     ]
    },
    {
     "name": "stderr",
     "output_type": "stream",
     "text": [
      "\r",
      " 59%|█████▊    | 227/388 [01:26<00:49,  3.26it/s]"
     ]
    },
    {
     "name": "stdout",
     "output_type": "stream",
     "text": [
      "current processing file ['../../../../../Speech_DataSets/wavDataset20200807/noise/NNoise_mod0716/─╡│°╛╣.dat.wav'\n",
      " '0']\n"
     ]
    },
    {
     "name": "stderr",
     "output_type": "stream",
     "text": [
      "\r",
      " 59%|█████▉    | 228/388 [01:26<00:48,  3.32it/s]"
     ]
    },
    {
     "name": "stdout",
     "output_type": "stream",
     "text": [
      "current processing file ['../../../../../Speech_DataSets/wavDataset20200807/noise/NNoise_mod0716/Impromptu.dat.wav'\n",
      " '0']\n"
     ]
    },
    {
     "name": "stderr",
     "output_type": "stream",
     "text": [
      "\r",
      " 59%|█████▉    | 229/388 [01:26<00:47,  3.37it/s]"
     ]
    },
    {
     "name": "stdout",
     "output_type": "stream",
     "text": [
      "current processing file ['../../../../../Speech_DataSets/wavDataset20200807/speech/MIR-1K/amy_13_lyrics.wav'\n",
      " '1']\n"
     ]
    },
    {
     "name": "stderr",
     "output_type": "stream",
     "text": [
      "\r",
      " 59%|█████▉    | 230/388 [01:27<00:50,  3.16it/s]"
     ]
    },
    {
     "name": "stdout",
     "output_type": "stream",
     "text": [
      "current processing file ['../../../../../Speech_DataSets/wavDataset20200807/noise/NNoise_mod0716/║V¼┴╝■.dat.wav'\n",
      " '0']\n"
     ]
    },
    {
     "name": "stderr",
     "output_type": "stream",
     "text": [
      "\r",
      " 60%|█████▉    | 231/388 [01:27<00:48,  3.25it/s]"
     ]
    },
    {
     "name": "stdout",
     "output_type": "stream",
     "text": [
      "current processing file ['../../../../../Speech_DataSets/wavDataset20200807/speech/MIR-1K/titon_3_lyrics.wav'\n",
      " '1']\n"
     ]
    },
    {
     "name": "stderr",
     "output_type": "stream",
     "text": [
      "\r",
      " 60%|█████▉    | 232/388 [01:27<00:50,  3.06it/s]"
     ]
    },
    {
     "name": "stdout",
     "output_type": "stream",
     "text": [
      "current processing file ['../../../../../Speech_DataSets/wavDataset20200807/speech/WeiFangVocal_20180220/Sun.wav'\n",
      " '1']\n"
     ]
    },
    {
     "name": "stderr",
     "output_type": "stream",
     "text": [
      " 60%|██████    | 234/388 [01:28<00:42,  3.62it/s]"
     ]
    },
    {
     "name": "stdout",
     "output_type": "stream",
     "text": [
      "current processing file ['../../../../../Speech_DataSets/wavDataset20200807/noise/NNoise_mod0716/APPLE_Classic_re.wav'\n",
      " '0']\n",
      "current processing file ['../../../../../Speech_DataSets/wavDataset20200807/noise/NNoise_mod0716/╣C└╕«╔╢íre.dat.wav'\n",
      " '0']\n"
     ]
    },
    {
     "name": "stderr",
     "output_type": "stream",
     "text": [
      "\r",
      " 61%|██████    | 235/388 [01:28<00:42,  3.59it/s]"
     ]
    },
    {
     "name": "stdout",
     "output_type": "stream",
     "text": [
      "current processing file ['../../../../../Speech_DataSets/wavDataset20200807/noise/NNoise_mod0716/A1_⌐τ│n╣╘└≡╛└.dat.wav'\n",
      " '0']\n"
     ]
    },
    {
     "name": "stderr",
     "output_type": "stream",
     "text": [
      "\r",
      " 61%|██████    | 236/388 [01:28<00:42,  3.56it/s]"
     ]
    },
    {
     "name": "stdout",
     "output_type": "stream",
     "text": [
      "current processing file ['../../../../../Speech_DataSets/wavDataset20200807/speech/MIR-1K/annar_3_lyrics.wav'\n",
      " '1']\n"
     ]
    },
    {
     "name": "stderr",
     "output_type": "stream",
     "text": [
      "\r",
      " 61%|██████    | 237/388 [01:29<00:48,  3.12it/s]"
     ]
    },
    {
     "name": "stdout",
     "output_type": "stream",
     "text": [
      "current processing file ['../../../../../Speech_DataSets/wavDataset20200807/speech/MIR-1K/davidson_5_lyrics.wav'\n",
      " '1']\n"
     ]
    },
    {
     "name": "stderr",
     "output_type": "stream",
     "text": [
      "\r",
      " 61%|██████▏   | 238/388 [01:29<00:53,  2.80it/s]"
     ]
    },
    {
     "name": "stdout",
     "output_type": "stream",
     "text": [
      "current processing file ['../../../../../Speech_DataSets/wavDataset20200807/noise/NNoise_mod0716/╜▌╡^.dat.wav'\n",
      " '0']\n"
     ]
    },
    {
     "name": "stderr",
     "output_type": "stream",
     "text": [
      "\r",
      " 62%|██████▏   | 239/388 [01:30<00:50,  2.98it/s]"
     ]
    },
    {
     "name": "stdout",
     "output_type": "stream",
     "text": [
      "current processing file ['../../../../../Speech_DataSets/wavDataset20200807/speech/MIR-1K/leon_5_lyrics.wav'\n",
      " '1']\n"
     ]
    },
    {
     "name": "stderr",
     "output_type": "stream",
     "text": [
      "\r",
      " 62%|██████▏   | 240/388 [01:30<00:50,  2.92it/s]"
     ]
    },
    {
     "name": "stdout",
     "output_type": "stream",
     "text": [
      "current processing file ['../../../../../Speech_DataSets/wavDataset20200807/speech/MIR-1K/ABJones_5_lyrics.wav'\n",
      " '1']\n"
     ]
    },
    {
     "name": "stderr",
     "output_type": "stream",
     "text": [
      " 62%|██████▏   | 241/388 [01:30<00:55,  2.65it/s]/home/user/.conda/envs/pytorchenv151/lib/python3.7/site-packages/ipykernel_launcher.py:4: WavFileWarning: Chunk (non-data) not understood, skipping it.\n",
      "  after removing the cwd from sys.path.\n"
     ]
    },
    {
     "name": "stdout",
     "output_type": "stream",
     "text": [
      "current processing file ['../../../../../Speech_DataSets/wavDataset20200807/noise/Evir/heavy air conditioning.wav'\n",
      " '0']\n",
      "\n",
      "../../../../../Speech_DataSets/wavDataset20200807/noise/Evir/heavy air conditioning.wav is channel 2\n",
      "current processing file ['../../../../../Speech_DataSets/wavDataset20200807/noise/NNoise_mod0716/Demo_╢}│⌡_part2.dat.wav'\n",
      " '0']\n"
     ]
    },
    {
     "name": "stderr",
     "output_type": "stream",
     "text": [
      "\r",
      " 63%|██████▎   | 243/388 [01:31<00:44,  3.24it/s]"
     ]
    },
    {
     "name": "stdout",
     "output_type": "stream",
     "text": [
      "current processing file ['../../../../../Speech_DataSets/wavDataset20200807/speech/MIR-1K/jmzen_1_lyrics.wav'\n",
      " '1']\n"
     ]
    },
    {
     "name": "stderr",
     "output_type": "stream",
     "text": [
      "\r",
      " 63%|██████▎   | 244/388 [01:31<00:48,  2.97it/s]"
     ]
    },
    {
     "name": "stdout",
     "output_type": "stream",
     "text": [
      "current processing file ['../../../../../Speech_DataSets/wavDataset20200807/noise/NNoise_mod0716/╝Γ╡U.dat.wav'\n",
      " '0']\n"
     ]
    },
    {
     "name": "stderr",
     "output_type": "stream",
     "text": [
      "\r",
      " 63%|██████▎   | 245/388 [01:31<00:45,  3.12it/s]"
     ]
    },
    {
     "name": "stdout",
     "output_type": "stream",
     "text": [
      "current processing file ['../../../../../Speech_DataSets/wavDataset20200807/speech/Chinese_20180730/HS.wav'\n",
      " '1']\n"
     ]
    },
    {
     "name": "stderr",
     "output_type": "stream",
     "text": [
      "\r",
      " 63%|██████▎   | 246/388 [01:32<00:43,  3.27it/s]"
     ]
    },
    {
     "name": "stdout",
     "output_type": "stream",
     "text": [
      "current processing file ['../../../../../Speech_DataSets/wavDataset20200807/noise/NNoise_mod0716/╕}ªy╗R.dat.wav'\n",
      " '0']\n"
     ]
    },
    {
     "name": "stderr",
     "output_type": "stream",
     "text": [
      "\r",
      " 64%|██████▎   | 247/388 [01:32<00:42,  3.34it/s]"
     ]
    },
    {
     "name": "stdout",
     "output_type": "stream",
     "text": [
      "current processing file ['../../../../../Speech_DataSets/wavDataset20200807/noise/NNoise_mod0716/M1_⌐τ└úºJñO.dat.wav'\n",
      " '0']\n"
     ]
    },
    {
     "name": "stderr",
     "output_type": "stream",
     "text": [
      "\r",
      " 64%|██████▍   | 248/388 [01:32<00:41,  3.39it/s]"
     ]
    },
    {
     "name": "stdout",
     "output_type": "stream",
     "text": [
      "current processing file ['../../../../../Speech_DataSets/wavDataset20200807/speech/MIR-1K/titon_4_lyrics.wav'\n",
      " '1']\n"
     ]
    },
    {
     "name": "stderr",
     "output_type": "stream",
     "text": [
      "\r",
      " 64%|██████▍   | 249/388 [01:33<00:44,  3.10it/s]"
     ]
    },
    {
     "name": "stdout",
     "output_type": "stream",
     "text": [
      "current processing file ['../../../../../Speech_DataSets/wavDataset20200807/noise/NNoise_mod0716/⌐╘╡í├«┴n¡╡(½½¬╜ñ@ñ∙ªí).wav'\n",
      " '0']\n"
     ]
    },
    {
     "name": "stderr",
     "output_type": "stream",
     "text": [
      "\r",
      " 64%|██████▍   | 250/388 [01:33<00:45,  3.01it/s]"
     ]
    },
    {
     "name": "stdout",
     "output_type": "stream",
     "text": [
      "current processing file ['../../../../../Speech_DataSets/wavDataset20200807/speech/MIR-1K/yifen_4_lyrics.wav'\n",
      " '1']\n"
     ]
    },
    {
     "name": "stderr",
     "output_type": "stream",
     "text": [
      "\r",
      " 65%|██████▍   | 251/388 [01:33<00:51,  2.68it/s]"
     ]
    },
    {
     "name": "stdout",
     "output_type": "stream",
     "text": [
      "current processing file ['../../../../../Speech_DataSets/wavDataset20200807/noise/NNoise_mod0716/A1_P20_Sailing.dat.wav'\n",
      " '0']\n"
     ]
    },
    {
     "name": "stderr",
     "output_type": "stream",
     "text": [
      "\r",
      " 65%|██████▍   | 252/388 [01:34<00:47,  2.88it/s]"
     ]
    },
    {
     "name": "stdout",
     "output_type": "stream",
     "text": [
      "current processing file ['../../../../../Speech_DataSets/wavDataset20200807/speech/MIR-1K/amy_8_lyrics.wav'\n",
      " '1']\n"
     ]
    },
    {
     "name": "stderr",
     "output_type": "stream",
     "text": [
      "\r",
      " 65%|██████▌   | 253/388 [01:34<00:46,  2.88it/s]"
     ]
    },
    {
     "name": "stdout",
     "output_type": "stream",
     "text": [
      "current processing file ['../../../../../Speech_DataSets/wavDataset20200807/noise/NNoise_mod0716/M1_░¿.dat.wav'\n",
      " '0']\n"
     ]
    },
    {
     "name": "stderr",
     "output_type": "stream",
     "text": [
      "\r",
      " 65%|██████▌   | 254/388 [01:34<00:44,  3.00it/s]"
     ]
    },
    {
     "name": "stdout",
     "output_type": "stream",
     "text": [
      "current processing file ['../../../../../Speech_DataSets/wavDataset20200807/speech/MIR-1K/bug_2_lyrics.wav'\n",
      " '1']\n"
     ]
    },
    {
     "name": "stderr",
     "output_type": "stream",
     "text": [
      "\r",
      " 66%|██████▌   | 255/388 [01:35<00:46,  2.86it/s]"
     ]
    },
    {
     "name": "stdout",
     "output_type": "stream",
     "text": [
      "current processing file ['../../../../../Speech_DataSets/wavDataset20200807/noise/NNoise_mod0716/s╡╖║≈.dat.wav'\n",
      " '0']\n"
     ]
    },
    {
     "name": "stderr",
     "output_type": "stream",
     "text": [
      "\r",
      " 66%|██████▌   | 256/388 [01:35<00:43,  3.01it/s]"
     ]
    },
    {
     "name": "stdout",
     "output_type": "stream",
     "text": [
      "current processing file ['../../../../../Speech_DataSets/wavDataset20200807/noise/NNoise_mod0716/A1_Kz╜±officeªa┤α.dat.wav'\n",
      " '0']\n"
     ]
    },
    {
     "name": "stderr",
     "output_type": "stream",
     "text": [
      "\r",
      " 66%|██████▌   | 257/388 [01:35<00:41,  3.15it/s]"
     ]
    },
    {
     "name": "stdout",
     "output_type": "stream",
     "text": [
      "current processing file ['../../../../../Speech_DataSets/wavDataset20200807/speech/MIR-1K/fdps_5_lyrics.wav'\n",
      " '1']\n"
     ]
    },
    {
     "name": "stderr",
     "output_type": "stream",
     "text": [
      " 67%|██████▋   | 259/388 [01:36<00:37,  3.41it/s]"
     ]
    },
    {
     "name": "stdout",
     "output_type": "stream",
     "text": [
      "current processing file ['../../../../../Speech_DataSets/wavDataset20200807/speech/WeiFangVocal_20180220/Jenny.wav'\n",
      " '1']\n",
      "current processing file ['../../../../../Speech_DataSets/wavDataset20200807/speech/MIR-1K/ABJones_2_lyrics.wav'\n",
      " '1']\n"
     ]
    },
    {
     "name": "stderr",
     "output_type": "stream",
     "text": [
      "\r",
      " 67%|██████▋   | 260/388 [01:36<00:42,  2.98it/s]"
     ]
    },
    {
     "name": "stdout",
     "output_type": "stream",
     "text": [
      "current processing file ['../../../../../Speech_DataSets/wavDataset20200807/noise/NNoise_mod0716/│┴ºJ¡╖«y.dat.wav'\n",
      " '0']\n"
     ]
    },
    {
     "name": "stderr",
     "output_type": "stream",
     "text": [
      "\r",
      " 67%|██████▋   | 261/388 [01:37<00:40,  3.13it/s]"
     ]
    },
    {
     "name": "stdout",
     "output_type": "stream",
     "text": [
      "current processing file ['../../../../../Speech_DataSets/wavDataset20200807/noise/NNoise_mod0716/⌐τ¿¡┼Θ3.wav'\n",
      " '0']\n"
     ]
    },
    {
     "name": "stderr",
     "output_type": "stream",
     "text": [
      "\r",
      " 68%|██████▊   | 262/388 [01:37<00:37,  3.33it/s]"
     ]
    },
    {
     "name": "stdout",
     "output_type": "stream",
     "text": [
      "current processing file ['../../../../../Speech_DataSets/wavDataset20200807/noise/NNoise_mod0716/ñj│Ñ»T.dat.wav'\n",
      " '0']\n"
     ]
    },
    {
     "name": "stderr",
     "output_type": "stream",
     "text": [
      "\r",
      " 68%|██████▊   | 263/388 [01:37<00:36,  3.38it/s]"
     ]
    },
    {
     "name": "stdout",
     "output_type": "stream",
     "text": [
      "current processing file ['../../../../../Speech_DataSets/wavDataset20200807/noise/NNoise_mod0716/⌐τ⌐τñΓ.wav'\n",
      " '0']\n"
     ]
    },
    {
     "name": "stderr",
     "output_type": "stream",
     "text": [
      "\r",
      " 68%|██████▊   | 264/388 [01:37<00:38,  3.24it/s]"
     ]
    },
    {
     "name": "stdout",
     "output_type": "stream",
     "text": [
      "current processing file ['../../../../../Speech_DataSets/wavDataset20200807/speech/WeiFangVocal_20180220/Mei_ori.wav'\n",
      " '1']\n"
     ]
    },
    {
     "name": "stderr",
     "output_type": "stream",
     "text": [
      "\r",
      " 68%|██████▊   | 265/388 [01:38<00:35,  3.49it/s]"
     ]
    },
    {
     "name": "stdout",
     "output_type": "stream",
     "text": [
      "current processing file ['../../../../../Speech_DataSets/wavDataset20200807/noise/NNoise_mod0716/º╓ñΓ½ⁿ║V└úºJñO¬O.dat.wav'\n",
      " '0']\n"
     ]
    },
    {
     "name": "stderr",
     "output_type": "stream",
     "text": [
      "\r",
      " 69%|██████▊   | 266/388 [01:38<00:34,  3.50it/s]"
     ]
    },
    {
     "name": "stdout",
     "output_type": "stream",
     "text": [
      "current processing file ['../../../../../Speech_DataSets/wavDataset20200807/noise/NNoise_mod0716/M1_ñ√.dat.wav'\n",
      " '0']\n"
     ]
    },
    {
     "name": "stderr",
     "output_type": "stream",
     "text": [
      "\r",
      " 69%|██████▉   | 267/388 [01:38<00:34,  3.50it/s]"
     ]
    },
    {
     "name": "stdout",
     "output_type": "stream",
     "text": [
      "current processing file ['../../../../../Speech_DataSets/wavDataset20200807/speech/MIR-1K/bobon_1_lyrics.wav'\n",
      " '1']\n"
     ]
    },
    {
     "name": "stderr",
     "output_type": "stream",
     "text": [
      "\r",
      " 69%|██████▉   | 268/388 [01:39<00:38,  3.15it/s]"
     ]
    },
    {
     "name": "stdout",
     "output_type": "stream",
     "text": [
      "current processing file ['../../../../../Speech_DataSets/wavDataset20200807/speech/MIR-1K/Kenshin_2_lyrics.wav'\n",
      " '1']\n"
     ]
    },
    {
     "name": "stderr",
     "output_type": "stream",
     "text": [
      "\r",
      " 69%|██████▉   | 269/388 [01:39<00:38,  3.09it/s]"
     ]
    },
    {
     "name": "stdout",
     "output_type": "stream",
     "text": [
      "current processing file ['../../../../../Speech_DataSets/wavDataset20200807/noise/NNoise_mod0716/ñp┐√»].dat.wav'\n",
      " '0']\n"
     ]
    },
    {
     "name": "stderr",
     "output_type": "stream",
     "text": [
      "\r",
      " 70%|██████▉   | 270/388 [01:39<00:36,  3.21it/s]"
     ]
    },
    {
     "name": "stdout",
     "output_type": "stream",
     "text": [
      "current processing file ['../../../../../Speech_DataSets/wavDataset20200807/speech/MIR-1K/yifen_2_lyrics.wav'\n",
      " '1']\n"
     ]
    },
    {
     "name": "stderr",
     "output_type": "stream",
     "text": [
      "\r",
      " 70%|██████▉   | 271/388 [01:40<00:42,  2.79it/s]"
     ]
    },
    {
     "name": "stdout",
     "output_type": "stream",
     "text": [
      "current processing file ['../../../../../Speech_DataSets/wavDataset20200807/noise/NNoise_mod0716/fast multi fingers knock desk.dat.wav'\n",
      " '0']\n"
     ]
    },
    {
     "name": "stderr",
     "output_type": "stream",
     "text": [
      "\r",
      " 70%|███████   | 272/388 [01:40<00:39,  2.97it/s]"
     ]
    },
    {
     "name": "stdout",
     "output_type": "stream",
     "text": [
      "current processing file ['../../../../../Speech_DataSets/wavDataset20200807/speech/MIR-1K/davidson_2_lyrics.wav'\n",
      " '1']\n"
     ]
    },
    {
     "name": "stderr",
     "output_type": "stream",
     "text": [
      "\r",
      " 70%|███████   | 273/388 [01:40<00:41,  2.79it/s]"
     ]
    },
    {
     "name": "stdout",
     "output_type": "stream",
     "text": [
      "current processing file ['../../../../../Speech_DataSets/wavDataset20200807/noise/NNoise_mod0716/donkey.dat.wav'\n",
      " '0']\n"
     ]
    },
    {
     "name": "stderr",
     "output_type": "stream",
     "text": [
      "\r",
      " 71%|███████   | 274/388 [01:41<00:38,  2.97it/s]"
     ]
    },
    {
     "name": "stdout",
     "output_type": "stream",
     "text": [
      "current processing file ['../../../../../Speech_DataSets/wavDataset20200807/speech/MIR-1K/bobon_4_lyrics.wav'\n",
      " '1']\n"
     ]
    },
    {
     "name": "stderr",
     "output_type": "stream",
     "text": [
      "\r",
      " 71%|███████   | 275/388 [01:41<00:40,  2.80it/s]"
     ]
    },
    {
     "name": "stdout",
     "output_type": "stream",
     "text": [
      "current processing file ['../../../../../Speech_DataSets/wavDataset20200807/noise/NNoise_mod0716/A1_║VÑ╒¬O.dat.wav'\n",
      " '0']\n"
     ]
    },
    {
     "name": "stderr",
     "output_type": "stream",
     "text": [
      "\r",
      " 71%|███████   | 276/388 [01:41<00:37,  2.98it/s]"
     ]
    },
    {
     "name": "stdout",
     "output_type": "stream",
     "text": [
      "current processing file ['../../../../../Speech_DataSets/wavDataset20200807/noise/NNoise_mod0716/M1_ñWñ╔¡╡╢Ñ.dat.wav'\n",
      " '0']\n"
     ]
    },
    {
     "name": "stderr",
     "output_type": "stream",
     "text": [
      "\r",
      " 71%|███████▏  | 277/388 [01:42<00:35,  3.13it/s]"
     ]
    },
    {
     "name": "stdout",
     "output_type": "stream",
     "text": [
      "current processing file ['../../../../../Speech_DataSets/wavDataset20200807/speech/MIR-1K/ABJones_3_lyrics.wav'\n",
      " '1']\n"
     ]
    },
    {
     "name": "stderr",
     "output_type": "stream",
     "text": [
      "\r",
      " 72%|███████▏  | 278/388 [01:42<00:37,  2.96it/s]"
     ]
    },
    {
     "name": "stdout",
     "output_type": "stream",
     "text": [
      "current processing file ['../../../../../Speech_DataSets/wavDataset20200807/noise/NNoise_mod0716/⌐τ«α3.dat.wav'\n",
      " '0']\n"
     ]
    },
    {
     "name": "stderr",
     "output_type": "stream",
     "text": [
      "\r",
      " 72%|███████▏  | 279/388 [01:42<00:35,  3.10it/s]"
     ]
    },
    {
     "name": "stdout",
     "output_type": "stream",
     "text": [
      "current processing file ['../../../../../Speech_DataSets/wavDataset20200807/speech/MIR-1K/leon_1_lyrics.wav'\n",
      " '1']\n"
     ]
    },
    {
     "name": "stderr",
     "output_type": "stream",
     "text": [
      "\r",
      " 72%|███████▏  | 280/388 [01:43<00:36,  2.96it/s]"
     ]
    },
    {
     "name": "stdout",
     "output_type": "stream",
     "text": [
      "current processing file ['../../../../../Speech_DataSets/wavDataset20200807/noise/NNoise_mod0716/A1_P20_ForestDay.dat.wav'\n",
      " '0']\n"
     ]
    },
    {
     "name": "stderr",
     "output_type": "stream",
     "text": [
      "\r",
      " 72%|███████▏  | 281/388 [01:43<00:34,  3.09it/s]"
     ]
    },
    {
     "name": "stdout",
     "output_type": "stream",
     "text": [
      "current processing file ['../../../../../Speech_DataSets/wavDataset20200807/noise/NNoise_mod0716/Classic Bell.dat.wav'\n",
      " '0']\n"
     ]
    },
    {
     "name": "stderr",
     "output_type": "stream",
     "text": [
      "\r",
      " 73%|███████▎  | 282/388 [01:43<00:33,  3.18it/s]"
     ]
    },
    {
     "name": "stdout",
     "output_type": "stream",
     "text": [
      "current processing file ['../../../../../Speech_DataSets/wavDataset20200807/noise/NNoise_mod0716/s¼∞ñ█ñ∙.dat.wav'\n",
      " '0']\n"
     ]
    },
    {
     "name": "stderr",
     "output_type": "stream",
     "text": [
      "\r",
      " 73%|███████▎  | 283/388 [01:44<00:32,  3.27it/s]"
     ]
    },
    {
     "name": "stdout",
     "output_type": "stream",
     "text": [
      "current processing file ['../../../../../Speech_DataSets/wavDataset20200807/noise/NNoise_mod0716/M1_⌐τ«α3.dat.wav'\n",
      " '0']\n"
     ]
    },
    {
     "name": "stderr",
     "output_type": "stream",
     "text": [
      "\r",
      " 73%|███████▎  | 284/388 [01:44<00:31,  3.33it/s]"
     ]
    },
    {
     "name": "stdout",
     "output_type": "stream",
     "text": [
      "current processing file ['../../../../../Speech_DataSets/wavDataset20200807/noise/NNoise_mod0716/A1_ñΓ½∙officeMic║V«αñl .dat.wav'\n",
      " '0']\n"
     ]
    },
    {
     "name": "stderr",
     "output_type": "stream",
     "text": [
      "\r",
      " 73%|███████▎  | 285/388 [01:44<00:30,  3.35it/s]"
     ]
    },
    {
     "name": "stdout",
     "output_type": "stream",
     "text": [
      "current processing file ['../../../../../Speech_DataSets/wavDataset20200807/speech/TW/Will_re.wav'\n",
      " '1']\n"
     ]
    },
    {
     "name": "stderr",
     "output_type": "stream",
     "text": [
      "\r",
      " 74%|███████▎  | 286/388 [01:45<00:33,  3.03it/s]"
     ]
    },
    {
     "name": "stdout",
     "output_type": "stream",
     "text": [
      "current processing file ['../../../../../Speech_DataSets/wavDataset20200807/noise/NNoise_mod0716/1016⌐τñ∞¬O╣j╢í.dat.wav'\n",
      " '0']\n"
     ]
    },
    {
     "name": "stderr",
     "output_type": "stream",
     "text": [
      " 74%|███████▍  | 288/388 [01:45<00:27,  3.63it/s]"
     ]
    },
    {
     "name": "stdout",
     "output_type": "stream",
     "text": [
      "current processing file ['../../../../../Speech_DataSets/wavDataset20200807/noise/NNoise_mod0716/⌐τ«αñl 1.wav'\n",
      " '0']\n",
      "current processing file ['../../../../../Speech_DataSets/wavDataset20200807/speech/Chinese_20180730/KZ.wav'\n",
      " '1']\n"
     ]
    },
    {
     "name": "stderr",
     "output_type": "stream",
     "text": [
      "\r",
      " 74%|███████▍  | 289/388 [01:45<00:28,  3.42it/s]"
     ]
    },
    {
     "name": "stdout",
     "output_type": "stream",
     "text": [
      "current processing file ['../../../../../Speech_DataSets/wavDataset20200807/noise/NNoise_mod0716/║▐─┴.dat.wav'\n",
      " '0']\n"
     ]
    },
    {
     "name": "stderr",
     "output_type": "stream",
     "text": [
      "\r",
      " 75%|███████▍  | 290/388 [01:46<00:28,  3.45it/s]"
     ]
    },
    {
     "name": "stdout",
     "output_type": "stream",
     "text": [
      "current processing file ['../../../../../Speech_DataSets/wavDataset20200807/speech/MIR-1K/fdps_4_lyrics.wav'\n",
      " '1']\n"
     ]
    },
    {
     "name": "stderr",
     "output_type": "stream",
     "text": [
      " 75%|███████▌  | 292/388 [01:46<00:26,  3.68it/s]"
     ]
    },
    {
     "name": "stdout",
     "output_type": "stream",
     "text": [
      "current processing file ['../../../../../Speech_DataSets/wavDataset20200807/noise/NNoise_mod0716/Samsung_Classic_re.wav'\n",
      " '0']\n",
      "current processing file ['../../../../../Speech_DataSets/wavDataset20200807/speech/MIR-1K/bobon_2_lyrics.wav'\n",
      " '1']\n"
     ]
    },
    {
     "name": "stderr",
     "output_type": "stream",
     "text": [
      "\r",
      " 76%|███████▌  | 293/388 [01:47<00:30,  3.15it/s]"
     ]
    },
    {
     "name": "stdout",
     "output_type": "stream",
     "text": [
      "current processing file ['../../../../../Speech_DataSets/wavDataset20200807/speech/MIR-1K/geniusturtle_5_lyrics.wav'\n",
      " '1']\n"
     ]
    },
    {
     "name": "stderr",
     "output_type": "stream",
     "text": [
      "\r",
      " 76%|███████▌  | 294/388 [01:47<00:30,  3.04it/s]"
     ]
    },
    {
     "name": "stdout",
     "output_type": "stream",
     "text": [
      "current processing file ['../../../../../Speech_DataSets/wavDataset20200807/noise/NNoise_mod0716/Cat.wav'\n",
      " '0']\n",
      "current processing file ['../../../../../Speech_DataSets/wavDataset20200807/speech/MIR-1K/stool_4_lyric.wav'\n",
      " '1']\n"
     ]
    },
    {
     "name": "stderr",
     "output_type": "stream",
     "text": [
      "\r",
      " 76%|███████▋  | 296/388 [01:47<00:27,  3.38it/s]"
     ]
    },
    {
     "name": "stdout",
     "output_type": "stream",
     "text": [
      "current processing file ['../../../../../Speech_DataSets/wavDataset20200807/noise/NNoise_mod0716/holmesñp╢]¿B.dat.wav'\n",
      " '0']\n"
     ]
    },
    {
     "name": "stderr",
     "output_type": "stream",
     "text": [
      "\r",
      " 77%|███████▋  | 297/388 [01:48<00:26,  3.42it/s]"
     ]
    },
    {
     "name": "stdout",
     "output_type": "stream",
     "text": [
      "current processing file ['../../../../../Speech_DataSets/wavDataset20200807/noise/NNoise_mod0716/╖|─│½╟└⌠╣╥¡╡.wav'\n",
      " '0']\n"
     ]
    },
    {
     "name": "stderr",
     "output_type": "stream",
     "text": [
      "\r",
      " 77%|███████▋  | 298/388 [01:48<00:26,  3.40it/s]"
     ]
    },
    {
     "name": "stdout",
     "output_type": "stream",
     "text": [
      "current processing file ['../../../../../Speech_DataSets/wavDataset20200807/noise/NNoise_mod0716/tiger.dat.wav'\n",
      " '0']\n"
     ]
    },
    {
     "name": "stderr",
     "output_type": "stream",
     "text": [
      "\r",
      " 77%|███████▋  | 299/388 [01:48<00:25,  3.44it/s]"
     ]
    },
    {
     "name": "stdout",
     "output_type": "stream",
     "text": [
      "current processing file ['../../../../../Speech_DataSets/wavDataset20200807/speech/Chinese_20180730/BL.wav'\n",
      " '1']\n"
     ]
    },
    {
     "name": "stderr",
     "output_type": "stream",
     "text": [
      " 78%|███████▊  | 301/388 [01:49<00:21,  3.98it/s]"
     ]
    },
    {
     "name": "stdout",
     "output_type": "stream",
     "text": [
      "current processing file ['../../../../../Speech_DataSets/wavDataset20200807/noise/NNoise_mod0716/Wolf.wav'\n",
      " '0']\n",
      "current processing file ['../../../../../Speech_DataSets/wavDataset20200807/noise/NNoise_mod0716/M1_Tune Clean.dat.wav'\n",
      " '0']\n"
     ]
    },
    {
     "name": "stderr",
     "output_type": "stream",
     "text": [
      "\r",
      " 78%|███████▊  | 302/388 [01:49<00:22,  3.80it/s]"
     ]
    },
    {
     "name": "stdout",
     "output_type": "stream",
     "text": [
      "current processing file ['../../../../../Speech_DataSets/wavDataset20200807/noise/NNoise_mod0716/⌐╘╡í├«┴n¡╡(ñ⌠Ñ¡ª╩╕¡╜¼ªí).wav'\n",
      " '0']\n"
     ]
    },
    {
     "name": "stderr",
     "output_type": "stream",
     "text": [
      "\r",
      " 78%|███████▊  | 303/388 [01:49<00:24,  3.46it/s]"
     ]
    },
    {
     "name": "stdout",
     "output_type": "stream",
     "text": [
      "current processing file ['../../../../../Speech_DataSets/wavDataset20200807/noise/NNoise_mod0716/s╢}│⌡.dat.wav'\n",
      " '0']\n"
     ]
    },
    {
     "name": "stderr",
     "output_type": "stream",
     "text": [
      "\r",
      " 78%|███████▊  | 304/388 [01:50<00:24,  3.47it/s]"
     ]
    },
    {
     "name": "stdout",
     "output_type": "stream",
     "text": [
      "current processing file ['../../../../../Speech_DataSets/wavDataset20200807/noise/NNoise_mod0716/Arrow.dat.wav'\n",
      " '0']\n"
     ]
    },
    {
     "name": "stderr",
     "output_type": "stream",
     "text": [
      "\r",
      " 79%|███████▊  | 305/388 [01:50<00:23,  3.49it/s]"
     ]
    },
    {
     "name": "stdout",
     "output_type": "stream",
     "text": [
      "current processing file ['../../../../../Speech_DataSets/wavDataset20200807/noise/NNoise_mod0716/M2_╢}│⌡.dat.wav'\n",
      " '0']\n"
     ]
    },
    {
     "name": "stderr",
     "output_type": "stream",
     "text": [
      "\r",
      " 79%|███████▉  | 306/388 [01:50<00:23,  3.50it/s]"
     ]
    },
    {
     "name": "stdout",
     "output_type": "stream",
     "text": [
      "current processing file ['../../../../../Speech_DataSets/wavDataset20200807/speech/MIR-1K/jmzen_2_lyrics.wav'\n",
      " '1']\n"
     ]
    },
    {
     "name": "stderr",
     "output_type": "stream",
     "text": [
      "\r",
      " 79%|███████▉  | 307/388 [01:51<00:26,  3.06it/s]"
     ]
    },
    {
     "name": "stdout",
     "output_type": "stream",
     "text": [
      "current processing file ['../../../../../Speech_DataSets/wavDataset20200807/speech/MIR-1K/heycat_5_lyrics.wav'\n",
      " '1']\n"
     ]
    },
    {
     "name": "stderr",
     "output_type": "stream",
     "text": [
      "\r",
      " 79%|███████▉  | 308/388 [01:51<00:28,  2.81it/s]"
     ]
    },
    {
     "name": "stdout",
     "output_type": "stream",
     "text": [
      "current processing file ['../../../../../Speech_DataSets/wavDataset20200807/noise/NNoise_mod0716/ñΓ║V╡íñß¼┴╝■.wav'\n",
      " '0']\n"
     ]
    },
    {
     "name": "stderr",
     "output_type": "stream",
     "text": [
      "\r",
      " 80%|███████▉  | 309/388 [01:51<00:27,  2.85it/s]"
     ]
    },
    {
     "name": "stdout",
     "output_type": "stream",
     "text": [
      "current processing file ['../../../../../Speech_DataSets/wavDataset20200807/speech/MIR-1K/fdps_1_lyrics.wav'\n",
      " '1']\n"
     ]
    },
    {
     "name": "stderr",
     "output_type": "stream",
     "text": [
      "\r",
      " 80%|███████▉  | 310/388 [01:52<00:28,  2.72it/s]"
     ]
    },
    {
     "name": "stdout",
     "output_type": "stream",
     "text": [
      "current processing file ['../../../../../Speech_DataSets/wavDataset20200807/speech/MIR-1K/leon_8_lyrics.wav'\n",
      " '1']\n"
     ]
    },
    {
     "name": "stderr",
     "output_type": "stream",
     "text": [
      "\r",
      " 80%|████████  | 311/388 [01:52<00:27,  2.76it/s]"
     ]
    },
    {
     "name": "stdout",
     "output_type": "stream",
     "text": [
      "current processing file ['../../../../../Speech_DataSets/wavDataset20200807/noise/NNoise_mod0716/⌐τ└úºJñO.dat.wav'\n",
      " '0']\n"
     ]
    },
    {
     "name": "stderr",
     "output_type": "stream",
     "text": [
      "\r",
      " 80%|████████  | 312/388 [01:52<00:25,  2.95it/s]"
     ]
    },
    {
     "name": "stdout",
     "output_type": "stream",
     "text": [
      "current processing file ['../../../../../Speech_DataSets/wavDataset20200807/noise/NNoise_mod0716/⌐∞⌐╘┐∞ñ╜┤╚.wav'\n",
      " '0']\n"
     ]
    },
    {
     "name": "stderr",
     "output_type": "stream",
     "text": [
      "\r",
      " 81%|████████  | 313/388 [01:53<00:25,  2.94it/s]"
     ]
    },
    {
     "name": "stdout",
     "output_type": "stream",
     "text": [
      "current processing file ['../../../../../Speech_DataSets/wavDataset20200807/noise/NNoise_mod0716/M1_╕╣¿ñ.dat.wav'\n",
      " '0']\n"
     ]
    },
    {
     "name": "stderr",
     "output_type": "stream",
     "text": [
      "\r",
      " 81%|████████  | 314/388 [01:53<00:23,  3.09it/s]"
     ]
    },
    {
     "name": "stdout",
     "output_type": "stream",
     "text": [
      "current processing file ['../../../../../Speech_DataSets/wavDataset20200807/speech/MIR-1K/bug_1_lyrics.wav'\n",
      " '1']\n"
     ]
    },
    {
     "name": "stderr",
     "output_type": "stream",
     "text": [
      "\r",
      " 81%|████████  | 315/388 [01:53<00:24,  3.00it/s]"
     ]
    },
    {
     "name": "stdout",
     "output_type": "stream",
     "text": [
      "current processing file ['../../../../../Speech_DataSets/wavDataset20200807/noise/NNoise_mod0716/A1_╞j.dat.wav'\n",
      " '0']\n"
     ]
    },
    {
     "name": "stderr",
     "output_type": "stream",
     "text": [
      "\r",
      " 81%|████████▏ | 316/388 [01:54<00:22,  3.14it/s]"
     ]
    },
    {
     "name": "stdout",
     "output_type": "stream",
     "text": [
      "current processing file ['../../../../../Speech_DataSets/wavDataset20200807/noise/NNoise_mod0716/BellTree.dat.wav'\n",
      " '0']\n"
     ]
    },
    {
     "name": "stderr",
     "output_type": "stream",
     "text": [
      "\r",
      " 82%|████████▏ | 317/388 [01:54<00:21,  3.25it/s]"
     ]
    },
    {
     "name": "stdout",
     "output_type": "stream",
     "text": [
      "current processing file ['../../../../../Speech_DataSets/wavDataset20200807/noise/NNoise_mod0716/elephant.dat.wav'\n",
      " '0']\n"
     ]
    },
    {
     "name": "stderr",
     "output_type": "stream",
     "text": [
      "\r",
      " 82%|████████▏ | 318/388 [01:54<00:21,  3.33it/s]"
     ]
    },
    {
     "name": "stdout",
     "output_type": "stream",
     "text": [
      "current processing file ['../../../../../Speech_DataSets/wavDataset20200807/speech/WeiFangVocal_20180220/Sweety.wav'\n",
      " '1']\n"
     ]
    },
    {
     "name": "stderr",
     "output_type": "stream",
     "text": [
      "\r",
      " 82%|████████▏ | 319/388 [01:55<00:22,  3.03it/s]"
     ]
    },
    {
     "name": "stdout",
     "output_type": "stream",
     "text": [
      "current processing file ['../../../../../Speech_DataSets/wavDataset20200807/noise/NNoise_mod0716/╡L┼T_╢}│⌡.dat.wav'\n",
      " '0']\n"
     ]
    },
    {
     "name": "stderr",
     "output_type": "stream",
     "text": [
      "\r",
      " 82%|████████▏ | 320/388 [01:55<00:21,  3.16it/s]"
     ]
    },
    {
     "name": "stdout",
     "output_type": "stream",
     "text": [
      "current processing file ['../../../../../Speech_DataSets/wavDataset20200807/noise/NNoise_mod0716/┤í«y╢}├÷.wav'\n",
      " '0']\n"
     ]
    },
    {
     "name": "stderr",
     "output_type": "stream",
     "text": [
      "\r",
      " 83%|████████▎ | 321/388 [01:55<00:19,  3.46it/s]"
     ]
    },
    {
     "name": "stdout",
     "output_type": "stream",
     "text": [
      "current processing file ['../../../../../Speech_DataSets/wavDataset20200807/speech/MIR-1K/Kenshin_5_lyrics.wav'\n",
      " '1']\n"
     ]
    },
    {
     "name": "stderr",
     "output_type": "stream",
     "text": [
      "\r",
      " 83%|████████▎ | 322/388 [01:56<00:20,  3.18it/s]"
     ]
    },
    {
     "name": "stdout",
     "output_type": "stream",
     "text": [
      "current processing file ['../../../../../Speech_DataSets/wavDataset20200807/speech/MIR-1K/amy_1_lyrics.wav'\n",
      " '1']\n"
     ]
    },
    {
     "name": "stderr",
     "output_type": "stream",
     "text": [
      "\r",
      " 83%|████████▎ | 323/388 [01:56<00:21,  3.08it/s]"
     ]
    },
    {
     "name": "stdout",
     "output_type": "stream",
     "text": [
      "current processing file ['../../../../../Speech_DataSets/wavDataset20200807/noise/NNoise_mod0716/Summer.dat.wav'\n",
      " '0']\n"
     ]
    },
    {
     "name": "stderr",
     "output_type": "stream",
     "text": [
      "\r",
      " 84%|████████▎ | 324/388 [01:56<00:19,  3.20it/s]"
     ]
    },
    {
     "name": "stdout",
     "output_type": "stream",
     "text": [
      "current processing file ['../../../../../Speech_DataSets/wavDataset20200807/noise/NNoise_mod0716/M1_Mic noise SCK.dat.wav'\n",
      " '0']\n"
     ]
    },
    {
     "name": "stderr",
     "output_type": "stream",
     "text": [
      "\r",
      " 84%|████████▍ | 325/388 [01:56<00:19,  3.29it/s]"
     ]
    },
    {
     "name": "stdout",
     "output_type": "stream",
     "text": [
      "current processing file ['../../../../../Speech_DataSets/wavDataset20200807/noise/NNoise_mod0716/A1_P20_Flow.dat.wav'\n",
      " '0']\n"
     ]
    },
    {
     "name": "stderr",
     "output_type": "stream",
     "text": [
      "\r",
      " 84%|████████▍ | 326/388 [01:57<00:18,  3.35it/s]"
     ]
    },
    {
     "name": "stdout",
     "output_type": "stream",
     "text": [
      "current processing file ['../../../../../Speech_DataSets/wavDataset20200807/noise/NNoise_mod0716/frog.dat.wav'\n",
      " '0']\n"
     ]
    },
    {
     "name": "stderr",
     "output_type": "stream",
     "text": [
      " 85%|████████▍ | 329/388 [01:57<00:13,  4.26it/s]"
     ]
    },
    {
     "name": "stdout",
     "output_type": "stream",
     "text": [
      "current processing file ['../../../../../Speech_DataSets/wavDataset20200807/noise/NNoise_mod0716/ºC└W║VñΓ½ⁿ.dat.wav'\n",
      " '0']\n",
      "current processing file ['../../../../../Speech_DataSets/wavDataset20200807/noise/NNoise_mod0716/º╓│t║V«αñl.wav'\n",
      " '0']\n",
      "current processing file ['../../../../../Speech_DataSets/wavDataset20200807/noise/NNoise_mod0716/EMT_ñWñ╔.dat.wav'\n",
      " '0']\n"
     ]
    },
    {
     "name": "stderr",
     "output_type": "stream",
     "text": [
      "\r",
      " 85%|████████▌ | 330/388 [01:58<00:14,  3.95it/s]"
     ]
    },
    {
     "name": "stdout",
     "output_type": "stream",
     "text": [
      "current processing file ['../../../../../Speech_DataSets/wavDataset20200807/speech/MIR-1K/davidson_3_lyrics.wav'\n",
      " '1']\n"
     ]
    },
    {
     "name": "stderr",
     "output_type": "stream",
     "text": [
      "\r",
      " 85%|████████▌ | 331/388 [01:58<00:17,  3.30it/s]"
     ]
    },
    {
     "name": "stdout",
     "output_type": "stream",
     "text": [
      "current processing file ['../../../../../Speech_DataSets/wavDataset20200807/speech/WeiFangVocal_20180220/kelen_re_20181127.wav'\n",
      " '1']\n"
     ]
    },
    {
     "name": "stderr",
     "output_type": "stream",
     "text": [
      "\r",
      " 86%|████████▌ | 332/388 [01:58<00:20,  2.78it/s]"
     ]
    },
    {
     "name": "stdout",
     "output_type": "stream",
     "text": [
      "current processing file ['../../../../../Speech_DataSets/wavDataset20200807/noise/NNoise_mod0716/║º║├re.dat.wav'\n",
      " '0']\n"
     ]
    },
    {
     "name": "stderr",
     "output_type": "stream",
     "text": [
      "\r",
      " 86%|████████▌ | 333/388 [01:59<00:18,  2.95it/s]"
     ]
    },
    {
     "name": "stdout",
     "output_type": "stream",
     "text": [
      "current processing file ['../../../../../Speech_DataSets/wavDataset20200807/speech/MIR-1K/khair_5_lyrics.wav'\n",
      " '1']\n"
     ]
    },
    {
     "name": "stderr",
     "output_type": "stream",
     "text": [
      "\r",
      " 86%|████████▌ | 334/388 [01:59<00:17,  3.12it/s]"
     ]
    },
    {
     "name": "stdout",
     "output_type": "stream",
     "text": [
      "current processing file ['../../../../../Speech_DataSets/wavDataset20200807/speech/MIR-1K/amy_5_lyrics.wav'\n",
      " '1']\n"
     ]
    },
    {
     "name": "stderr",
     "output_type": "stream",
     "text": [
      "\r",
      " 86%|████████▋ | 335/388 [01:59<00:17,  3.01it/s]"
     ]
    },
    {
     "name": "stdout",
     "output_type": "stream",
     "text": [
      "current processing file ['../../../../../Speech_DataSets/wavDataset20200807/noise/NNoise_mod0716/s╣C└╕«╔╢í.dat.wav'\n",
      " '0']\n"
     ]
    },
    {
     "name": "stderr",
     "output_type": "stream",
     "text": [
      "\r",
      " 87%|████████▋ | 336/388 [02:00<00:16,  3.15it/s]"
     ]
    },
    {
     "name": "stdout",
     "output_type": "stream",
     "text": [
      "current processing file ['../../../../../Speech_DataSets/wavDataset20200807/noise/NNoise_mod0716/M1_╖α.dat.wav'\n",
      " '0']\n"
     ]
    },
    {
     "name": "stderr",
     "output_type": "stream",
     "text": [
      "\r",
      " 87%|████████▋ | 337/388 [02:00<00:15,  3.20it/s]"
     ]
    },
    {
     "name": "stdout",
     "output_type": "stream",
     "text": [
      "current processing file ['../../../../../Speech_DataSets/wavDataset20200807/noise/NNoise_mod0716/iphone_test_train_part2.dat.wav'\n",
      " '0']\n"
     ]
    },
    {
     "name": "stderr",
     "output_type": "stream",
     "text": [
      "\r",
      " 87%|████████▋ | 338/388 [02:00<00:15,  3.29it/s]"
     ]
    },
    {
     "name": "stdout",
     "output_type": "stream",
     "text": [
      "current processing file ['../../../../../Speech_DataSets/wavDataset20200807/noise/NNoise_mod0716/ñ√.dat.wav'\n",
      " '0']\n"
     ]
    },
    {
     "name": "stderr",
     "output_type": "stream",
     "text": [
      "\r",
      " 87%|████████▋ | 339/388 [02:01<00:14,  3.35it/s]"
     ]
    },
    {
     "name": "stdout",
     "output_type": "stream",
     "text": [
      "current processing file ['../../../../../Speech_DataSets/wavDataset20200807/speech/MIR-1K/titon_2_lyrics.wav'\n",
      " '1']\n"
     ]
    },
    {
     "name": "stderr",
     "output_type": "stream",
     "text": [
      "\r",
      " 88%|████████▊ | 340/388 [02:01<00:15,  3.18it/s]"
     ]
    },
    {
     "name": "stdout",
     "output_type": "stream",
     "text": [
      "current processing file ['../../../../../Speech_DataSets/wavDataset20200807/speech/MIR-1K/titon_1_lyrics.wav'\n",
      " '1']\n"
     ]
    },
    {
     "name": "stderr",
     "output_type": "stream",
     "text": [
      "\r",
      " 88%|████████▊ | 341/388 [02:01<00:16,  2.85it/s]"
     ]
    },
    {
     "name": "stdout",
     "output_type": "stream",
     "text": [
      "current processing file ['../../../../../Speech_DataSets/wavDataset20200807/noise/NNoise_mod0716/╢}│⌡_├Σ╢ímeetingroom.dat.wav'\n",
      " '0']\n"
     ]
    },
    {
     "name": "stderr",
     "output_type": "stream",
     "text": [
      " 88%|████████▊ | 343/388 [02:02<00:12,  3.72it/s]"
     ]
    },
    {
     "name": "stdout",
     "output_type": "stream",
     "text": [
      "current processing file ['../../../../../Speech_DataSets/wavDataset20200807/noise/NNoise_mod0716/Horse.wav'\n",
      " '0']\n",
      "current processing file ['../../../../../Speech_DataSets/wavDataset20200807/speech/MIR-1K/khair_3_lyrics.wav'\n",
      " '1']\n"
     ]
    },
    {
     "name": "stderr",
     "output_type": "stream",
     "text": [
      "\r",
      " 89%|████████▊ | 344/388 [02:02<00:11,  3.69it/s]"
     ]
    },
    {
     "name": "stdout",
     "output_type": "stream",
     "text": [
      "current processing file ['../../../../../Speech_DataSets/wavDataset20200807/speech/MIR-1K/leon_2_lyrics.wav'\n",
      " '1']\n"
     ]
    },
    {
     "name": "stderr",
     "output_type": "stream",
     "text": [
      "\r",
      " 89%|████████▉ | 345/388 [02:02<00:12,  3.33it/s]"
     ]
    },
    {
     "name": "stdout",
     "output_type": "stream",
     "text": [
      "current processing file ['../../../../../Speech_DataSets/wavDataset20200807/speech/MIR-1K/ABJones_4_lyrics.wav'\n",
      " '1']\n"
     ]
    },
    {
     "name": "stderr",
     "output_type": "stream",
     "text": [
      "\r",
      " 89%|████████▉ | 346/388 [02:03<00:14,  2.93it/s]"
     ]
    },
    {
     "name": "stdout",
     "output_type": "stream",
     "text": [
      "current processing file ['../../../../../Speech_DataSets/wavDataset20200807/speech/MIR-1K/heycat_3_lyrics.wav'\n",
      " '1']\n"
     ]
    },
    {
     "name": "stderr",
     "output_type": "stream",
     "text": [
      "\r",
      " 89%|████████▉ | 347/388 [02:03<00:15,  2.66it/s]"
     ]
    },
    {
     "name": "stdout",
     "output_type": "stream",
     "text": [
      "current processing file ['../../../../../Speech_DataSets/wavDataset20200807/speech/MIR-1K/ariel_4_lyrics.wav'\n",
      " '1']\n"
     ]
    },
    {
     "name": "stderr",
     "output_type": "stream",
     "text": [
      "\r",
      " 90%|████████▉ | 348/388 [02:04<00:14,  2.71it/s]"
     ]
    },
    {
     "name": "stdout",
     "output_type": "stream",
     "text": [
      "current processing file ['../../../../../Speech_DataSets/wavDataset20200807/noise/NNoise_mod0716/M1_└n.dat.wav'\n",
      " '0']\n"
     ]
    },
    {
     "name": "stderr",
     "output_type": "stream",
     "text": [
      "\r",
      " 90%|████████▉ | 349/388 [02:04<00:13,  2.90it/s]"
     ]
    },
    {
     "name": "stdout",
     "output_type": "stream",
     "text": [
      "current processing file ['../../../../../Speech_DataSets/wavDataset20200807/speech/MIR-1K/fdps_2_lyrics.wav'\n",
      " '1']\n"
     ]
    },
    {
     "name": "stderr",
     "output_type": "stream",
     "text": [
      "\r",
      " 90%|█████████ | 350/388 [02:04<00:13,  2.80it/s]"
     ]
    },
    {
     "name": "stdout",
     "output_type": "stream",
     "text": [
      "current processing file ['../../../../../Speech_DataSets/wavDataset20200807/noise/NNoise_mod0716/¼P«y.dat.wav'\n",
      " '0']\n"
     ]
    },
    {
     "name": "stderr",
     "output_type": "stream",
     "text": [
      "\r",
      " 90%|█████████ | 351/388 [02:05<00:12,  2.97it/s]"
     ]
    },
    {
     "name": "stdout",
     "output_type": "stream",
     "text": [
      "current processing file ['../../../../../Speech_DataSets/wavDataset20200807/speech/MIR-1K/khair_1_lyrics.wav'\n",
      " '1']\n"
     ]
    },
    {
     "name": "stderr",
     "output_type": "stream",
     "text": [
      "\r",
      " 91%|█████████ | 352/388 [02:05<00:11,  3.03it/s]"
     ]
    },
    {
     "name": "stdout",
     "output_type": "stream",
     "text": [
      "current processing file ['../../../../../Speech_DataSets/wavDataset20200807/noise/NNoise_mod0716/¬i«÷.dat.wav'\n",
      " '0']\n"
     ]
    },
    {
     "name": "stderr",
     "output_type": "stream",
     "text": [
      "\r",
      " 91%|█████████ | 353/388 [02:05<00:11,  3.15it/s]"
     ]
    },
    {
     "name": "stdout",
     "output_type": "stream",
     "text": [
      "current processing file ['../../../../../Speech_DataSets/wavDataset20200807/noise/NNoise_mod0716/Ñ╒¬O╡ºñ¼║V.wav'\n",
      " '0']\n"
     ]
    },
    {
     "name": "stderr",
     "output_type": "stream",
     "text": [
      "\r",
      " 91%|█████████ | 354/388 [02:06<00:10,  3.15it/s]"
     ]
    },
    {
     "name": "stdout",
     "output_type": "stream",
     "text": [
      "current processing file ['../../../../../Speech_DataSets/wavDataset20200807/noise/NNoise_mod0716/º╓│t½ⁿ║V«αñl 1.wav'\n",
      " '0']\n"
     ]
    },
    {
     "name": "stderr",
     "output_type": "stream",
     "text": [
      " 92%|█████████▏| 356/388 [02:06<00:08,  3.82it/s]"
     ]
    },
    {
     "name": "stdout",
     "output_type": "stream",
     "text": [
      "current processing file ['../../../../../Speech_DataSets/wavDataset20200807/noise/NNoise_mod0716/╡í├«⌐╘╗µÑ╧░╩.wav'\n",
      " '0']\n",
      "current processing file ['../../../../../Speech_DataSets/wavDataset20200807/noise/NNoise_mod0716/╕}¿B┴n.dat.wav'\n",
      " '0']\n"
     ]
    },
    {
     "name": "stderr",
     "output_type": "stream",
     "text": [
      "\r",
      " 92%|█████████▏| 357/388 [02:06<00:08,  3.71it/s]"
     ]
    },
    {
     "name": "stdout",
     "output_type": "stream",
     "text": [
      "current processing file ['../../../../../Speech_DataSets/wavDataset20200807/noise/NNoise_mod0716/A1_ñWñ╔.dat.wav'\n",
      " '0']\n"
     ]
    },
    {
     "name": "stderr",
     "output_type": "stream",
     "text": [
      "\r",
      " 92%|█████████▏| 358/388 [02:07<00:08,  3.63it/s]"
     ]
    },
    {
     "name": "stdout",
     "output_type": "stream",
     "text": [
      "current processing file ['../../../../../Speech_DataSets/wavDataset20200807/noise/NNoise_mod0716/horse.dat.wav'\n",
      " '0']\n"
     ]
    },
    {
     "name": "stderr",
     "output_type": "stream",
     "text": [
      "\r",
      " 93%|█████████▎| 359/388 [02:07<00:08,  3.56it/s]"
     ]
    },
    {
     "name": "stdout",
     "output_type": "stream",
     "text": [
      "current processing file ['../../../../../Speech_DataSets/wavDataset20200807/noise/NNoise_mod0716/╢┬ªΓ╣q╝v.dat.wav'\n",
      " '0']\n"
     ]
    },
    {
     "name": "stderr",
     "output_type": "stream",
     "text": [
      "\r",
      " 93%|█████████▎| 360/388 [02:07<00:07,  3.52it/s]"
     ]
    },
    {
     "name": "stdout",
     "output_type": "stream",
     "text": [
      "current processing file ['../../../../../Speech_DataSets/wavDataset20200807/noise/NNoise_mod0716/M1_⌐τ«α1.dat.wav'\n",
      " '0']\n"
     ]
    },
    {
     "name": "stderr",
     "output_type": "stream",
     "text": [
      "\r",
      " 93%|█████████▎| 361/388 [02:07<00:07,  3.50it/s]"
     ]
    },
    {
     "name": "stdout",
     "output_type": "stream",
     "text": [
      "current processing file ['../../../../../Speech_DataSets/wavDataset20200807/noise/NNoise_mod0716/╕}¿B┴n.wav'\n",
      " '0']\n"
     ]
    },
    {
     "name": "stderr",
     "output_type": "stream",
     "text": [
      "\r",
      " 93%|█████████▎| 362/388 [02:08<00:07,  3.47it/s]"
     ]
    },
    {
     "name": "stdout",
     "output_type": "stream",
     "text": [
      "current processing file ['../../../../../Speech_DataSets/wavDataset20200807/speech/Chinese_20180730/A_Z_YT.wav'\n",
      " '1']\n"
     ]
    },
    {
     "name": "stderr",
     "output_type": "stream",
     "text": [
      "\r",
      " 94%|█████████▎| 363/388 [02:08<00:08,  3.11it/s]"
     ]
    },
    {
     "name": "stdout",
     "output_type": "stream",
     "text": [
      "current processing file ['../../../../../Speech_DataSets/wavDataset20200807/noise/NNoise_mod0716/M1_├╣╗½║~.dat.wav'\n",
      " '0']\n"
     ]
    },
    {
     "name": "stderr",
     "output_type": "stream",
     "text": [
      "\r",
      " 94%|█████████▍| 364/388 [02:08<00:07,  3.21it/s]"
     ]
    },
    {
     "name": "stdout",
     "output_type": "stream",
     "text": [
      "current processing file ['../../../../../Speech_DataSets/wavDataset20200807/noise/NNoise_mod0716/1016║Vñ∞¬O╣j╢í.dat.wav'\n",
      " '0']\n"
     ]
    },
    {
     "name": "stderr",
     "output_type": "stream",
     "text": [
      "\r",
      " 94%|█████████▍| 365/388 [02:09<00:07,  3.29it/s]"
     ]
    },
    {
     "name": "stdout",
     "output_type": "stream",
     "text": [
      "current processing file ['../../../../../Speech_DataSets/wavDataset20200807/speech/MIR-1K/amy_7_lyrics.wav'\n",
      " '1']\n"
     ]
    },
    {
     "name": "stderr",
     "output_type": "stream",
     "text": [
      "\r",
      " 94%|█████████▍| 366/388 [02:09<00:07,  3.11it/s]"
     ]
    },
    {
     "name": "stdout",
     "output_type": "stream",
     "text": [
      "current processing file ['../../../../../Speech_DataSets/wavDataset20200807/noise/NNoise_mod0716/╖|─│½╟╣q╕▄╝╖╕╣.wav'\n",
      " '0']\n"
     ]
    },
    {
     "name": "stderr",
     "output_type": "stream",
     "text": [
      "\r",
      " 95%|█████████▍| 367/388 [02:09<00:06,  3.14it/s]"
     ]
    },
    {
     "name": "stdout",
     "output_type": "stream",
     "text": [
      "current processing file ['../../../../../Speech_DataSets/wavDataset20200807/noise/NNoise_mod0716/M1_╢}│⌡╝╓.dat.wav'\n",
      " '0']\n"
     ]
    },
    {
     "name": "stderr",
     "output_type": "stream",
     "text": [
      "\r",
      " 95%|█████████▍| 368/388 [02:10<00:06,  3.24it/s]"
     ]
    },
    {
     "name": "stdout",
     "output_type": "stream",
     "text": [
      "current processing file ['../../../../../Speech_DataSets/wavDataset20200807/noise/NNoise_mod0716/┬√.dat.wav'\n",
      " '0']\n"
     ]
    },
    {
     "name": "stderr",
     "output_type": "stream",
     "text": [
      "\r",
      " 95%|█████████▌| 369/388 [02:10<00:05,  3.31it/s]"
     ]
    },
    {
     "name": "stdout",
     "output_type": "stream",
     "text": [
      "current processing file ['../../../../../Speech_DataSets/wavDataset20200807/noise/NNoise_mod0716/╢}│⌡.dat.wav'\n",
      " '0']\n"
     ]
    },
    {
     "name": "stderr",
     "output_type": "stream",
     "text": [
      "\r",
      " 95%|█████████▌| 370/388 [02:10<00:05,  3.36it/s]"
     ]
    },
    {
     "name": "stdout",
     "output_type": "stream",
     "text": [
      "current processing file ['../../../../../Speech_DataSets/wavDataset20200807/noise/NNoise_mod0716/╡í├«1.wav'\n",
      " '0']\n"
     ]
    },
    {
     "name": "stderr",
     "output_type": "stream",
     "text": [
      "\r",
      " 96%|█████████▌| 371/388 [02:10<00:04,  3.55it/s]"
     ]
    },
    {
     "name": "stdout",
     "output_type": "stream",
     "text": [
      "current processing file ['../../../../../Speech_DataSets/wavDataset20200807/noise/NNoise_mod0716/s─╡│°╛╣.dat.wav'\n",
      " '0']\n"
     ]
    },
    {
     "name": "stderr",
     "output_type": "stream",
     "text": [
      "\r",
      " 96%|█████████▌| 372/388 [02:11<00:04,  3.53it/s]"
     ]
    },
    {
     "name": "stdout",
     "output_type": "stream",
     "text": [
      "current processing file ['../../../../../Speech_DataSets/wavDataset20200807/noise/NNoise_mod0716/⌐τ«α2.dat.wav'\n",
      " '0']\n"
     ]
    },
    {
     "name": "stderr",
     "output_type": "stream",
     "text": [
      "\r",
      " 96%|█████████▌| 373/388 [02:11<00:04,  3.52it/s]"
     ]
    },
    {
     "name": "stdout",
     "output_type": "stream",
     "text": [
      "current processing file ['../../../../../Speech_DataSets/wavDataset20200807/speech/MIR-1K/Ani_5_lyrics.wav'\n",
      " '1']\n"
     ]
    },
    {
     "name": "stderr",
     "output_type": "stream",
     "text": [
      "\r",
      " 96%|█████████▋| 374/388 [02:11<00:04,  3.35it/s]"
     ]
    },
    {
     "name": "stdout",
     "output_type": "stream",
     "text": [
      "current processing file ['../../../../../Speech_DataSets/wavDataset20200807/noise/NNoise_mod0716/Zen.dat.wav'\n",
      " '0']\n"
     ]
    },
    {
     "name": "stderr",
     "output_type": "stream",
     "text": [
      "\r",
      " 97%|█████████▋| 375/388 [02:12<00:03,  3.39it/s]"
     ]
    },
    {
     "name": "stdout",
     "output_type": "stream",
     "text": [
      "current processing file ['../../../../../Speech_DataSets/wavDataset20200807/speech/MIR-1K/jmzen_5_lyrics.wav'\n",
      " '1']\n"
     ]
    },
    {
     "name": "stderr",
     "output_type": "stream",
     "text": [
      "\r",
      " 97%|█████████▋| 376/388 [02:12<00:03,  3.13it/s]"
     ]
    },
    {
     "name": "stdout",
     "output_type": "stream",
     "text": [
      "current processing file ['../../../../../Speech_DataSets/wavDataset20200807/noise/NNoise_mod0716/║Vñ∞¬O╣j╢í.dat.wav'\n",
      " '0']\n"
     ]
    },
    {
     "name": "stderr",
     "output_type": "stream",
     "text": [
      "\r",
      " 97%|█████████▋| 377/388 [02:12<00:03,  3.16it/s]"
     ]
    },
    {
     "name": "stdout",
     "output_type": "stream",
     "text": [
      "current processing file ['../../../../../Speech_DataSets/wavDataset20200807/noise/NNoise_mod0716/M1_│D.dat.wav'\n",
      " '0']\n"
     ]
    },
    {
     "name": "stderr",
     "output_type": "stream",
     "text": [
      " 98%|█████████▊| 379/388 [02:13<00:02,  3.67it/s]"
     ]
    },
    {
     "name": "stdout",
     "output_type": "stream",
     "text": [
      "current processing file ['../../../../../Speech_DataSets/wavDataset20200807/noise/Evir/└⌠╣╥¡╡NOISE2.wav'\n",
      " '0']\n",
      "current processing file ['../../../../../Speech_DataSets/wavDataset20200807/speech/MIR-1K/amy_6_lyrics.wav'\n",
      " '1']\n"
     ]
    },
    {
     "name": "stderr",
     "output_type": "stream",
     "text": [
      "\r",
      " 98%|█████████▊| 380/388 [02:13<00:02,  3.21it/s]"
     ]
    },
    {
     "name": "stdout",
     "output_type": "stream",
     "text": [
      "current processing file ['../../../../../Speech_DataSets/wavDataset20200807/noise/NNoise_mod0716/╢i│⌡2.dat.wav'\n",
      " '0']\n"
     ]
    },
    {
     "name": "stderr",
     "output_type": "stream",
     "text": [
      "\r",
      " 98%|█████████▊| 381/388 [02:13<00:02,  3.28it/s]"
     ]
    },
    {
     "name": "stdout",
     "output_type": "stream",
     "text": [
      "current processing file ['../../../../../Speech_DataSets/wavDataset20200807/speech/MIR-1K/ariel_2_lyrics.wav'\n",
      " '1']\n"
     ]
    },
    {
     "name": "stderr",
     "output_type": "stream",
     "text": [
      "\r",
      " 98%|█████████▊| 382/388 [02:14<00:02,  2.88it/s]"
     ]
    },
    {
     "name": "stdout",
     "output_type": "stream",
     "text": [
      "current processing file ['../../../../../Speech_DataSets/wavDataset20200807/speech/MIR-1K/Ani_2_lyrics.wav'\n",
      " '1']\n"
     ]
    },
    {
     "name": "stderr",
     "output_type": "stream",
     "text": [
      "\r",
      " 99%|█████████▊| 383/388 [02:14<00:01,  2.87it/s]"
     ]
    },
    {
     "name": "stdout",
     "output_type": "stream",
     "text": [
      "current processing file ['../../../../../Speech_DataSets/wavDataset20200807/noise/NNoise_mod0716/M1_│╛│┌┴n.dat.wav'\n",
      " '0']\n"
     ]
    },
    {
     "name": "stderr",
     "output_type": "stream",
     "text": [
      "\r",
      " 99%|█████████▉| 384/388 [02:15<00:01,  3.03it/s]"
     ]
    },
    {
     "name": "stdout",
     "output_type": "stream",
     "text": [
      "current processing file ['../../../../../Speech_DataSets/wavDataset20200807/speech/MIR-1K/Ani_4_lyrics.wav'\n",
      " '1']\n"
     ]
    },
    {
     "name": "stderr",
     "output_type": "stream",
     "text": [
      "\r",
      " 99%|█████████▉| 385/388 [02:15<00:01,  2.72it/s]"
     ]
    },
    {
     "name": "stdout",
     "output_type": "stream",
     "text": [
      "current processing file ['../../../../../Speech_DataSets/wavDataset20200807/speech/MIR-1K/ABJones_1_lyrics.wav'\n",
      " '1']\n"
     ]
    },
    {
     "name": "stderr",
     "output_type": "stream",
     "text": [
      "\r",
      " 99%|█████████▉| 386/388 [02:15<00:00,  2.65it/s]"
     ]
    },
    {
     "name": "stdout",
     "output_type": "stream",
     "text": [
      "current processing file ['../../../../../Speech_DataSets/wavDataset20200807/speech/MIR-1K/davidson_1_lyrics.wav'\n",
      " '1']\n"
     ]
    },
    {
     "name": "stderr",
     "output_type": "stream",
     "text": [
      "\r",
      "100%|█████████▉| 387/388 [02:16<00:00,  2.59it/s]"
     ]
    },
    {
     "name": "stdout",
     "output_type": "stream",
     "text": [
      "current processing file ['../../../../../Speech_DataSets/wavDataset20200807/speech/MIR-1K/yifen_3_lyrics.wav'\n",
      " '1']\n"
     ]
    },
    {
     "name": "stderr",
     "output_type": "stream",
     "text": [
      "100%|██████████| 388/388 [02:16<00:00,  2.84it/s]\n"
     ]
    },
    {
     "name": "stdout",
     "output_type": "stream",
     "text": [
      "datalist length is 188890\n",
      "pass count is 188890\n",
      "loss count is 208072\n",
      "NCTU training mat files saved. |^_^| \n"
     ]
    }
   ],
   "source": [
    "run_main()"
   ]
  },
  {
   "cell_type": "code",
   "execution_count": null,
   "metadata": {},
   "outputs": [],
   "source": []
  },
  {
   "cell_type": "code",
   "execution_count": 15,
   "metadata": {},
   "outputs": [
    {
     "name": "stdout",
     "output_type": "stream",
     "text": [
      "[0.80377606 0.6238854  0.7635766  0.80573604 0.8625157  0.81235928\n",
      " 0.65905134 0.37587523 0.02184781 0.         0.82512304 0.62730566\n",
      " 0.78644113 0.86210281 0.97739804 0.8882958  0.76357258 0.51179199\n",
      " 0.19877121 0.18477867 0.79229399 0.60346704 0.7715273  0.8873823\n",
      " 0.99998772 0.89292575 0.80773199 0.53946976 0.22180993 0.19420531\n",
      " 0.80323529 0.56393243 0.761743   0.88027315 0.98323415 0.90284683\n",
      " 0.82732483 0.49738049 0.06597012 0.04113396]\n"
     ]
    }
   ],
   "source": [
    "matfile = \"./NCTU_TrainingData/nctuTrainData_Norm_red_icfb_009.mat\"\n",
    "mat_cnt = spio.loadmat(matfile)[\"x_data\"]\n",
    "print(mat_cnt[43403])"
   ]
  },
  {
   "cell_type": "code",
   "execution_count": 53,
   "metadata": {},
   "outputs": [
    {
     "name": "stdout",
     "output_type": "stream",
     "text": [
      "(1, 188623)\n"
     ]
    },
    {
     "ename": "TypeError",
     "evalue": "only size-1 arrays can be converted to Python scalars",
     "output_type": "error",
     "traceback": [
      "\u001b[0;31m---------------------------------------------------------------------------\u001b[0m",
      "\u001b[0;31mTypeError\u001b[0m                                 Traceback (most recent call last)",
      "\u001b[0;32m<ipython-input-53-b2010f92c246>\u001b[0m in \u001b[0;36m<module>\u001b[0;34m\u001b[0m\n\u001b[1;32m      3\u001b[0m \u001b[0mlbl_lst\u001b[0m \u001b[0;34m=\u001b[0m \u001b[0;34m[\u001b[0m\u001b[0;34m]\u001b[0m\u001b[0;34m\u001b[0m\u001b[0;34m\u001b[0m\u001b[0m\n\u001b[1;32m      4\u001b[0m \u001b[0;32mfor\u001b[0m \u001b[0mc\u001b[0m \u001b[0;32min\u001b[0m \u001b[0mlblary\u001b[0m\u001b[0;34m:\u001b[0m\u001b[0;34m\u001b[0m\u001b[0;34m\u001b[0m\u001b[0m\n\u001b[0;32m----> 5\u001b[0;31m     \u001b[0mcc\u001b[0m \u001b[0;34m=\u001b[0m \u001b[0mint\u001b[0m\u001b[0;34m(\u001b[0m\u001b[0mc\u001b[0m\u001b[0;34m)\u001b[0m\u001b[0;34m*\u001b[0m\u001b[0;36m1.0\u001b[0m\u001b[0;34m\u001b[0m\u001b[0;34m\u001b[0m\u001b[0m\n\u001b[0m\u001b[1;32m      6\u001b[0m     \u001b[0mlbl_lst\u001b[0m\u001b[0;34m.\u001b[0m\u001b[0mappend\u001b[0m\u001b[0;34m(\u001b[0m\u001b[0mcc\u001b[0m\u001b[0;34m)\u001b[0m\u001b[0;34m\u001b[0m\u001b[0;34m\u001b[0m\u001b[0m\n\u001b[1;32m      7\u001b[0m \u001b[0mnew_lbl_ary\u001b[0m \u001b[0;34m=\u001b[0m \u001b[0mnp\u001b[0m\u001b[0;34m.\u001b[0m\u001b[0marray\u001b[0m\u001b[0;34m(\u001b[0m\u001b[0mlbl_lst\u001b[0m\u001b[0;34m)\u001b[0m\u001b[0;34m\u001b[0m\u001b[0;34m\u001b[0m\u001b[0m\n",
      "\u001b[0;31mTypeError\u001b[0m: only size-1 arrays can be converted to Python scalars"
     ]
    }
   ],
   "source": [
    "lblary = spio.loadmat(\"./NCTU_TrainingData/nctuTrainLabel_red_icfb_wdataset20200807_20200810.mat\")[\"y_data\"]\n",
    "print(lblary.shape)\n",
    "lbl_lst = []\n",
    "for c in lblary:\n",
    "    cc = int(c)*1.0\n",
    "    lbl_lst.append(cc)\n",
    "new_lbl_ary = np.array(lbl_lst)\n",
    "new_lbl_ary = new_lbl_ary.reshape((1,len(new_lbl_ary)))\n",
    "# print(new_lbl_ary.shape)\n",
    "adict = {\"y_data\":new_lbl_ary}\n",
    "spio.savemat(\"./NCTU_TrainingData/nctuTrainLabel_Norm_red_icfb_20200813.mat\", adict, oned_as='col')\n",
    "# save_dict = {\"y_data\":trans_lblary}\n",
    "# spio.savemat(\"./NCTU_TrainingData/nctuTrainLabel_Norm_red_icfb_009.mat\",save_dict, oned_as='col')"
   ]
  },
  {
   "cell_type": "code",
   "execution_count": 29,
   "metadata": {},
   "outputs": [
    {
     "name": "stdout",
     "output_type": "stream",
     "text": [
      "981275\n",
      "16000\n",
      "981275\n",
      "16000\n"
     ]
    }
   ],
   "source": [
    "test_wav2 = \"../../Speech_DataSets/wavDataset20200807/speech/MIR-1K/ABJones_1_lyrics.wav\"\n",
    "wav_sig, sr = librosa.load(test_wav2, mono=True, sr=16000)#sciwav.read(test_wav2)\n",
    "sr2, wav_sig2 = sciwav.read(test_wav2)\n",
    "print(len(wav_sig))\n",
    "print(sr)\n",
    "print(len(wav_sig2))\n",
    "print(sr2)\n",
    "# print(wav_sig)"
   ]
  },
  {
   "cell_type": "code",
   "execution_count": null,
   "metadata": {},
   "outputs": [],
   "source": []
  },
  {
   "cell_type": "code",
   "execution_count": null,
   "metadata": {},
   "outputs": [],
   "source": []
  }
 ],
 "metadata": {
  "kernelspec": {
   "display_name": "Python 3",
   "language": "python",
   "name": "python3"
  },
  "language_info": {
   "codemirror_mode": {
    "name": "ipython",
    "version": 3
   },
   "file_extension": ".py",
   "mimetype": "text/x-python",
   "name": "python",
   "nbconvert_exporter": "python",
   "pygments_lexer": "ipython3",
   "version": "3.7.7"
  }
 },
 "nbformat": 4,
 "nbformat_minor": 2
}
